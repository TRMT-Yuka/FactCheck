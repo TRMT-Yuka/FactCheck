{
 "cells": [
  {
   "cell_type": "markdown",
   "id": "5a84122d-591f-4779-b94d-50d2d15dfd7e",
   "metadata": {},
   "source": [
    "## 全データへの言語＋日付正規化"
   ]
  },
  {
   "cell_type": "code",
   "execution_count": 1,
   "id": "61b11af0",
   "metadata": {},
   "outputs": [
    {
     "name": "stderr",
     "output_type": "stream",
     "text": [
      "C:\\Users\\momo1\\AppData\\Local\\Temp\\ipykernel_112248\\802964034.py:4: DtypeWarning: Columns (14,24,25,41,42,43,44,45,46,47,48,49,50,51,52,53,54,55,56) have mixed types. Specify dtype option on import or set low_memory=False.\n",
      "  df = pd.read_csv(file_path)#244560\n"
     ]
    }
   ],
   "source": [
    "import pandas as pd\n",
    "\n",
    "file_path = \"fact_check_insights/claim_review.csv\"\n",
    "df = pd.read_csv(file_path)#244560"
   ]
  },
  {
   "cell_type": "code",
   "execution_count": null,
   "id": "c5af6303-7791-472f-8dea-926d93278786",
   "metadata": {},
   "outputs": [],
   "source": [
    "import pandas as pd\n",
    "from langdetect import detect, DetectorFactory\n",
    "\n",
    "# 安定した言語検出のためにランダムシードを設定\n",
    "DetectorFactory.seed = 0\n",
    "def detect_language(text):\n",
    "    try:\n",
    "        return detect(text)\n",
    "    except:\n",
    "        return 'unknown'\n",
    "\n",
    "df['language'] = df['claimReviewed'].apply(detect_language)"
   ]
  },
  {
   "cell_type": "code",
   "execution_count": 55,
   "id": "dd1622a6-8ac5-4fc9-b766-c67ba0923086",
   "metadata": {},
   "outputs": [],
   "source": [
    "df[\"datePublished\"] = pd.to_datetime(df[\"datePublished\"], errors='coerce',utc=True)\n",
    "df[\"itemReviewed.datePublished\"] = pd.to_datetime(df[\"itemReviewed.datePublished\"], errors='coerce',utc=True)"
   ]
  },
  {
   "cell_type": "code",
   "execution_count": 77,
   "id": "ac575ac1-94c1-4b24-84f6-a7eab9514a8e",
   "metadata": {},
   "outputs": [],
   "source": [
    "# from mymodule import read_bin,save_bin\n",
    "# save_bin(\"new_data2/all_df_lang.bin\",df)"
   ]
  },
  {
   "cell_type": "markdown",
   "id": "c9c7a582-58f5-4273-aa24-41975185ce6c",
   "metadata": {},
   "source": [
    "## 団体（英）ごとのデータ件数可視化"
   ]
  },
  {
   "cell_type": "code",
   "execution_count": 114,
   "id": "a8a080cd-8b1d-42c6-8a9e-81e53de27e47",
   "metadata": {},
   "outputs": [],
   "source": [
    "from mymodule import read_bin,save_bin\n",
    "# df = read_bin(\"new_data_2/all_df_lang.bin\")"
   ]
  },
  {
   "cell_type": "code",
   "execution_count": 115,
   "id": "4c685708-076b-46f8-b531-6a4b9d2b1a82",
   "metadata": {},
   "outputs": [],
   "source": [
    "df = df[df['language'] == \"en\"]"
   ]
  },
  {
   "cell_type": "code",
   "execution_count": 116,
   "id": "0eccdb01",
   "metadata": {},
   "outputs": [],
   "source": [
    "# 使用する列のみ選択\n",
    "df = df[['id', 'datePublished', 'url',\n",
    "         'itemReviewed.datePublished','claimReviewed',\n",
    "         'author.name',\n",
    "         'reviewRating.ratingValue',\n",
    "         'reviewRating.bestRating',\n",
    "         'reviewRating.worstRating',\n",
    "         'reviewRating.ratingExplanation',\n",
    "         \"reviewRating.alternateName\"]]"
   ]
  },
  {
   "cell_type": "code",
   "execution_count": 117,
   "id": "7eb60d62-5c0c-4779-8d7e-4e10af0ab8ce",
   "metadata": {},
   "outputs": [],
   "source": [
    "# l = [\"PolitiFact\",\"FACTLY\",\"Check Your Fact\",\"VERIFY\",\"Lead Stories LLC\",\"AFP\"]\n",
    "l = [\"PolitiFact\",\"FACTLY\",\"FactCheck.org\",\"Check Your Fact\",\"VERIFY\",\"Lead Stories LLC\"]\n",
    "df = df[df['author.name'].isin(l)]"
   ]
  },
  {
   "cell_type": "code",
   "execution_count": 118,
   "id": "09970a57-eb75-4201-9877-be1995fa387f",
   "metadata": {},
   "outputs": [],
   "source": [
    "# 列をintに変換\n",
    "import pandas as pd\n",
    "def convert_columns_to_int(df, col):\n",
    "    def convert_to_int(x):\n",
    "        try:\n",
    "            return int(float(x))\n",
    "        except ValueError:\n",
    "            return float('nan')\n",
    "            \n",
    "    df[col] = df[col].apply(convert_to_int).astype('Int64')\n",
    "    return df"
   ]
  },
  {
   "cell_type": "code",
   "execution_count": 119,
   "id": "3f0daed7-918a-4a20-a920-0c9ecfbc7510",
   "metadata": {},
   "outputs": [],
   "source": [
    "df = convert_columns_to_int(df,\"reviewRating.ratingValue\")\n",
    "df = df.fillna(-999)\n",
    "\n",
    "# save_bin(\"new_data_2/df_AB.bin\",df)"
   ]
  },
  {
   "cell_type": "code",
   "execution_count": 25,
   "id": "7e18ef0f-9a2e-48ba-b548-64375e512b31",
   "metadata": {},
   "outputs": [],
   "source": [
    "# import pandas as pd\n",
    "# specific_date = '2023-11-01'  ## GPT-4o（gpt-4o-2024-08-06）以降:13084\n",
    "# df_A = df[df['itemReviewed.datePublished'] >= pd.to_datetime(specific_date,utc=True)]#after:3702\n",
    "# df_B = df[df['datePublished'] < pd.to_datetime(specific_date,utc=True)]#before:25449"
   ]
  },
  {
   "cell_type": "code",
   "execution_count": 62,
   "id": "e05cbcf2-0fdd-45ce-9eac-0fd1e2b60941",
   "metadata": {},
   "outputs": [],
   "source": [
    "# df_A[\"author.name\"].value_counts().reset_index()"
   ]
  },
  {
   "cell_type": "code",
   "execution_count": 63,
   "id": "b734b2ce-2436-44a4-a61c-e58ecccb5069",
   "metadata": {},
   "outputs": [],
   "source": [
    "# df_B[\"author.name\"].value_counts().reset_index()"
   ]
  },
  {
   "cell_type": "code",
   "execution_count": 10,
   "id": "97ff9664-125d-4f20-8336-291c8fb26d6a",
   "metadata": {},
   "outputs": [],
   "source": [
    "# save_bin(\"new_data_2/df_A.bin\",df_A)\n",
    "# save_bin(\"new_data_2/df_B.bin\",df_B)"
   ]
  },
  {
   "cell_type": "code",
   "execution_count": 28,
   "id": "99259ec0-8d50-496a-89ad-613158e0aa3c",
   "metadata": {},
   "outputs": [],
   "source": [
    "# del df_A,df_B"
   ]
  },
  {
   "cell_type": "markdown",
   "id": "82fcebbe-f6a3-480f-a89f-6405f006678b",
   "metadata": {},
   "source": [
    "## データ整形"
   ]
  },
  {
   "cell_type": "code",
   "execution_count": 171,
   "id": "7116eb30-b796-4002-8d87-6f8369fe55bd",
   "metadata": {},
   "outputs": [],
   "source": [
    "# df = read_bin(\"new_data_2/df_AB.bin\")"
   ]
  },
  {
   "cell_type": "code",
   "execution_count": 167,
   "id": "60295c5f-25d9-404f-989c-c1536cbc77b8",
   "metadata": {},
   "outputs": [],
   "source": [
    "# index_counter(df,\"reviewRating.ratingValue\")"
   ]
  },
  {
   "cell_type": "code",
   "execution_count": 126,
   "id": "c01d7ef6-2cb8-422a-80cd-e9d8efc68eb0",
   "metadata": {},
   "outputs": [],
   "source": [
    "dfs = {category.replace(\" \",\"_\"): group for category, group in df.groupby('author.name')}"
   ]
  },
  {
   "cell_type": "code",
   "execution_count": 181,
   "id": "20d0df46-cd99-48af-9b57-b759c6442043",
   "metadata": {},
   "outputs": [],
   "source": [
    "def show_df(the_df,col_name,query):\n",
    "    the_df_1 = the_df[the_df[col_name] == query]\n",
    "    return the_df_1\n",
    "    \n",
    "def count_by_categories(df, cols):\n",
    "    if isinstance(cols, list):\n",
    "        return df.groupby(cols).size().reset_index(name='count')\n",
    "    if isinstance(cols, str):\n",
    "        return df[cols].value_counts().reset_index()"
   ]
  },
  {
   "cell_type": "markdown",
   "id": "dd9c811c-c288-4bc7-b4be-723ddd2e7dc6",
   "metadata": {},
   "source": [
    "### PolitiFact"
   ]
  },
  {
   "cell_type": "code",
   "execution_count": 148,
   "id": "382bb47d-748e-49fb-b84b-1e4d4b6cc566",
   "metadata": {},
   "outputs": [],
   "source": [
    "# temp_df = dfs[\"PolitiFact\"]"
   ]
  },
  {
   "cell_type": "code",
   "execution_count": 153,
   "id": "5f7f2229-5807-4c51-868d-87d12c3816f5",
   "metadata": {},
   "outputs": [],
   "source": [
    "temp_df.loc[(temp_df['reviewRating.ratingValue'] == -999)\n",
    "            &(temp_df['reviewRating.alternateName'] == \"True\"),\n",
    "            'reviewRating.ratingValue'] = 0\n",
    "temp_df.loc[(temp_df['reviewRating.ratingValue'] == -999)\n",
    "            &(temp_df['reviewRating.alternateName'] == \"Mostly True\"),\n",
    "            'reviewRating.ratingValue'] = 1\n",
    "temp_df.loc[(temp_df['reviewRating.ratingValue'] == -999)\n",
    "            &(temp_df['reviewRating.alternateName'] == \"Half True\"),\n",
    "            'reviewRating.ratingValue'] = 2\n",
    "temp_df.loc[(temp_df['reviewRating.ratingValue'] == -999)\n",
    "            &(temp_df['reviewRating.alternateName'] == \"Mostly False\"),\n",
    "            'reviewRating.ratingValue'] = 3\n",
    "temp_df.loc[(temp_df['reviewRating.ratingValue'] == -999)\n",
    "            &(temp_df['reviewRating.alternateName'] == \"False\"),\n",
    "            'reviewRating.ratingValue'] = 4\n",
    "temp_df.loc[(temp_df['reviewRating.ratingValue'] == -999)\n",
    "            &(temp_df['reviewRating.alternateName'] == \"Pants on Fire\"),\n",
    "            'reviewRating.ratingValue'] = 5\n",
    "\n",
    "# 6種類以外の自由記述ラベルを表示したいとき用のプログラム\n",
    "# temp_df_2 = temp_df[temp_df[\"reviewRating.ratingValue\"]==-999]\n",
    "# list(count_by_categories(temp_df_2,[\"reviewRating.alternateName\"])[\"reviewRating.alternateName\"])\n",
    "\n",
    "temp_df = temp_df[~temp_df[\"reviewRating.ratingValue\"].isin([8,7,6,-999])]\n",
    "#政治家の一貫性レベルを表すラベルを削除：No Flip/Half Flip/Full Flop\n",
    "\n",
    "temp_df['reviewRating.bestRating'] = 0\n",
    "temp_df['reviewRating.worstRating'] = 5"
   ]
  },
  {
   "cell_type": "code",
   "execution_count": 176,
   "id": "4638a72b-81d5-43da-9421-9cf9af9b8bc6",
   "metadata": {},
   "outputs": [
    {
     "data": {
      "text/html": [
       "<div>\n",
       "<style scoped>\n",
       "    .dataframe tbody tr th:only-of-type {\n",
       "        vertical-align: middle;\n",
       "    }\n",
       "\n",
       "    .dataframe tbody tr th {\n",
       "        vertical-align: top;\n",
       "    }\n",
       "\n",
       "    .dataframe thead th {\n",
       "        text-align: right;\n",
       "    }\n",
       "</style>\n",
       "<table border=\"1\" class=\"dataframe\">\n",
       "  <thead>\n",
       "    <tr style=\"text-align: right;\">\n",
       "      <th></th>\n",
       "      <th>reviewRating.ratingValue</th>\n",
       "      <th>reviewRating.alternateName</th>\n",
       "      <th>count</th>\n",
       "    </tr>\n",
       "  </thead>\n",
       "  <tbody>\n",
       "    <tr>\n",
       "      <th>0</th>\n",
       "      <td>0</td>\n",
       "      <td>True</td>\n",
       "      <td>217</td>\n",
       "    </tr>\n",
       "    <tr>\n",
       "      <th>1</th>\n",
       "      <td>1</td>\n",
       "      <td>Mostly True</td>\n",
       "      <td>366</td>\n",
       "    </tr>\n",
       "    <tr>\n",
       "      <th>2</th>\n",
       "      <td>2</td>\n",
       "      <td>Half True</td>\n",
       "      <td>494</td>\n",
       "    </tr>\n",
       "    <tr>\n",
       "      <th>3</th>\n",
       "      <td>3</td>\n",
       "      <td>Mostly False</td>\n",
       "      <td>716</td>\n",
       "    </tr>\n",
       "    <tr>\n",
       "      <th>4</th>\n",
       "      <td>4</td>\n",
       "      <td>False</td>\n",
       "      <td>3630</td>\n",
       "    </tr>\n",
       "    <tr>\n",
       "      <th>5</th>\n",
       "      <td>5</td>\n",
       "      <td>Pants on Fire</td>\n",
       "      <td>1243</td>\n",
       "    </tr>\n",
       "  </tbody>\n",
       "</table>\n",
       "</div>"
      ],
      "text/plain": [
       "   reviewRating.ratingValue reviewRating.alternateName  count\n",
       "0                         0                       True    217\n",
       "1                         1                Mostly True    366\n",
       "2                         2                  Half True    494\n",
       "3                         3               Mostly False    716\n",
       "4                         4                      False   3630\n",
       "5                         5              Pants on Fire   1243"
      ]
     },
     "execution_count": 176,
     "metadata": {},
     "output_type": "execute_result"
    }
   ],
   "source": [
    "count_by_categories(temp_df,[\"reviewRating.ratingValue\",\"reviewRating.alternateName\"])"
   ]
  },
  {
   "cell_type": "code",
   "execution_count": 177,
   "id": "ae564a46-2e20-4ad4-973e-5d5ae69d0938",
   "metadata": {},
   "outputs": [],
   "source": [
    "# dfs[\"PolitiFact\"] = temp_df"
   ]
  },
  {
   "cell_type": "markdown",
   "id": "e805166b-7718-48e1-adbf-07c598b1faa0",
   "metadata": {},
   "source": [
    "### FACTLY"
   ]
  },
  {
   "cell_type": "code",
   "execution_count": 193,
   "id": "346efbfb-a399-495e-906a-13af9313ef3f",
   "metadata": {},
   "outputs": [],
   "source": [
    "# temp_df = dfs[\"FACTLY\"]"
   ]
  },
  {
   "cell_type": "code",
   "execution_count": 212,
   "id": "0c6f9949-caec-442d-9a00-6ec9abcf98ff",
   "metadata": {},
   "outputs": [],
   "source": [
    "# 表記の空白等 可視化用\n",
    "# list(count_by_categories(temp_df,[\"reviewRating.ratingValue\",\"reviewRating.alternateName\"])[\"reviewRating.alternateName\"])\n",
    "temp_df.loc[(temp_df['reviewRating.ratingValue'] == 1)\n",
    "            &(temp_df['reviewRating.alternateName'].isin([\" FALSE\",'FALSE','FALSE ','FALSSE',\"FALSR\"])),\n",
    "            'reviewRating.alternateName'] = \"FALSE\"\n",
    "temp_df.loc[(temp_df['reviewRating.ratingValue'] == 2)\n",
    "            &(temp_df['reviewRating.alternateName'].isin([\"ISLEADING\",'MIISLEADING','MILSEADING','MISLEADING',\"MISLEADING \",\"MISLEADING   \"])),\n",
    "            'reviewRating.alternateName'] = \"MISLEADING\"\n",
    "temp_df.loc[(temp_df['reviewRating.ratingValue'] == 3)\n",
    "            &(temp_df['reviewRating.alternateName'].isin([\"UNVERIFIED\",'UNVERIFIED '])),\n",
    "            'reviewRating.alternateName'] = \"UNVERIFIED\"\n",
    "\n",
    "target_combinations = [(1,\"FALSE\"), (2,\"MISLEADING\"),(3,\"UNVERIFIED\"),(4,\"PARTLY TRUE\"),(5,\"TRUE\")]\n",
    "temp_df = temp_df[temp_df.apply(lambda x: (x['reviewRating.ratingValue'], x['reviewRating.alternateName']) in target_combinations, axis=1)]\n",
    "\n",
    "temp_df['reviewRating.bestRating'] = 5\n",
    "temp_df['reviewRating.worstRating'] = 1"
   ]
  },
  {
   "cell_type": "code",
   "execution_count": 213,
   "id": "c90a7e18-fabe-4304-818d-a442532ee6ad",
   "metadata": {},
   "outputs": [
    {
     "data": {
      "text/html": [
       "<div>\n",
       "<style scoped>\n",
       "    .dataframe tbody tr th:only-of-type {\n",
       "        vertical-align: middle;\n",
       "    }\n",
       "\n",
       "    .dataframe tbody tr th {\n",
       "        vertical-align: top;\n",
       "    }\n",
       "\n",
       "    .dataframe thead th {\n",
       "        text-align: right;\n",
       "    }\n",
       "</style>\n",
       "<table border=\"1\" class=\"dataframe\">\n",
       "  <thead>\n",
       "    <tr style=\"text-align: right;\">\n",
       "      <th></th>\n",
       "      <th>reviewRating.ratingValue</th>\n",
       "      <th>reviewRating.alternateName</th>\n",
       "      <th>count</th>\n",
       "    </tr>\n",
       "  </thead>\n",
       "  <tbody>\n",
       "    <tr>\n",
       "      <th>0</th>\n",
       "      <td>1</td>\n",
       "      <td>FALSE</td>\n",
       "      <td>3598</td>\n",
       "    </tr>\n",
       "    <tr>\n",
       "      <th>1</th>\n",
       "      <td>2</td>\n",
       "      <td>MISLEADING</td>\n",
       "      <td>1052</td>\n",
       "    </tr>\n",
       "    <tr>\n",
       "      <th>2</th>\n",
       "      <td>3</td>\n",
       "      <td>UNVERIFIED</td>\n",
       "      <td>22</td>\n",
       "    </tr>\n",
       "    <tr>\n",
       "      <th>3</th>\n",
       "      <td>4</td>\n",
       "      <td>PARTLY TRUE</td>\n",
       "      <td>14</td>\n",
       "    </tr>\n",
       "    <tr>\n",
       "      <th>4</th>\n",
       "      <td>5</td>\n",
       "      <td>TRUE</td>\n",
       "      <td>62</td>\n",
       "    </tr>\n",
       "  </tbody>\n",
       "</table>\n",
       "</div>"
      ],
      "text/plain": [
       "   reviewRating.ratingValue reviewRating.alternateName  count\n",
       "0                         1                      FALSE   3598\n",
       "1                         2                 MISLEADING   1052\n",
       "2                         3                 UNVERIFIED     22\n",
       "3                         4                PARTLY TRUE     14\n",
       "4                         5                       TRUE     62"
      ]
     },
     "execution_count": 213,
     "metadata": {},
     "output_type": "execute_result"
    }
   ],
   "source": [
    "count_by_categories(temp_df,[\"reviewRating.ratingValue\",\"reviewRating.alternateName\"])"
   ]
  },
  {
   "cell_type": "code",
   "execution_count": 215,
   "id": "e1c629e1-cf3e-48be-bdb2-86525946eb98",
   "metadata": {},
   "outputs": [],
   "source": [
    "# dfs[\"FACTLY\"] = temp_df"
   ]
  },
  {
   "cell_type": "markdown",
   "id": "ee94dd17-e26b-41a9-ad54-ac62e305705a",
   "metadata": {},
   "source": [
    "### FactCheck.org"
   ]
  },
  {
   "cell_type": "code",
   "execution_count": 233,
   "id": "fe8c8892-8020-4a5b-b56c-e104a2b9daa1",
   "metadata": {},
   "outputs": [],
   "source": [
    "# 不適格により削除\n",
    "# del dfs[\"FactCheck.org\"]"
   ]
  },
  {
   "cell_type": "markdown",
   "id": "4151378d-3c34-4204-a0f0-eece8ed22cc0",
   "metadata": {},
   "source": [
    "### Check Your Fact"
   ]
  },
  {
   "cell_type": "code",
   "execution_count": 235,
   "id": "8bbc1d52-660e-4e8d-9d1e-fc466045a70b",
   "metadata": {},
   "outputs": [],
   "source": [
    "# temp_df = dfs[\"Check_Your_Fact\"]"
   ]
  },
  {
   "cell_type": "code",
   "execution_count": 237,
   "id": "485f1f6c-9d07-4eed-b48f-139dee1eb057",
   "metadata": {},
   "outputs": [],
   "source": [
    "temp_df['reviewRating.bestRating'] = 3\n",
    "temp_df['reviewRating.worstRating'] = 1"
   ]
  },
  {
   "cell_type": "code",
   "execution_count": 236,
   "id": "54cb88d0-98d8-4b59-a5eb-2e6b3d51483b",
   "metadata": {},
   "outputs": [
    {
     "data": {
      "text/html": [
       "<div>\n",
       "<style scoped>\n",
       "    .dataframe tbody tr th:only-of-type {\n",
       "        vertical-align: middle;\n",
       "    }\n",
       "\n",
       "    .dataframe tbody tr th {\n",
       "        vertical-align: top;\n",
       "    }\n",
       "\n",
       "    .dataframe thead th {\n",
       "        text-align: right;\n",
       "    }\n",
       "</style>\n",
       "<table border=\"1\" class=\"dataframe\">\n",
       "  <thead>\n",
       "    <tr style=\"text-align: right;\">\n",
       "      <th></th>\n",
       "      <th>reviewRating.ratingValue</th>\n",
       "      <th>reviewRating.alternateName</th>\n",
       "      <th>count</th>\n",
       "    </tr>\n",
       "  </thead>\n",
       "  <tbody>\n",
       "    <tr>\n",
       "      <th>0</th>\n",
       "      <td>1</td>\n",
       "      <td>False</td>\n",
       "      <td>2391</td>\n",
       "    </tr>\n",
       "    <tr>\n",
       "      <th>1</th>\n",
       "      <td>2</td>\n",
       "      <td>Unsubstantiated</td>\n",
       "      <td>41</td>\n",
       "    </tr>\n",
       "    <tr>\n",
       "      <th>2</th>\n",
       "      <td>3</td>\n",
       "      <td>True</td>\n",
       "      <td>28</td>\n",
       "    </tr>\n",
       "  </tbody>\n",
       "</table>\n",
       "</div>"
      ],
      "text/plain": [
       "   reviewRating.ratingValue reviewRating.alternateName  count\n",
       "0                         1                      False   2391\n",
       "1                         2            Unsubstantiated     41\n",
       "2                         3                       True     28"
      ]
     },
     "execution_count": 236,
     "metadata": {},
     "output_type": "execute_result"
    }
   ],
   "source": [
    "count_by_categories(temp_df,[\"reviewRating.ratingValue\",\"reviewRating.alternateName\"])"
   ]
  },
  {
   "cell_type": "code",
   "execution_count": 241,
   "id": "37d1af83-2ca0-42a2-b0ef-a6baebe14c6e",
   "metadata": {},
   "outputs": [],
   "source": [
    "# dfs[\"Check_Your_Fact\"]=temp_df"
   ]
  },
  {
   "cell_type": "markdown",
   "id": "c93b71a0-2ecf-4878-905f-06eb8ba8886b",
   "metadata": {},
   "source": [
    "### VERIFY"
   ]
  },
  {
   "cell_type": "code",
   "execution_count": 243,
   "id": "06dacb73-2717-48a3-b819-12f210ebba02",
   "metadata": {},
   "outputs": [],
   "source": [
    "# temp_df = dfs[\"VERIFY\"]"
   ]
  },
  {
   "cell_type": "code",
   "execution_count": 251,
   "id": "7d287f22-3f71-4b63-a4f4-82761dc18ddb",
   "metadata": {},
   "outputs": [],
   "source": [
    "temp_df['reviewRating.bestRating'] = 5\n",
    "temp_df['reviewRating.worstRating'] = 1"
   ]
  },
  {
   "cell_type": "code",
   "execution_count": 245,
   "id": "e8a4a500-e8ba-4aea-a7b5-38455a370415",
   "metadata": {},
   "outputs": [
    {
     "data": {
      "text/html": [
       "<div>\n",
       "<style scoped>\n",
       "    .dataframe tbody tr th:only-of-type {\n",
       "        vertical-align: middle;\n",
       "    }\n",
       "\n",
       "    .dataframe tbody tr th {\n",
       "        vertical-align: top;\n",
       "    }\n",
       "\n",
       "    .dataframe thead th {\n",
       "        text-align: right;\n",
       "    }\n",
       "</style>\n",
       "<table border=\"1\" class=\"dataframe\">\n",
       "  <thead>\n",
       "    <tr style=\"text-align: right;\">\n",
       "      <th></th>\n",
       "      <th>reviewRating.ratingValue</th>\n",
       "      <th>count</th>\n",
       "    </tr>\n",
       "  </thead>\n",
       "  <tbody>\n",
       "    <tr>\n",
       "      <th>0</th>\n",
       "      <td>1</td>\n",
       "      <td>2442</td>\n",
       "    </tr>\n",
       "    <tr>\n",
       "      <th>1</th>\n",
       "      <td>2</td>\n",
       "      <td>63</td>\n",
       "    </tr>\n",
       "    <tr>\n",
       "      <th>2</th>\n",
       "      <td>3</td>\n",
       "      <td>31</td>\n",
       "    </tr>\n",
       "    <tr>\n",
       "      <th>3</th>\n",
       "      <td>4</td>\n",
       "      <td>274</td>\n",
       "    </tr>\n",
       "    <tr>\n",
       "      <th>4</th>\n",
       "      <td>5</td>\n",
       "      <td>1961</td>\n",
       "    </tr>\n",
       "  </tbody>\n",
       "</table>\n",
       "</div>"
      ],
      "text/plain": [
       "   reviewRating.ratingValue  count\n",
       "0                         1   2442\n",
       "1                         2     63\n",
       "2                         3     31\n",
       "3                         4    274\n",
       "4                         5   1961"
      ]
     },
     "execution_count": 245,
     "metadata": {},
     "output_type": "execute_result"
    }
   ],
   "source": [
    "count_by_categories(temp_df,[\"reviewRating.ratingValue\"])"
   ]
  },
  {
   "cell_type": "code",
   "execution_count": 253,
   "id": "52a20877-bb9e-4893-a59d-d99c4ba1b9d8",
   "metadata": {},
   "outputs": [],
   "source": [
    "# dfs[\"VERIFY\"] = temp_df"
   ]
  },
  {
   "cell_type": "markdown",
   "id": "11b1e948-6aa0-4b53-ae47-a6bd02870d34",
   "metadata": {},
   "source": [
    "### Lead Stories LLC"
   ]
  },
  {
   "cell_type": "code",
   "execution_count": 254,
   "id": "c796988d-926d-4170-8ac4-a4842bc1d740",
   "metadata": {},
   "outputs": [],
   "source": [
    "# 特段加工は不要と判断，そのまま\n",
    "# temp_df = dfs[\"Lead_Stories_LLC\"]"
   ]
  },
  {
   "cell_type": "code",
   "execution_count": 256,
   "id": "01ee5d87-5597-4c55-8449-bd96c876fd36",
   "metadata": {},
   "outputs": [
    {
     "data": {
      "text/html": [
       "<div>\n",
       "<style scoped>\n",
       "    .dataframe tbody tr th:only-of-type {\n",
       "        vertical-align: middle;\n",
       "    }\n",
       "\n",
       "    .dataframe tbody tr th {\n",
       "        vertical-align: top;\n",
       "    }\n",
       "\n",
       "    .dataframe thead th {\n",
       "        text-align: right;\n",
       "    }\n",
       "</style>\n",
       "<table border=\"1\" class=\"dataframe\">\n",
       "  <thead>\n",
       "    <tr style=\"text-align: right;\">\n",
       "      <th></th>\n",
       "      <th>reviewRating.ratingValue</th>\n",
       "      <th>count</th>\n",
       "    </tr>\n",
       "  </thead>\n",
       "  <tbody>\n",
       "    <tr>\n",
       "      <th>0</th>\n",
       "      <td>1</td>\n",
       "      <td>9371</td>\n",
       "    </tr>\n",
       "    <tr>\n",
       "      <th>1</th>\n",
       "      <td>2</td>\n",
       "      <td>19</td>\n",
       "    </tr>\n",
       "    <tr>\n",
       "      <th>2</th>\n",
       "      <td>3</td>\n",
       "      <td>382</td>\n",
       "    </tr>\n",
       "    <tr>\n",
       "      <th>3</th>\n",
       "      <td>4</td>\n",
       "      <td>8</td>\n",
       "    </tr>\n",
       "    <tr>\n",
       "      <th>4</th>\n",
       "      <td>5</td>\n",
       "      <td>66</td>\n",
       "    </tr>\n",
       "  </tbody>\n",
       "</table>\n",
       "</div>"
      ],
      "text/plain": [
       "   reviewRating.ratingValue  count\n",
       "0                         1   9371\n",
       "1                         2     19\n",
       "2                         3    382\n",
       "3                         4      8\n",
       "4                         5     66"
      ]
     },
     "execution_count": 256,
     "metadata": {},
     "output_type": "execute_result"
    }
   ],
   "source": [
    "count_by_categories(temp_df,[\"reviewRating.ratingValue\"])"
   ]
  },
  {
   "cell_type": "code",
   "execution_count": 265,
   "id": "4f4f993f-b3f5-49b5-9aa9-152f43d71843",
   "metadata": {},
   "outputs": [],
   "source": [
    "# show_df(temp_df,\"reviewRating.ratingValue\",3)"
   ]
  },
  {
   "cell_type": "markdown",
   "id": "fb32a250-4d95-4e87-a9f6-a044bcf43d88",
   "metadata": {},
   "source": [
    "### AFP"
   ]
  },
  {
   "cell_type": "code",
   "execution_count": 266,
   "id": "13c7e205-5bfc-48e2-8062-01fb712ff56c",
   "metadata": {},
   "outputs": [],
   "source": [
    "# ラベルへの不信感，使用中断\n",
    "temp_df = dfs[\"AFP\"]"
   ]
  },
  {
   "cell_type": "code",
   "execution_count": 269,
   "id": "d48db54a-5af2-4749-921b-8ec3544d59a1",
   "metadata": {},
   "outputs": [
    {
     "data": {
      "text/html": [
       "<div>\n",
       "<style scoped>\n",
       "    .dataframe tbody tr th:only-of-type {\n",
       "        vertical-align: middle;\n",
       "    }\n",
       "\n",
       "    .dataframe tbody tr th {\n",
       "        vertical-align: top;\n",
       "    }\n",
       "\n",
       "    .dataframe thead th {\n",
       "        text-align: right;\n",
       "    }\n",
       "</style>\n",
       "<table border=\"1\" class=\"dataframe\">\n",
       "  <thead>\n",
       "    <tr style=\"text-align: right;\">\n",
       "      <th></th>\n",
       "      <th>reviewRating.ratingValue</th>\n",
       "      <th>count</th>\n",
       "    </tr>\n",
       "  </thead>\n",
       "  <tbody>\n",
       "    <tr>\n",
       "      <th>0</th>\n",
       "      <td>1</td>\n",
       "      <td>3303</td>\n",
       "    </tr>\n",
       "    <tr>\n",
       "      <th>1</th>\n",
       "      <td>2</td>\n",
       "      <td>819</td>\n",
       "    </tr>\n",
       "    <tr>\n",
       "      <th>2</th>\n",
       "      <td>3</td>\n",
       "      <td>358</td>\n",
       "    </tr>\n",
       "    <tr>\n",
       "      <th>3</th>\n",
       "      <td>4</td>\n",
       "      <td>1</td>\n",
       "    </tr>\n",
       "    <tr>\n",
       "      <th>4</th>\n",
       "      <td>5</td>\n",
       "      <td>34</td>\n",
       "    </tr>\n",
       "  </tbody>\n",
       "</table>\n",
       "</div>"
      ],
      "text/plain": [
       "   reviewRating.ratingValue  count\n",
       "0                         1   3303\n",
       "1                         2    819\n",
       "2                         3    358\n",
       "3                         4      1\n",
       "4                         5     34"
      ]
     },
     "execution_count": 269,
     "metadata": {},
     "output_type": "execute_result"
    }
   ],
   "source": [
    "count_by_categories(temp_df,[\"reviewRating.ratingValue\"])"
   ]
  },
  {
   "cell_type": "code",
   "execution_count": 277,
   "id": "fb09a6aa-15c9-442e-8cd7-4b79823749ae",
   "metadata": {},
   "outputs": [],
   "source": [
    "# del dfs[\"AFP\"]"
   ]
  },
  {
   "cell_type": "code",
   "execution_count": 278,
   "id": "3ae0101c-d71c-4473-9f6c-48aa1bb76b83",
   "metadata": {},
   "outputs": [],
   "source": [
    "save_bin(\"new_data_2/dfs_AB.bin\",dfs)"
   ]
  },
  {
   "cell_type": "code",
   "execution_count": null,
   "id": "8d30e7e0-36fe-46e2-9051-4f4a8f6a5332",
   "metadata": {},
   "outputs": [],
   "source": [
    "# もっとシンプルな予備実験でよいのでは？"
   ]
  },
  {
   "cell_type": "code",
   "execution_count": null,
   "id": "b43eab7b-9a83-45af-a5b5-7379cd4b8d0e",
   "metadata": {},
   "outputs": [],
   "source": []
  }
 ],
 "metadata": {
  "kernelspec": {
   "display_name": "Python 3 (ipykernel)",
   "language": "python",
   "name": "python3"
  },
  "language_info": {
   "codemirror_mode": {
    "name": "ipython",
    "version": 3
   },
   "file_extension": ".py",
   "mimetype": "text/x-python",
   "name": "python",
   "nbconvert_exporter": "python",
   "pygments_lexer": "ipython3",
   "version": "3.12.4"
  }
 },
 "nbformat": 4,
 "nbformat_minor": 5
}
