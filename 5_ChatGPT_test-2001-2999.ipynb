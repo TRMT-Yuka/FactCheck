{
 "cells": [
  {
   "cell_type": "code",
   "execution_count": 1,
   "id": "e5fc4128",
   "metadata": {},
   "outputs": [],
   "source": [
    "import pickle\n",
    "def read_bin(filename):\n",
    "    with open(filename,'rb') as bf:\n",
    "        bin_data = pickle.load(bf)\n",
    "    return bin_data\n",
    "\n",
    "def save_bin(filename,data):\n",
    "    with open(filename,'wb') as bf:\n",
    "        pickle.dump(data,bf)"
   ]
  },
  {
   "cell_type": "code",
   "execution_count": 2,
   "id": "31128293",
   "metadata": {},
   "outputs": [],
   "source": [
    "# gpt35_df=read_bin(\"new_data/gpt35_df.bin\")\n",
    "# gpt4o_df=read_bin(\"new_data/gpt4o_df.bin\")\n",
    "gpt4_df=read_bin(\"new_data/gpt4_df.bin\")"
   ]
  },
  {
   "cell_type": "code",
   "execution_count": 3,
   "id": "d1b535cf",
   "metadata": {},
   "outputs": [],
   "source": [
    "# del gpt35_df\n",
    "# del gpt4o_df\n",
    "# del gpt4_df"
   ]
  },
  {
   "cell_type": "code",
   "execution_count": 4,
   "id": "00bbc4b1",
   "metadata": {},
   "outputs": [],
   "source": [
    "FABLE = read_bin(\"new_data/FABLE.bin\")"
   ]
  },
  {
   "cell_type": "code",
   "execution_count": 5,
   "id": "cb5227c1",
   "metadata": {},
   "outputs": [
    {
     "data": {
      "text/html": [
       "<div>\n",
       "<style scoped>\n",
       "    .dataframe tbody tr th:only-of-type {\n",
       "        vertical-align: middle;\n",
       "    }\n",
       "\n",
       "    .dataframe tbody tr th {\n",
       "        vertical-align: top;\n",
       "    }\n",
       "\n",
       "    .dataframe thead th {\n",
       "        text-align: right;\n",
       "    }\n",
       "</style>\n",
       "<table border=\"1\" class=\"dataframe\">\n",
       "  <thead>\n",
       "    <tr style=\"text-align: right;\">\n",
       "      <th></th>\n",
       "      <th>id</th>\n",
       "      <th>datePublished</th>\n",
       "      <th>itemReviewed.datePublished</th>\n",
       "      <th>claimReviewed</th>\n",
       "      <th>author.name</th>\n",
       "      <th>reviewRating.@type</th>\n",
       "      <th>reviewRating.ratingValue</th>\n",
       "      <th>reviewRating.alternateName</th>\n",
       "      <th>date_diff</th>\n",
       "      <th>language</th>\n",
       "    </tr>\n",
       "  </thead>\n",
       "  <tbody>\n",
       "    <tr>\n",
       "      <th>25</th>\n",
       "      <td>75eae0a2-c474-4200-9889-f1f80a83be5e</td>\n",
       "      <td>2024-04-09 00:00:00+00:00</td>\n",
       "      <td>2024-03-27 00:00:00+00:00</td>\n",
       "      <td>Laut ORF-Artikel wurde Siegfried Meryn in eine...</td>\n",
       "      <td>dpa</td>\n",
       "      <td>Rating</td>\n",
       "      <td>NaN</td>\n",
       "      <td>Die angebliche ORF-Webseite wurde gefälscht, d...</td>\n",
       "      <td>13.0</td>\n",
       "      <td>de</td>\n",
       "    </tr>\n",
       "  </tbody>\n",
       "</table>\n",
       "</div>"
      ],
      "text/plain": [
       "                                      id             datePublished  \\\n",
       "25  75eae0a2-c474-4200-9889-f1f80a83be5e 2024-04-09 00:00:00+00:00   \n",
       "\n",
       "   itemReviewed.datePublished  \\\n",
       "25  2024-03-27 00:00:00+00:00   \n",
       "\n",
       "                                        claimReviewed author.name  \\\n",
       "25  Laut ORF-Artikel wurde Siegfried Meryn in eine...         dpa   \n",
       "\n",
       "   reviewRating.@type reviewRating.ratingValue  \\\n",
       "25             Rating                      NaN   \n",
       "\n",
       "                           reviewRating.alternateName  date_diff language  \n",
       "25  Die angebliche ORF-Webseite wurde gefälscht, d...       13.0       de  "
      ]
     },
     "execution_count": 5,
     "metadata": {},
     "output_type": "execute_result"
    }
   ],
   "source": [
    "gpt4_df.head(1)"
   ]
  },
  {
   "cell_type": "code",
   "execution_count": 6,
   "id": "026c9a08",
   "metadata": {},
   "outputs": [
    {
     "name": "stdout",
     "output_type": "stream",
     "text": [
      "No duplicate IDs found.\n"
     ]
    }
   ],
   "source": [
    "def duplicate_checker(df):\n",
    "    if df['id'].duplicated().any():\n",
    "        print(\"There are duplicate IDs. Here they are:\")\n",
    "        # 重複している行を表示\n",
    "        print(df[df['id'].duplicated(keep=False)])\n",
    "    else:\n",
    "        print(\"No duplicate IDs found.\")\n",
    "        \n",
    "duplicate_checker(gpt4_df)"
   ]
  },
  {
   "cell_type": "markdown",
   "id": "fe822841",
   "metadata": {},
   "source": [
    "## GPT使用"
   ]
  },
  {
   "cell_type": "code",
   "execution_count": 7,
   "id": "ea464b60",
   "metadata": {},
   "outputs": [],
   "source": [
    "import configparser\n",
    "\n",
    "config = configparser.ConfigParser()\n",
    "config.read('config.ini')\n",
    "api_key = config['openai']['api_key']"
   ]
  },
  {
   "cell_type": "code",
   "execution_count": 8,
   "id": "c0a4006b",
   "metadata": {},
   "outputs": [],
   "source": [
    "import openai\n",
    "openai.api_key = api_key"
   ]
  },
  {
   "cell_type": "code",
   "execution_count": 9,
   "id": "25b85b2f",
   "metadata": {},
   "outputs": [],
   "source": [
    "# def gpt_ans(claim,question):\n",
    "#     prompt = \"Read the following claim and evaluate the question provided. Return the answer as <answer>Yes, No, or Unknown</answer>. claim: \"+claim+\" Question: \"+ question+\". Please explain your reasoning in <reason>tags</reason>.\"\n",
    "#     response = openai.ChatCompletion.create(\n",
    "# #       model=\"gpt-3.5-turbo-0125\",  # 2023年の最新のGPT-3.5モデル名に基づく\n",
    "#       model=\"gpt-4-turbo\",\n",
    "#       messages=[\n",
    "#           {\"role\": \"user\", \"content\":prompt}\n",
    "#       ]\n",
    "#     )\n",
    "\n",
    "#     return response['choices'][0]['message']['content']  # 生成されたテキストを表示"
   ]
  },
  {
   "cell_type": "code",
   "execution_count": 10,
   "id": "5a5d75aa",
   "metadata": {},
   "outputs": [],
   "source": [
    "import time\n",
    "from requests.exceptions import RequestException\n",
    "\n",
    "def gpt_ans(claim, question):\n",
    "    prompt = \"Read the following claim and evaluate the question provided. Return the answer as <answer>Yes, No, or Unknown</answer>. claim: \"+claim+\" Question: \"+ question+\". Please explain your reasoning in <reason>tags</reason>.\"\n",
    "    for i in range(3):# 5回までリトライ\n",
    "        try:\n",
    "            response = openai.ChatCompletion.create(\n",
    "                model=\"gpt-4-turbo\",\n",
    "                messages=[\n",
    "                    {\"role\": \"user\", \"content\": prompt}\n",
    "                ]\n",
    "            )\n",
    "            return response['choices'][0]['message']['content']\n",
    "        except openai.error.APIError as e:\n",
    "            time.sleep(5)  # 5秒待ってから再試行\n",
    "            if i == 2:\n",
    "                return \"\"\n",
    "        except RequestException as e:\n",
    "            time.sleep(5)\n",
    "            if i == 2:\n",
    "                return \"\""
   ]
  },
  {
   "cell_type": "code",
   "execution_count": 11,
   "id": "9f3b884b",
   "metadata": {},
   "outputs": [],
   "source": [
    "gpt4_df_id = list(gpt4_df[\"id\"])\n",
    "gpt4_df_claimReviewed = list(gpt4_df[\"claimReviewed\"])"
   ]
  },
  {
   "cell_type": "code",
   "execution_count": 13,
   "id": "6d921c67",
   "metadata": {},
   "outputs": [],
   "source": [
    "ans_dict = dict()"
   ]
  },
  {
   "cell_type": "code",
   "execution_count": 25,
   "id": "6d9a339b",
   "metadata": {},
   "outputs": [
    {
     "name": "stdout",
     "output_type": "stream",
     "text": [
      "2200 / 6718  ( 13 / 52 )"
     ]
    },
    {
     "ename": "KeyboardInterrupt",
     "evalue": "",
     "output_type": "error",
     "traceback": [
      "\u001b[1;31m---------------------------------------------------------------------------\u001b[0m",
      "\u001b[1;31mKeyboardInterrupt\u001b[0m                         Traceback (most recent call last)",
      "\u001b[1;32m<ipython-input-25-b7d1f5380504>\u001b[0m in \u001b[0;36m<module>\u001b[1;34m\u001b[0m\n\u001b[0;32m      5\u001b[0m     \u001b[1;32mfor\u001b[0m \u001b[0mq\u001b[0m\u001b[1;33m,\u001b[0m\u001b[0mquestion\u001b[0m \u001b[1;32min\u001b[0m \u001b[0menumerate\u001b[0m\u001b[1;33m(\u001b[0m\u001b[0mFABLE\u001b[0m\u001b[1;33m)\u001b[0m\u001b[1;33m:\u001b[0m\u001b[1;33m\u001b[0m\u001b[1;33m\u001b[0m\u001b[0m\n\u001b[0;32m      6\u001b[0m         \u001b[0mprint\u001b[0m\u001b[1;33m(\u001b[0m\u001b[1;34m'\\r%d / %d  ( %d / %d )'\u001b[0m \u001b[1;33m%\u001b[0m\u001b[1;33m(\u001b[0m\u001b[0mc\u001b[0m\u001b[1;33m,\u001b[0m \u001b[1;36m6718\u001b[0m\u001b[1;33m,\u001b[0m \u001b[0mq\u001b[0m\u001b[1;33m,\u001b[0m \u001b[1;36m52\u001b[0m\u001b[1;33m)\u001b[0m\u001b[1;33m,\u001b[0m \u001b[0mend\u001b[0m\u001b[1;33m=\u001b[0m\u001b[1;34m''\u001b[0m\u001b[1;33m)\u001b[0m\u001b[1;33m\u001b[0m\u001b[1;33m\u001b[0m\u001b[0m\n\u001b[1;32m----> 7\u001b[1;33m         \u001b[0mans\u001b[0m\u001b[1;33m[\u001b[0m\u001b[0mq\u001b[0m\u001b[1;33m]\u001b[0m\u001b[1;33m=\u001b[0m\u001b[0mgpt_ans\u001b[0m\u001b[1;33m(\u001b[0m\u001b[0mclaim\u001b[0m\u001b[1;33m,\u001b[0m\u001b[0mquestion\u001b[0m\u001b[1;33m)\u001b[0m\u001b[1;33m\u001b[0m\u001b[1;33m\u001b[0m\u001b[0m\n\u001b[0m\u001b[0;32m      8\u001b[0m \u001b[1;33m\u001b[0m\u001b[0m\n\u001b[0;32m      9\u001b[0m     \u001b[0mans_dict\u001b[0m\u001b[1;33m[\u001b[0m\u001b[0mc_id\u001b[0m\u001b[1;33m]\u001b[0m \u001b[1;33m=\u001b[0m \u001b[0mans\u001b[0m\u001b[1;33m\u001b[0m\u001b[1;33m\u001b[0m\u001b[0m\n",
      "\u001b[1;32m<ipython-input-10-32bcef6da80f>\u001b[0m in \u001b[0;36mgpt_ans\u001b[1;34m(claim, question)\u001b[0m\n\u001b[0;32m      6\u001b[0m     \u001b[1;32mfor\u001b[0m \u001b[0mi\u001b[0m \u001b[1;32min\u001b[0m \u001b[0mrange\u001b[0m\u001b[1;33m(\u001b[0m\u001b[1;36m3\u001b[0m\u001b[1;33m)\u001b[0m\u001b[1;33m:\u001b[0m\u001b[1;31m# 5回までリトライ\u001b[0m\u001b[1;33m\u001b[0m\u001b[1;33m\u001b[0m\u001b[0m\n\u001b[0;32m      7\u001b[0m         \u001b[1;32mtry\u001b[0m\u001b[1;33m:\u001b[0m\u001b[1;33m\u001b[0m\u001b[1;33m\u001b[0m\u001b[0m\n\u001b[1;32m----> 8\u001b[1;33m             response = openai.ChatCompletion.create(\n\u001b[0m\u001b[0;32m      9\u001b[0m                 \u001b[0mmodel\u001b[0m\u001b[1;33m=\u001b[0m\u001b[1;34m\"gpt-4-turbo\"\u001b[0m\u001b[1;33m,\u001b[0m\u001b[1;33m\u001b[0m\u001b[1;33m\u001b[0m\u001b[0m\n\u001b[0;32m     10\u001b[0m                 messages=[\n",
      "\u001b[1;32mc:\\users\\teramoto\\appdata\\local\\programs\\python\\python39\\lib\\site-packages\\openai\\api_resources\\chat_completion.py\u001b[0m in \u001b[0;36mcreate\u001b[1;34m(cls, *args, **kwargs)\u001b[0m\n\u001b[0;32m     23\u001b[0m         \u001b[1;32mwhile\u001b[0m \u001b[1;32mTrue\u001b[0m\u001b[1;33m:\u001b[0m\u001b[1;33m\u001b[0m\u001b[1;33m\u001b[0m\u001b[0m\n\u001b[0;32m     24\u001b[0m             \u001b[1;32mtry\u001b[0m\u001b[1;33m:\u001b[0m\u001b[1;33m\u001b[0m\u001b[1;33m\u001b[0m\u001b[0m\n\u001b[1;32m---> 25\u001b[1;33m                 \u001b[1;32mreturn\u001b[0m \u001b[0msuper\u001b[0m\u001b[1;33m(\u001b[0m\u001b[1;33m)\u001b[0m\u001b[1;33m.\u001b[0m\u001b[0mcreate\u001b[0m\u001b[1;33m(\u001b[0m\u001b[1;33m*\u001b[0m\u001b[0margs\u001b[0m\u001b[1;33m,\u001b[0m \u001b[1;33m**\u001b[0m\u001b[0mkwargs\u001b[0m\u001b[1;33m)\u001b[0m\u001b[1;33m\u001b[0m\u001b[1;33m\u001b[0m\u001b[0m\n\u001b[0m\u001b[0;32m     26\u001b[0m             \u001b[1;32mexcept\u001b[0m \u001b[0mTryAgain\u001b[0m \u001b[1;32mas\u001b[0m \u001b[0me\u001b[0m\u001b[1;33m:\u001b[0m\u001b[1;33m\u001b[0m\u001b[1;33m\u001b[0m\u001b[0m\n\u001b[0;32m     27\u001b[0m                 \u001b[1;32mif\u001b[0m \u001b[0mtimeout\u001b[0m \u001b[1;32mis\u001b[0m \u001b[1;32mnot\u001b[0m \u001b[1;32mNone\u001b[0m \u001b[1;32mand\u001b[0m \u001b[0mtime\u001b[0m\u001b[1;33m.\u001b[0m\u001b[0mtime\u001b[0m\u001b[1;33m(\u001b[0m\u001b[1;33m)\u001b[0m \u001b[1;33m>\u001b[0m \u001b[0mstart\u001b[0m \u001b[1;33m+\u001b[0m \u001b[0mtimeout\u001b[0m\u001b[1;33m:\u001b[0m\u001b[1;33m\u001b[0m\u001b[1;33m\u001b[0m\u001b[0m\n",
      "\u001b[1;32mc:\\users\\teramoto\\appdata\\local\\programs\\python\\python39\\lib\\site-packages\\openai\\api_resources\\abstract\\engine_api_resource.py\u001b[0m in \u001b[0;36mcreate\u001b[1;34m(cls, api_key, api_base, api_type, request_id, api_version, organization, **params)\u001b[0m\n\u001b[0;32m    151\u001b[0m         )\n\u001b[0;32m    152\u001b[0m \u001b[1;33m\u001b[0m\u001b[0m\n\u001b[1;32m--> 153\u001b[1;33m         response, _, api_key = requestor.request(\n\u001b[0m\u001b[0;32m    154\u001b[0m             \u001b[1;34m\"post\"\u001b[0m\u001b[1;33m,\u001b[0m\u001b[1;33m\u001b[0m\u001b[1;33m\u001b[0m\u001b[0m\n\u001b[0;32m    155\u001b[0m             \u001b[0murl\u001b[0m\u001b[1;33m,\u001b[0m\u001b[1;33m\u001b[0m\u001b[1;33m\u001b[0m\u001b[0m\n",
      "\u001b[1;32mc:\\users\\teramoto\\appdata\\local\\programs\\python\\python39\\lib\\site-packages\\openai\\api_requestor.py\u001b[0m in \u001b[0;36mrequest\u001b[1;34m(self, method, url, params, headers, files, stream, request_id, request_timeout)\u001b[0m\n\u001b[0;32m    286\u001b[0m         \u001b[0mrequest_timeout\u001b[0m\u001b[1;33m:\u001b[0m \u001b[0mOptional\u001b[0m\u001b[1;33m[\u001b[0m\u001b[0mUnion\u001b[0m\u001b[1;33m[\u001b[0m\u001b[0mfloat\u001b[0m\u001b[1;33m,\u001b[0m \u001b[0mTuple\u001b[0m\u001b[1;33m[\u001b[0m\u001b[0mfloat\u001b[0m\u001b[1;33m,\u001b[0m \u001b[0mfloat\u001b[0m\u001b[1;33m]\u001b[0m\u001b[1;33m]\u001b[0m\u001b[1;33m]\u001b[0m \u001b[1;33m=\u001b[0m \u001b[1;32mNone\u001b[0m\u001b[1;33m,\u001b[0m\u001b[1;33m\u001b[0m\u001b[1;33m\u001b[0m\u001b[0m\n\u001b[0;32m    287\u001b[0m     ) -> Tuple[Union[OpenAIResponse, Iterator[OpenAIResponse]], bool, str]:\n\u001b[1;32m--> 288\u001b[1;33m         result = self.request_raw(\n\u001b[0m\u001b[0;32m    289\u001b[0m             \u001b[0mmethod\u001b[0m\u001b[1;33m.\u001b[0m\u001b[0mlower\u001b[0m\u001b[1;33m(\u001b[0m\u001b[1;33m)\u001b[0m\u001b[1;33m,\u001b[0m\u001b[1;33m\u001b[0m\u001b[1;33m\u001b[0m\u001b[0m\n\u001b[0;32m    290\u001b[0m             \u001b[0murl\u001b[0m\u001b[1;33m,\u001b[0m\u001b[1;33m\u001b[0m\u001b[1;33m\u001b[0m\u001b[0m\n",
      "\u001b[1;32mc:\\users\\teramoto\\appdata\\local\\programs\\python\\python39\\lib\\site-packages\\openai\\api_requestor.py\u001b[0m in \u001b[0;36mrequest_raw\u001b[1;34m(self, method, url, params, supplied_headers, files, stream, request_id, request_timeout)\u001b[0m\n\u001b[0;32m    594\u001b[0m             \u001b[0m_thread_context\u001b[0m\u001b[1;33m.\u001b[0m\u001b[0msession_create_time\u001b[0m \u001b[1;33m=\u001b[0m \u001b[0mtime\u001b[0m\u001b[1;33m.\u001b[0m\u001b[0mtime\u001b[0m\u001b[1;33m(\u001b[0m\u001b[1;33m)\u001b[0m\u001b[1;33m\u001b[0m\u001b[1;33m\u001b[0m\u001b[0m\n\u001b[0;32m    595\u001b[0m         \u001b[1;32mtry\u001b[0m\u001b[1;33m:\u001b[0m\u001b[1;33m\u001b[0m\u001b[1;33m\u001b[0m\u001b[0m\n\u001b[1;32m--> 596\u001b[1;33m             result = _thread_context.session.request(\n\u001b[0m\u001b[0;32m    597\u001b[0m                 \u001b[0mmethod\u001b[0m\u001b[1;33m,\u001b[0m\u001b[1;33m\u001b[0m\u001b[1;33m\u001b[0m\u001b[0m\n\u001b[0;32m    598\u001b[0m                 \u001b[0mabs_url\u001b[0m\u001b[1;33m,\u001b[0m\u001b[1;33m\u001b[0m\u001b[1;33m\u001b[0m\u001b[0m\n",
      "\u001b[1;32mc:\\users\\teramoto\\appdata\\local\\programs\\python\\python39\\lib\\site-packages\\requests\\sessions.py\u001b[0m in \u001b[0;36mrequest\u001b[1;34m(self, method, url, params, data, headers, cookies, files, auth, timeout, allow_redirects, proxies, hooks, stream, verify, cert, json)\u001b[0m\n\u001b[0;32m    585\u001b[0m         }\n\u001b[0;32m    586\u001b[0m         \u001b[0msend_kwargs\u001b[0m\u001b[1;33m.\u001b[0m\u001b[0mupdate\u001b[0m\u001b[1;33m(\u001b[0m\u001b[0msettings\u001b[0m\u001b[1;33m)\u001b[0m\u001b[1;33m\u001b[0m\u001b[1;33m\u001b[0m\u001b[0m\n\u001b[1;32m--> 587\u001b[1;33m         \u001b[0mresp\u001b[0m \u001b[1;33m=\u001b[0m \u001b[0mself\u001b[0m\u001b[1;33m.\u001b[0m\u001b[0msend\u001b[0m\u001b[1;33m(\u001b[0m\u001b[0mprep\u001b[0m\u001b[1;33m,\u001b[0m \u001b[1;33m**\u001b[0m\u001b[0msend_kwargs\u001b[0m\u001b[1;33m)\u001b[0m\u001b[1;33m\u001b[0m\u001b[1;33m\u001b[0m\u001b[0m\n\u001b[0m\u001b[0;32m    588\u001b[0m \u001b[1;33m\u001b[0m\u001b[0m\n\u001b[0;32m    589\u001b[0m         \u001b[1;32mreturn\u001b[0m \u001b[0mresp\u001b[0m\u001b[1;33m\u001b[0m\u001b[1;33m\u001b[0m\u001b[0m\n",
      "\u001b[1;32mc:\\users\\teramoto\\appdata\\local\\programs\\python\\python39\\lib\\site-packages\\requests\\sessions.py\u001b[0m in \u001b[0;36msend\u001b[1;34m(self, request, **kwargs)\u001b[0m\n\u001b[0;32m    699\u001b[0m \u001b[1;33m\u001b[0m\u001b[0m\n\u001b[0;32m    700\u001b[0m         \u001b[1;31m# Send the request\u001b[0m\u001b[1;33m\u001b[0m\u001b[1;33m\u001b[0m\u001b[1;33m\u001b[0m\u001b[0m\n\u001b[1;32m--> 701\u001b[1;33m         \u001b[0mr\u001b[0m \u001b[1;33m=\u001b[0m \u001b[0madapter\u001b[0m\u001b[1;33m.\u001b[0m\u001b[0msend\u001b[0m\u001b[1;33m(\u001b[0m\u001b[0mrequest\u001b[0m\u001b[1;33m,\u001b[0m \u001b[1;33m**\u001b[0m\u001b[0mkwargs\u001b[0m\u001b[1;33m)\u001b[0m\u001b[1;33m\u001b[0m\u001b[1;33m\u001b[0m\u001b[0m\n\u001b[0m\u001b[0;32m    702\u001b[0m \u001b[1;33m\u001b[0m\u001b[0m\n\u001b[0;32m    703\u001b[0m         \u001b[1;31m# Total elapsed time of the request (approximately)\u001b[0m\u001b[1;33m\u001b[0m\u001b[1;33m\u001b[0m\u001b[1;33m\u001b[0m\u001b[0m\n",
      "\u001b[1;32mc:\\users\\teramoto\\appdata\\local\\programs\\python\\python39\\lib\\site-packages\\requests\\adapters.py\u001b[0m in \u001b[0;36msend\u001b[1;34m(self, request, stream, timeout, verify, cert, proxies)\u001b[0m\n\u001b[0;32m    487\u001b[0m         \u001b[1;32mtry\u001b[0m\u001b[1;33m:\u001b[0m\u001b[1;33m\u001b[0m\u001b[1;33m\u001b[0m\u001b[0m\n\u001b[0;32m    488\u001b[0m             \u001b[1;32mif\u001b[0m \u001b[1;32mnot\u001b[0m \u001b[0mchunked\u001b[0m\u001b[1;33m:\u001b[0m\u001b[1;33m\u001b[0m\u001b[1;33m\u001b[0m\u001b[0m\n\u001b[1;32m--> 489\u001b[1;33m                 resp = conn.urlopen(\n\u001b[0m\u001b[0;32m    490\u001b[0m                     \u001b[0mmethod\u001b[0m\u001b[1;33m=\u001b[0m\u001b[0mrequest\u001b[0m\u001b[1;33m.\u001b[0m\u001b[0mmethod\u001b[0m\u001b[1;33m,\u001b[0m\u001b[1;33m\u001b[0m\u001b[1;33m\u001b[0m\u001b[0m\n\u001b[0;32m    491\u001b[0m                     \u001b[0murl\u001b[0m\u001b[1;33m=\u001b[0m\u001b[0murl\u001b[0m\u001b[1;33m,\u001b[0m\u001b[1;33m\u001b[0m\u001b[1;33m\u001b[0m\u001b[0m\n",
      "\u001b[1;32mc:\\users\\teramoto\\appdata\\local\\programs\\python\\python39\\lib\\site-packages\\urllib3\\connectionpool.py\u001b[0m in \u001b[0;36murlopen\u001b[1;34m(self, method, url, body, headers, retries, redirect, assert_same_host, timeout, pool_timeout, release_conn, chunked, body_pos, **response_kw)\u001b[0m\n\u001b[0;32m    697\u001b[0m \u001b[1;33m\u001b[0m\u001b[0m\n\u001b[0;32m    698\u001b[0m             \u001b[1;31m# Make the request on the httplib connection object.\u001b[0m\u001b[1;33m\u001b[0m\u001b[1;33m\u001b[0m\u001b[1;33m\u001b[0m\u001b[0m\n\u001b[1;32m--> 699\u001b[1;33m             httplib_response = self._make_request(\n\u001b[0m\u001b[0;32m    700\u001b[0m                 \u001b[0mconn\u001b[0m\u001b[1;33m,\u001b[0m\u001b[1;33m\u001b[0m\u001b[1;33m\u001b[0m\u001b[0m\n\u001b[0;32m    701\u001b[0m                 \u001b[0mmethod\u001b[0m\u001b[1;33m,\u001b[0m\u001b[1;33m\u001b[0m\u001b[1;33m\u001b[0m\u001b[0m\n",
      "\u001b[1;32mc:\\users\\teramoto\\appdata\\local\\programs\\python\\python39\\lib\\site-packages\\urllib3\\connectionpool.py\u001b[0m in \u001b[0;36m_make_request\u001b[1;34m(self, conn, method, url, timeout, chunked, **httplib_request_kw)\u001b[0m\n\u001b[0;32m    443\u001b[0m                     \u001b[1;31m# Python 3 (including for exceptions like SystemExit).\u001b[0m\u001b[1;33m\u001b[0m\u001b[1;33m\u001b[0m\u001b[1;33m\u001b[0m\u001b[0m\n\u001b[0;32m    444\u001b[0m                     \u001b[1;31m# Otherwise it looks like a bug in the code.\u001b[0m\u001b[1;33m\u001b[0m\u001b[1;33m\u001b[0m\u001b[1;33m\u001b[0m\u001b[0m\n\u001b[1;32m--> 445\u001b[1;33m                     \u001b[0msix\u001b[0m\u001b[1;33m.\u001b[0m\u001b[0mraise_from\u001b[0m\u001b[1;33m(\u001b[0m\u001b[0me\u001b[0m\u001b[1;33m,\u001b[0m \u001b[1;32mNone\u001b[0m\u001b[1;33m)\u001b[0m\u001b[1;33m\u001b[0m\u001b[1;33m\u001b[0m\u001b[0m\n\u001b[0m\u001b[0;32m    446\u001b[0m         \u001b[1;32mexcept\u001b[0m \u001b[1;33m(\u001b[0m\u001b[0mSocketTimeout\u001b[0m\u001b[1;33m,\u001b[0m \u001b[0mBaseSSLError\u001b[0m\u001b[1;33m,\u001b[0m \u001b[0mSocketError\u001b[0m\u001b[1;33m)\u001b[0m \u001b[1;32mas\u001b[0m \u001b[0me\u001b[0m\u001b[1;33m:\u001b[0m\u001b[1;33m\u001b[0m\u001b[1;33m\u001b[0m\u001b[0m\n\u001b[0;32m    447\u001b[0m             \u001b[0mself\u001b[0m\u001b[1;33m.\u001b[0m\u001b[0m_raise_timeout\u001b[0m\u001b[1;33m(\u001b[0m\u001b[0merr\u001b[0m\u001b[1;33m=\u001b[0m\u001b[0me\u001b[0m\u001b[1;33m,\u001b[0m \u001b[0murl\u001b[0m\u001b[1;33m=\u001b[0m\u001b[0murl\u001b[0m\u001b[1;33m,\u001b[0m \u001b[0mtimeout_value\u001b[0m\u001b[1;33m=\u001b[0m\u001b[0mread_timeout\u001b[0m\u001b[1;33m)\u001b[0m\u001b[1;33m\u001b[0m\u001b[1;33m\u001b[0m\u001b[0m\n",
      "\u001b[1;32mc:\\users\\teramoto\\appdata\\local\\programs\\python\\python39\\lib\\site-packages\\urllib3\\packages\\six.py\u001b[0m in \u001b[0;36mraise_from\u001b[1;34m(value, from_value)\u001b[0m\n",
      "\u001b[1;32mc:\\users\\teramoto\\appdata\\local\\programs\\python\\python39\\lib\\site-packages\\urllib3\\connectionpool.py\u001b[0m in \u001b[0;36m_make_request\u001b[1;34m(self, conn, method, url, timeout, chunked, **httplib_request_kw)\u001b[0m\n\u001b[0;32m    438\u001b[0m                 \u001b[1;31m# Python 3\u001b[0m\u001b[1;33m\u001b[0m\u001b[1;33m\u001b[0m\u001b[1;33m\u001b[0m\u001b[0m\n\u001b[0;32m    439\u001b[0m                 \u001b[1;32mtry\u001b[0m\u001b[1;33m:\u001b[0m\u001b[1;33m\u001b[0m\u001b[1;33m\u001b[0m\u001b[0m\n\u001b[1;32m--> 440\u001b[1;33m                     \u001b[0mhttplib_response\u001b[0m \u001b[1;33m=\u001b[0m \u001b[0mconn\u001b[0m\u001b[1;33m.\u001b[0m\u001b[0mgetresponse\u001b[0m\u001b[1;33m(\u001b[0m\u001b[1;33m)\u001b[0m\u001b[1;33m\u001b[0m\u001b[1;33m\u001b[0m\u001b[0m\n\u001b[0m\u001b[0;32m    441\u001b[0m                 \u001b[1;32mexcept\u001b[0m \u001b[0mBaseException\u001b[0m \u001b[1;32mas\u001b[0m \u001b[0me\u001b[0m\u001b[1;33m:\u001b[0m\u001b[1;33m\u001b[0m\u001b[1;33m\u001b[0m\u001b[0m\n\u001b[0;32m    442\u001b[0m                     \u001b[1;31m# Remove the TypeError from the exception chain in\u001b[0m\u001b[1;33m\u001b[0m\u001b[1;33m\u001b[0m\u001b[1;33m\u001b[0m\u001b[0m\n",
      "\u001b[1;32mc:\\users\\teramoto\\appdata\\local\\programs\\python\\python39\\lib\\http\\client.py\u001b[0m in \u001b[0;36mgetresponse\u001b[1;34m(self)\u001b[0m\n\u001b[0;32m   1345\u001b[0m         \u001b[1;32mtry\u001b[0m\u001b[1;33m:\u001b[0m\u001b[1;33m\u001b[0m\u001b[1;33m\u001b[0m\u001b[0m\n\u001b[0;32m   1346\u001b[0m             \u001b[1;32mtry\u001b[0m\u001b[1;33m:\u001b[0m\u001b[1;33m\u001b[0m\u001b[1;33m\u001b[0m\u001b[0m\n\u001b[1;32m-> 1347\u001b[1;33m                 \u001b[0mresponse\u001b[0m\u001b[1;33m.\u001b[0m\u001b[0mbegin\u001b[0m\u001b[1;33m(\u001b[0m\u001b[1;33m)\u001b[0m\u001b[1;33m\u001b[0m\u001b[1;33m\u001b[0m\u001b[0m\n\u001b[0m\u001b[0;32m   1348\u001b[0m             \u001b[1;32mexcept\u001b[0m \u001b[0mConnectionError\u001b[0m\u001b[1;33m:\u001b[0m\u001b[1;33m\u001b[0m\u001b[1;33m\u001b[0m\u001b[0m\n\u001b[0;32m   1349\u001b[0m                 \u001b[0mself\u001b[0m\u001b[1;33m.\u001b[0m\u001b[0mclose\u001b[0m\u001b[1;33m(\u001b[0m\u001b[1;33m)\u001b[0m\u001b[1;33m\u001b[0m\u001b[1;33m\u001b[0m\u001b[0m\n",
      "\u001b[1;32mc:\\users\\teramoto\\appdata\\local\\programs\\python\\python39\\lib\\http\\client.py\u001b[0m in \u001b[0;36mbegin\u001b[1;34m(self)\u001b[0m\n\u001b[0;32m    305\u001b[0m         \u001b[1;31m# read until we get a non-100 response\u001b[0m\u001b[1;33m\u001b[0m\u001b[1;33m\u001b[0m\u001b[1;33m\u001b[0m\u001b[0m\n\u001b[0;32m    306\u001b[0m         \u001b[1;32mwhile\u001b[0m \u001b[1;32mTrue\u001b[0m\u001b[1;33m:\u001b[0m\u001b[1;33m\u001b[0m\u001b[1;33m\u001b[0m\u001b[0m\n\u001b[1;32m--> 307\u001b[1;33m             \u001b[0mversion\u001b[0m\u001b[1;33m,\u001b[0m \u001b[0mstatus\u001b[0m\u001b[1;33m,\u001b[0m \u001b[0mreason\u001b[0m \u001b[1;33m=\u001b[0m \u001b[0mself\u001b[0m\u001b[1;33m.\u001b[0m\u001b[0m_read_status\u001b[0m\u001b[1;33m(\u001b[0m\u001b[1;33m)\u001b[0m\u001b[1;33m\u001b[0m\u001b[1;33m\u001b[0m\u001b[0m\n\u001b[0m\u001b[0;32m    308\u001b[0m             \u001b[1;32mif\u001b[0m \u001b[0mstatus\u001b[0m \u001b[1;33m!=\u001b[0m \u001b[0mCONTINUE\u001b[0m\u001b[1;33m:\u001b[0m\u001b[1;33m\u001b[0m\u001b[1;33m\u001b[0m\u001b[0m\n\u001b[0;32m    309\u001b[0m                 \u001b[1;32mbreak\u001b[0m\u001b[1;33m\u001b[0m\u001b[1;33m\u001b[0m\u001b[0m\n",
      "\u001b[1;32mc:\\users\\teramoto\\appdata\\local\\programs\\python\\python39\\lib\\http\\client.py\u001b[0m in \u001b[0;36m_read_status\u001b[1;34m(self)\u001b[0m\n\u001b[0;32m    266\u001b[0m \u001b[1;33m\u001b[0m\u001b[0m\n\u001b[0;32m    267\u001b[0m     \u001b[1;32mdef\u001b[0m \u001b[0m_read_status\u001b[0m\u001b[1;33m(\u001b[0m\u001b[0mself\u001b[0m\u001b[1;33m)\u001b[0m\u001b[1;33m:\u001b[0m\u001b[1;33m\u001b[0m\u001b[1;33m\u001b[0m\u001b[0m\n\u001b[1;32m--> 268\u001b[1;33m         \u001b[0mline\u001b[0m \u001b[1;33m=\u001b[0m \u001b[0mstr\u001b[0m\u001b[1;33m(\u001b[0m\u001b[0mself\u001b[0m\u001b[1;33m.\u001b[0m\u001b[0mfp\u001b[0m\u001b[1;33m.\u001b[0m\u001b[0mreadline\u001b[0m\u001b[1;33m(\u001b[0m\u001b[0m_MAXLINE\u001b[0m \u001b[1;33m+\u001b[0m \u001b[1;36m1\u001b[0m\u001b[1;33m)\u001b[0m\u001b[1;33m,\u001b[0m \u001b[1;34m\"iso-8859-1\"\u001b[0m\u001b[1;33m)\u001b[0m\u001b[1;33m\u001b[0m\u001b[1;33m\u001b[0m\u001b[0m\n\u001b[0m\u001b[0;32m    269\u001b[0m         \u001b[1;32mif\u001b[0m \u001b[0mlen\u001b[0m\u001b[1;33m(\u001b[0m\u001b[0mline\u001b[0m\u001b[1;33m)\u001b[0m \u001b[1;33m>\u001b[0m \u001b[0m_MAXLINE\u001b[0m\u001b[1;33m:\u001b[0m\u001b[1;33m\u001b[0m\u001b[1;33m\u001b[0m\u001b[0m\n\u001b[0;32m    270\u001b[0m             \u001b[1;32mraise\u001b[0m \u001b[0mLineTooLong\u001b[0m\u001b[1;33m(\u001b[0m\u001b[1;34m\"status line\"\u001b[0m\u001b[1;33m)\u001b[0m\u001b[1;33m\u001b[0m\u001b[1;33m\u001b[0m\u001b[0m\n",
      "\u001b[1;32mc:\\users\\teramoto\\appdata\\local\\programs\\python\\python39\\lib\\socket.py\u001b[0m in \u001b[0;36mreadinto\u001b[1;34m(self, b)\u001b[0m\n\u001b[0;32m    702\u001b[0m         \u001b[1;32mwhile\u001b[0m \u001b[1;32mTrue\u001b[0m\u001b[1;33m:\u001b[0m\u001b[1;33m\u001b[0m\u001b[1;33m\u001b[0m\u001b[0m\n\u001b[0;32m    703\u001b[0m             \u001b[1;32mtry\u001b[0m\u001b[1;33m:\u001b[0m\u001b[1;33m\u001b[0m\u001b[1;33m\u001b[0m\u001b[0m\n\u001b[1;32m--> 704\u001b[1;33m                 \u001b[1;32mreturn\u001b[0m \u001b[0mself\u001b[0m\u001b[1;33m.\u001b[0m\u001b[0m_sock\u001b[0m\u001b[1;33m.\u001b[0m\u001b[0mrecv_into\u001b[0m\u001b[1;33m(\u001b[0m\u001b[0mb\u001b[0m\u001b[1;33m)\u001b[0m\u001b[1;33m\u001b[0m\u001b[1;33m\u001b[0m\u001b[0m\n\u001b[0m\u001b[0;32m    705\u001b[0m             \u001b[1;32mexcept\u001b[0m \u001b[0mtimeout\u001b[0m\u001b[1;33m:\u001b[0m\u001b[1;33m\u001b[0m\u001b[1;33m\u001b[0m\u001b[0m\n\u001b[0;32m    706\u001b[0m                 \u001b[0mself\u001b[0m\u001b[1;33m.\u001b[0m\u001b[0m_timeout_occurred\u001b[0m \u001b[1;33m=\u001b[0m \u001b[1;32mTrue\u001b[0m\u001b[1;33m\u001b[0m\u001b[1;33m\u001b[0m\u001b[0m\n",
      "\u001b[1;32mc:\\users\\teramoto\\appdata\\local\\programs\\python\\python39\\lib\\ssl.py\u001b[0m in \u001b[0;36mrecv_into\u001b[1;34m(self, buffer, nbytes, flags)\u001b[0m\n\u001b[0;32m   1239\u001b[0m                   \u001b[1;34m\"non-zero flags not allowed in calls to recv_into() on %s\"\u001b[0m \u001b[1;33m%\u001b[0m\u001b[1;33m\u001b[0m\u001b[1;33m\u001b[0m\u001b[0m\n\u001b[0;32m   1240\u001b[0m                   self.__class__)\n\u001b[1;32m-> 1241\u001b[1;33m             \u001b[1;32mreturn\u001b[0m \u001b[0mself\u001b[0m\u001b[1;33m.\u001b[0m\u001b[0mread\u001b[0m\u001b[1;33m(\u001b[0m\u001b[0mnbytes\u001b[0m\u001b[1;33m,\u001b[0m \u001b[0mbuffer\u001b[0m\u001b[1;33m)\u001b[0m\u001b[1;33m\u001b[0m\u001b[1;33m\u001b[0m\u001b[0m\n\u001b[0m\u001b[0;32m   1242\u001b[0m         \u001b[1;32melse\u001b[0m\u001b[1;33m:\u001b[0m\u001b[1;33m\u001b[0m\u001b[1;33m\u001b[0m\u001b[0m\n\u001b[0;32m   1243\u001b[0m             \u001b[1;32mreturn\u001b[0m \u001b[0msuper\u001b[0m\u001b[1;33m(\u001b[0m\u001b[1;33m)\u001b[0m\u001b[1;33m.\u001b[0m\u001b[0mrecv_into\u001b[0m\u001b[1;33m(\u001b[0m\u001b[0mbuffer\u001b[0m\u001b[1;33m,\u001b[0m \u001b[0mnbytes\u001b[0m\u001b[1;33m,\u001b[0m \u001b[0mflags\u001b[0m\u001b[1;33m)\u001b[0m\u001b[1;33m\u001b[0m\u001b[1;33m\u001b[0m\u001b[0m\n",
      "\u001b[1;32mc:\\users\\teramoto\\appdata\\local\\programs\\python\\python39\\lib\\ssl.py\u001b[0m in \u001b[0;36mread\u001b[1;34m(self, len, buffer)\u001b[0m\n\u001b[0;32m   1097\u001b[0m         \u001b[1;32mtry\u001b[0m\u001b[1;33m:\u001b[0m\u001b[1;33m\u001b[0m\u001b[1;33m\u001b[0m\u001b[0m\n\u001b[0;32m   1098\u001b[0m             \u001b[1;32mif\u001b[0m \u001b[0mbuffer\u001b[0m \u001b[1;32mis\u001b[0m \u001b[1;32mnot\u001b[0m \u001b[1;32mNone\u001b[0m\u001b[1;33m:\u001b[0m\u001b[1;33m\u001b[0m\u001b[1;33m\u001b[0m\u001b[0m\n\u001b[1;32m-> 1099\u001b[1;33m                 \u001b[1;32mreturn\u001b[0m \u001b[0mself\u001b[0m\u001b[1;33m.\u001b[0m\u001b[0m_sslobj\u001b[0m\u001b[1;33m.\u001b[0m\u001b[0mread\u001b[0m\u001b[1;33m(\u001b[0m\u001b[0mlen\u001b[0m\u001b[1;33m,\u001b[0m \u001b[0mbuffer\u001b[0m\u001b[1;33m)\u001b[0m\u001b[1;33m\u001b[0m\u001b[1;33m\u001b[0m\u001b[0m\n\u001b[0m\u001b[0;32m   1100\u001b[0m             \u001b[1;32melse\u001b[0m\u001b[1;33m:\u001b[0m\u001b[1;33m\u001b[0m\u001b[1;33m\u001b[0m\u001b[0m\n\u001b[0;32m   1101\u001b[0m                 \u001b[1;32mreturn\u001b[0m \u001b[0mself\u001b[0m\u001b[1;33m.\u001b[0m\u001b[0m_sslobj\u001b[0m\u001b[1;33m.\u001b[0m\u001b[0mread\u001b[0m\u001b[1;33m(\u001b[0m\u001b[0mlen\u001b[0m\u001b[1;33m)\u001b[0m\u001b[1;33m\u001b[0m\u001b[1;33m\u001b[0m\u001b[0m\n",
      "\u001b[1;31mKeyboardInterrupt\u001b[0m: "
     ]
    }
   ],
   "source": [
    "c = 2174\n",
    "for c_id, claim in zip(gpt4_df_id[c:3000],gpt4_df_claimReviewed[c:3000]):\n",
    "\n",
    "    ans = dict()\n",
    "    for q,question in enumerate(FABLE):\n",
    "        print('\\r%d / %d  ( %d / %d )' %(c, 6718, q, 52), end='')\n",
    "        ans[q]=gpt_ans(claim,question)\n",
    "        \n",
    "    ans_dict[c_id] = ans\n",
    "    \n",
    "    if c % 10 == 0:\n",
    "        save_bin(\"new_data/ans_dict_2001-2999/ans_dict_-\"+str(c)+\".bin\",ans_dict)\n",
    "        ans_dict = dict()\n",
    "    c += 1"
   ]
  },
  {
   "cell_type": "code",
   "execution_count": 202,
   "id": "8db5eeff",
   "metadata": {},
   "outputs": [
    {
     "name": "stdout",
     "output_type": "stream",
     "text": [
      "90b94083-3c3e-474a-8d97-7798c0b89589\n",
      "52\n",
      "df3ac55f-9050-4022-97c0-d8e2d83b00db\n",
      "52\n",
      "48a3e384-7594-476c-bb85-5a458e0ed3e2\n",
      "52\n",
      "39faad84-5fcd-471d-9f3b-c0ba4fe9e14f\n",
      "52\n",
      "d7208c89-4a08-4877-ac34-ab913bea2155\n",
      "52\n"
     ]
    }
   ],
   "source": [
    "for k,v in ans_dict.items():\n",
    "    print(k)\n",
    "    print(len(v))"
   ]
  },
  {
   "cell_type": "code",
   "execution_count": 203,
   "id": "7e3fd5e2",
   "metadata": {},
   "outputs": [
    {
     "data": {
      "text/plain": [
       "['90b94083-3c3e-474a-8d97-7798c0b89589',\n",
       " 'df3ac55f-9050-4022-97c0-d8e2d83b00db',\n",
       " '48a3e384-7594-476c-bb85-5a458e0ed3e2',\n",
       " '39faad84-5fcd-471d-9f3b-c0ba4fe9e14f',\n",
       " 'd7208c89-4a08-4877-ac34-ab913bea2155',\n",
       " '0420b7e1-d582-41ad-a962-854aea60fcfd']"
      ]
     },
     "execution_count": 203,
     "metadata": {},
     "output_type": "execute_result"
    }
   ],
   "source": [
    "gpt4_df_id[3000:3006]"
   ]
  },
  {
   "cell_type": "code",
   "execution_count": 199,
   "id": "5e898ab3",
   "metadata": {},
   "outputs": [
    {
     "data": {
      "text/plain": [
       "3005"
      ]
     },
     "execution_count": 199,
     "metadata": {},
     "output_type": "execute_result"
    }
   ],
   "source": [
    "c"
   ]
  },
  {
   "cell_type": "code",
   "execution_count": 200,
   "id": "9c76739a",
   "metadata": {},
   "outputs": [],
   "source": [
    "save_bin(\"new_data/ans_dict_3000-/ans_dict_-\"+str(c)+\".bin\",ans_dict)"
   ]
  },
  {
   "cell_type": "code",
   "execution_count": 196,
   "id": "023f4432",
   "metadata": {},
   "outputs": [
    {
     "data": {
      "text/plain": [
       "{0: \"<answer>Unknown</answer>\\n<reason>The information provided in the claim does not give enough context to determine if it fits into a larger story or argument about how the world works or people think. The claim only indicates the content of a video where Hillary Clinton purportedly blames her election loss and Jeffrey Epstein's death on climate world and people's beliefs. Without additional context or understanding the reasons behind her statements, it is difficult to evaluate how it connects to larger narratives or societal views.</reason>\",\n",
       " 1: '<answer>No</answer>\\n<reason>The claim focuses on attributing certain unrelated events to climate change as stated by Hillary Clinton according to the video, but it does not inherently question the trust in or the functioning of public institutions. The specifics of her blaming these events on climate change might indicate irrational or misleading arguments or could discuss her perception of climate impact widely and inappropriately, but it does not directly address or challenge the trustworthiness or efficacy of public institutions.</reason>',\n",
       " 2: \"<answer>No</answer>\\n<reason>The question is specifically about whether a video shows Hillary Clinton attributing different events, including her 2016 election loss and Jeffrey Epstein's death, to climate change. It does not directly question or involve the trust in or functioning of the scientific community. Instead, it focuses on the content of a claimed video and what is attributed to a political figure, rather than addressing or challenging scientific methods, findings, or the integrity of the scientific community itself.</reason>\",\n",
       " 3: '<answer>No</answer>\\n<reason>The claim focuses on the content of a video purportedly showing Hillary Clinton attributing various unrelated events to climate change. The question regarding the claim does not involve any direct mention or implication questioning the performance or reliability of news sources or the media in general. It strictly concerns the accuracy of the content of a video which allegedly features statements made by Hillary Clinton. Therefore, the primary focus is on the assertion about what Clinton said, not on media trustworthiness or functionality.</reason>',\n",
       " 4: \"<answer>No</answer>\\n<reason>The question specifically asks whether there is evidence in a video regarding Hillary Clinton's comments blaming various events on climate change. This question is focused on the content of a specific claim about what Hillary Clinton allegedly said, not about the trustworthiness of other people in general within a community or society. It is assessing the accuracy or existence of a particular piece of content, not making a broader judgment about societal trust or generalizing about the reliability of people.</reason>\",\n",
       " 5: '<answer>No</answer>\\n<reason>The claim describes a video alleging Hillary Clinton blamed her 2016 election loss and Jeffrey Epstein’s death on climate change. This claim does not directly attack the election process itself, nor does it question the integrity or legitimacy of the election processes in a democratic country. It focuses on the reasons attributed by Clinton to two unrelated events, one of which includes her election loss, but attributing her loss to climate change does not inherently allege fraud, manipulation, or systemic flaws in the actual election process.</reason>',\n",
       " 6: '<answer>No</answer>\\n<reason>The claim focuses solely on the content of a video in which Hillary Clinton allegedly blames various events on climate proceedings of analyzing the video content for accuracy or context. There is no mention of an explicit call to action or any directive for viewers to engage in specific activities or behaviors in response to the information presented in the video.</reason>',\n",
       " 7: '<answer>No</answer>\\n<reason>The claim provided does not reference any coordination efforts, dates, times, or arrangements for follow-up. It only mentions the content of a purported video showing Hillary Clinton blaming various events on climate change. There is no indication of any planning or organizational context required to assess whether it includes coordination efforts.</reason>',\n",
       " 8: \"<answer>No</answer>\\n<reason>The message describes content purportedly shown in a video involving Hillary Clinton discussing unrelated public events (her 2016 election loss and Jeffrey Epstein's death) and attributing them to climate change. There is no mention of an individual's personal identifying information, address, or workplace that could potentially lead to direct harm. The individuals named, such as Hillary Clinton and Jeffrey Epstein, are mentioned only in the context of public events and not in a manner that exposes personal details or could incite direct harm.</reason>\",\n",
       " 9: \"<answer>No</answer>\\n<reason>The message content presented in the claim focuses on alleged statements made by Hillary Clinton regarding her 2016 election loss and other events, attributing them to climate change. This does not inherently convey a tone of urgency or mention any time-sensitive elements, as it mainly highlights supposed accusations or explanations by Clinton. The claim's content is about what was blamed, rather than expressing imminent or urgent needs or deadlines related to those issues.</reason>\",\n",
       " 10: \"<answer>No</answer>\\n<reason>The claim you've presented reports on content of a video where Hillary Clinton allegedly blames various events, including her 2016 election loss and Jeffrey Epstein's death, on climate change. There is no mention or indication in your question of any threats of violence being part of this content. Blaming events on climate change, while arguably controversial or unexpected, does not inherently involve or suggest any violent threats.</reason>\",\n",
       " 11: '<answer>No</answer>\\n<reason>The claim does not appear to target or blame any specific group identified by religion, gender, sexual orientation, race, country, or culture. Instead, it focuses on statements purportedly made by an individual, Hillary Clinton, concerning various events. The content of the claim revolves around purported political or personal statements she made, rather than casting aspersions or hatred toward a particular group that has been historically marginalized or harmed.</reason>',\n",
       " 12: '<answer>No</answer>\\n<reason>The claim discusses a video that purportedly shows Hillary Clinton blaming various events, including her 2016 election loss and Jeffrey Epstein’s death, on climate change. This content primarily focuses on purported statements made by a political figure, rather than directly addressing issues of injustice or moral outrage, especially concerning vulnerable individuals or specific disadvantaged groups such as children or women. The claim does not inherently involve advocacy or concern for such groups, nor does it imply an appeal to moral foundations relating to harm or fairness concerning vulnerable populations.</reason>',\n",
       " 13: \"<answer>Unknown</answer>\\n<reason>The claim focuses solely on the alleged content of a video involving Hillary Clinton discussing various events in relation to climate change. The question inquires about the history of the direct target or the audience's actions related to causing harm, but this information is not provided or implied in the claim about the video. Consequently, there is insufficient information to determine whether the direct target or audience members have a history of harmful actions based on the claim provided.</………>\",\n",
       " 14: \"<answer>No</answer>\\n<reason>The question provided asks whether the message that a video shows Hillary Clinton blaming various events including her 2016 election loss and Jeffrey Epstein's death on climate change is associated with or similar to other messages that are actionable. The assessment of whether a message is actionable generally pertains to whether it invites or necessitates a response or intervention, such as legal or protective actions. Hillary Clinton blaming events on climate change, as described, does not inherently suggest any need for immediate legal or protective actions—it is an expression of opinion or a purported statement made by a public figure. Thus, without further context suggesting harm or direct consequences from these statements, the claim itself is not typically aligned with messages prompting actions like legal intervention, censorship, or specific policy changes based solely on the claim's content.</reason>\",\n",
       " 15: '<answer>No</answer>\\n<reason>The claim that a video shows Hillary Clinton blaming various events, including her 2016 election loss and Jeffrey Epstein’s death, on climate change is likely to be provably false based on the public record of her comments and statements over the years. Hillary Clinton, a public figure whose speeches and comments are widely reported and analyzed, has made no such claims linking these specific events to climate change. If there were such a video, it would have likely been covered extensively by credible news sources given its controversial nature. The lack of credible reports or evidence supporting this claim points to the availability of high quality information refuting the message’s claim rather than a lack of it.</reason>',\n",
       " 16: \"<answer>No</answer>\\n<reason>The claim that a video shows Hillary Clinton blaming various events, including her 2016 election loss and Jeffrey Epstein's death, on climate change seems implausible and lacks substantiation. No such public records, speeches, or credible sources verify this specific attribution to her. Given Hillary Clinton's history of public commentary and the usual context of her speeches, alleging she would link her election loss and Jeffrey Epstein's death to climate change is likely incorrect or taken out of context. Generally, such established figure's statements are well-documented, and no significant controversy or debate among experts on the existence or content of such a video appears in credible forums or news sources.</reason>\",\n",
       " 17: \"<answer>No</answer>\\n<reason>Given the nature of the task, it lacks specific details about the content or structure of the message referenced in the claim. Without additional text or description from the original claim, it's not possible to accurately determine whether the message fails to include external citations, links, or language about evidence. Therefore, based on just the information provided here, it cannot be concluded that the message indeed lacks supporting elements. Hence, the answer here is based on the assumption and compliance with the typical formats where usually there is no information given in the question about the presence or absence of external citations or evidence unless explicitly mentioned.</reason>\",\n",
       " 18: \"<answer>Unknown</answer>\\n<reason>The message provided does not give any details about the evidence or how it was presented. It simply makes a claim about the content of a video. Without information on whether the video or any accompanying materials used diagrams, graphs, citations, or other formats that might be considered by lay people as tangible or convincible for verifying the truth, it's not possible to assess the richness or falsifiability of the evidence.</reason>\",\n",
       " 19: \"<answer>No</answer>\\n<reason>The given claim does not indicate a personal or persuasive tone specifically; it simply states that a video shows Hillary Clinton attributing various events to climate change. There's no description of the tone used, for instance, to appeal emotionally or share a personal anecdote. Instead, the claim just reports on what is allegedly shown in a video without expressing any personal judgement or attempts at persuasion.</reason>\",\n",
       " 20: '<answer>No</answer>\\n<reason>The question provided specifically asks whether the claim is made, the question is focused on the content of the video, referring to what Hillary Clinton purportedly said regarding her 2016 election loss and Jeffrey Epstein’s death. The question does not ask or imply whether the claim is believable or not, rather it is inquiring about the presence of specific content within the video.</reason>',\n",
       " 21: \"<answer>No</answer>\\n<reason>The claim about a video showing Hillary Clinton blaming various events on climate key does not inherently appeal to a specific community identity by mentioning a shared set of values or beliefs. The content of the claim primarily addresses alleged statements made by Hillary Clinton linking disparate events to climate change, which in itself does not suggest it is targeting or resonating with a specific community identity based on shared values or beliefs. It rather focuses on the purported statements of an individual about various events. The claim does not explicitly invoke or appeal to a particular group's identity or shared ideology but instead highlights a broad and potentially controversial assertion attributed to a political figure.</reason>\",\n",
       " 22: '<answer>Unknown</answer>\\n<reason>The information needed to determine the number of social media or community followers of the poster or organization/outlet that made the claim about Hillary Clinton is not provided in the claim or the question. Without additional context such as the name of the poster or the platform used, it’s impossible to assess their reach or influence based solely on the information given.</reason>',\n",
       " 23: '<answer>Unknown</answer>\\n<reason>The provided information does not specify the organization or outlet that published the video showing Hillary Clinton allegedly blaming various events on climate change. Without details on the publisher, it is impossible to determine the nature of their editorial control or their recognition as a news provider.</reason>',\n",
       " 24: '<answer>No</answer>\\n<reason>The question seeks to evaluate the credentials of the poster of a claimed video. However, the description of the video\\'s content alone does not provide any information about the poster\\'s credentials or their area of expertise. Without additional information regarding the identity and qualifications or professional experience of the poster, it is not possible to affirmatively determine whether they hold credentials representing some kind of expertise. Therefore, based on the information given, the reasonable conclusion is \"No.\"</reason>',\n",
       " 25: '<answer>No</answer>\\n<reason>Based on the information provided in the claim, there is no mention of the content being posted by an imposter individual or counterfeit outlet. The question asks if the video could pass as being from a different person or account at a quick glance, but without additional context regarding the originator of the video or its presentation, there is no evidence to suggest that it was posted by an impostor. Therefore, the answer is \"No,\" since the provided claim does not address the authenticity of the source or indicate any deceptive intent in the representation of the content.</reason>',\n",
       " 26: '<answer>No</answer>\\n<reason>The description of the video content claiming that Hillary Clinton blamed various unrelated events like her 2016 election loss and Jeffrey Epstein’s death on climate change raises immediate red flags about its legitimacy and sourcing. Normally, official news agencies and mainstream information sources adhere to journalistic ethics and would provide a balanced, factual report rather than making far-fetched connections unless these were explicitly stated by the subject. The nature of the claim presented is typical of satirical or sensationalist content rather than a style associated with credible news sources. Furthermore, the legitimate news coverage would typically provide sources, context, and verification for such controversial statements. Without evidence that the video includes these elements, it is unlikely to be styled or presented as credible mainstream news.</reason>',\n",
       " 27: '<answer>Unknown</answer>\\n<reason>The provided text does not include information about the people or entities spreading the claim, such as their social media following, influencer status, or presence in the news media. Without such details, it is not possible to determine the size of their reach or influence based on the information given.</reason>',\n",
       " 28: '<answer>No</answer>\\n<reason>The question itself inherently does not involve any specific \"people or entities\" aside from Hillary Clinton. It does not mention any specific individuals, groups, or reporters who may have spread this information. Therefore, without details on who exactly is responsible for spreading the claim, it\\'s impossible to determine if those individuals or entities are known to be repeat spreaders of questionable information. Hillary Clinton, as a public figure, has been subject to various forms of media coverage and misinformation, but the claim doesn\\'t attribute the source of the information, making it difficult to assess the reliability of the unspecified sources based on this specific question.</reason>',\n",
       " 29: '<answer>No</answer>\\n<reason>Based on the information provided in the query, there is no specific information or evidence mentioned about any coordination activity, whether automated (bots) or not, to encourage the spread of the supposed video. The question at hand solely inquires about the subject of a video purportedly showing Hillary Vlinton blaming her election loss and other events on climate change. Without additional data about dissemination patterns, social media analytics, or mention of coordinated dissemination efforts, it cannot be concluded that there was coordinated activity to spread this content. Therefore, the answer should be \"No\" until more comprehensive details or evidence are provided.</reason>',\n",
       " 30: '<answer>Unknown</answer>\\n<reason>The information provided does not specify whether the video in question is publicly accessible or posted on a popular platform. Without further context, such as a URL, snippet, hosting site information, or publication details, it is impossible to determine the accessibility or location of the content. Verification would require direct access to the video or a credible source describing its availability.</reason>',\n",
       " 31: '<answer>Unknown</answer>\\n<reason>The claim provided does not specify whether the video of Hillary Clinton blaming various events, including her 2016 election loss and Jeffrey Epstein’s death, on climate change is being spread on multiple platforms. Without additional information regarding the distribution or sharing of this video across various social media platforms, websites, or other mediums, it cannot be conclusively determined if the content is spreading on multiple platforms. Therefore, the answer must be \"Unknown\".</reason>',\n",
       " 32: '<answer>Yes</answer>\\n<reason>The claim does not specify which video platform the content is shared on, but video content is typically shared on platforms such as YouTube, Facebook, Twitter, or Instagram. These platforms generally have tools to support amplification, such as resharing capabilities, algorithmic feeds, and recommendation engines that suggest content to users based on their viewing history and preferences. Therefore, it is reasonable to infer that one of the platforms where the video might be shared likely has tools to support content amplification.</reason>',\n",
       " 33: '<answer>No</answer>\\n<reason>The claim does not contain any direct appeals or suggestions that spreading the message would be beneficial in terms of financial, political, or social interests for audience members. Without further context or additional messaging elements that encourage further dissemination based on perceived personal benefits, it is not possible to conclude that there are direct appeals related to such interests in the claim provided.</reason>',\n",
       " 34: \"<answer>No</answer>\\n<reason>The provided claim discusses a video's content whereby Hillary Clinton supposedly blames various events on climate change. However, there is no mention or indication in the claim that the video or message within it calls on viewers to share the content further. The question and claim focus solely on the subjects blamed by Clinton, not on any actions requested or suggested to the audience regarding sharing the video.</reason>\",\n",
       " 35: '<answer>No</answer>\\n<reason>From the provided information alone, it is difficult to ascertain the tone of the video content. The question of whether the tone is \"striking enough in ways that encourage sharing\" cannot be directly answered without more context about how the message in the video is delivered (e.g., if it\\'s sensational, humorous, or controversial). The claim only mentions that the video \"shows Hillary Clinton blamed various events... on climate change,\" which does not provide enough information to determine the tone or its potential for encouraging sharing. Thus, the answer is based on the lack of necessary information to make that judgment.</reason>',\n",
       " 36: '<answer>No</answer>\\n<reason>The provided description of the claim mentions only a \"video\" showing Hillary Clinton but does not detail any specific attributes about the video, such as memorable visual effects, engaging audio elements, or any other eye-catching aspects. Without such specifics, there is no substantial basis to ascertain if the content contains memorable or shareworthy multimedia elements. It only mentions what the video shows in terms of content, not how it presents it.</reason>',\n",
       " 37: \"<answer>No</answer>\\n<reason>The claim describes the content of a video in which Hillary Clinton allegedly blames various events on climate change. This claim itself does not indicate that the information being presented has just been discovered or is being revealed momentarily. There isn't an implication of urgency or a breaking news quality to the statement about the content of the video. The description seems to summarize the subject of a video and does not attribute any temporal exclusivity to the information or present it as newly released or exclusive.</reason>\",\n",
       " 38: \"<answer>Unknown</answer>\\n<reason>Based on the provided information, there is no detail regarding the usage of hashtags in the message or video that supposedly shows Hillary Clinton blaming various events on climate change. Without additional data or context explicitly referencing the presence or absence of hashtags associated with this claim, it's impossible to confirm whether there are hashtags related to the message.</reason>\",\n",
       " 39: \"<answer>No</answer>\\n<reason>The claim that a video shows Hillary Clinton blaming various events, including her 2016 election loss and Jeffrey Epstein's death, on climate change can be fact-checked by reviewing available video content and public statements attributed to Clinton. Fact-checking agencies or researchers can search through her interviews, speeches, and appearances to confirm if such statements were made. As long as the alleged video is accessible, verifying the authenticity of the claim is straightforward through direct analysis of the video content. The presence or absence of the claimed statements would conclusively prove or disprove the claim.</reason>\",\n",
       " 40: \"<answer>No</answer>\\n<reason>The claim provided does not specify whether it is directly related to ongoing news events or topics being widely reported by news outlets. It instead focuses on a particular and unlikely statement attributed to a public figure, which seems more spurious or hyperbolic rather than linked with current affairs. Additionally, while climate change is a continuously relevant and reported issue, the specific connection mentioned in the claim (linking Hillary Clinton’s comments on her election loss and Jeffrey Epstein’s death to climate change) sounds highly unusual and isn't characteristic of mainstream reportage surrounding current or live news topics.</reason>\",\n",
       " 41: '<answer>No</answer>\\n<reason>The claim provided does not mention anything related to children or using language aimed at a younger audience. It only discusses the content of a purported video featuring Hillary Clinton blaming various events, including her 2016 election loss and Jeffrey Epstein’s death, on climate change. This description focuses on political content and does not indicate that the language or messaging is tailored specifically to children.</reason>',\n",
       " 42: \"<answer>No</answer>\\n<reason>The claim itself, stating that a video shows Hillary Clinton blaming various events including her 2016 election loss and Jeffrey Epstein's death on climate change, doesn't inherently introduce a degree of fear or feelings of uneasiness. While Clinton assigning blame to climate change for such events could be seen as misdirected or politically charged, the content of the claim does not explicitly deal with fear-inducing elements such as threats, danger, or immediate concerns for personal safety. Rather, it seems to highlight a supposedly unusual or unreasonable attribution of blame, which could provoke skepticism or debate more than fear or uneasiness.</reason>\",\n",
       " 43: \"<answer>No</answer>\\n<reason>The message content itself is not complicated to understand; it presents a clear claim that a video shows Hillary Clinton attributing several specific events—her 2016 election loss and Jeffrey Epstein's death—to climate change. The claim is straightforward in suggesting that Clinton made a direct connection between these events and climate change in a video. Whether the claim is true or not would require verification, but the idea conveyed by the claim is simply stated and not laden with complex technicalities or ambiguous language.</reason>\",\n",
       " 44: '<answer>No</answer>\\n<reason>The claim specifically mentions a video in which Hillary Clinton allegedly blames various events, including her 2016 election loss and Jeffrey Epstein’s death, on climate change. This description does not make any direct reference to elderly community members, nor does it discuss topics specifically aimed at them. Topics like election outcomes and controversial deaths do not inherently pertain to elderly issues such as senior healthcare, pensions, or age-related social services. Thus, without additional context that links the claim to elderly community members directly, we cannot infer any relevance to this demographic based solely on the information given in the claim.</reason>',\n",
       " 45: \"<answer>No</answer>\\n<reason>The claim discusses a video where Hillary Clinton allegedly blames various events, including her 2016 election loss and Jeffrey Epstein's death, on climate change. This concern chiefly pertains to political commentary and conspiracy theories around these events. There is no mention or indication that the content of the video addresses military veterans directly or discusses topics specifically relevant to them. Thus, the message does not directly address or reference military veterans based on the description provided.</reason>\",\n",
       " 46: \"<answer>No</answer>\\n<reason>The claim provided solely discusses a video where Hillary Clinton allegedly blames different events, including her 2016 election loss and Jeffrey Epstein's death, on climate change. There is no mention of a reader's feelings, feelings of isolation, or anything related to personal emotions or psychological states. The focus is entirely on the content of the purported statements made by Hillary Clinton in a video, which does not relate to or include references to anyone's feelings of isolation.</reason>\",\n",
       " 47: \"<answer>No</answer>\\n\\n<reason>The claim focuses solely on stating that a video shows Hillary Clinton blaming her election loss and Jeffrey Epstein's death on climate change. There is no mention or implication about a reader's feelings, including feelings of powerlessness, in the given claim. Therefore, without additional context or information that connects the claim to how a reader might feel, we cannot infer that it discusses or mentions a reader's feelings of powerlessness.</reason>\",\n",
       " 48: \"<answer>No</answer>\\n<reason>The claim provided focuses solely on the content of a video supposedly showing Hillary Clinton blaming her 2016 election loss and Jeffrey Epstein's death on climate change. It does not mention or imply any reference to a reader’s feelings, including any feelings of disenfranchisement. The claim deals only with the attributed statements of Clinton regarding unrelated issues and makes no reference to how the information might affect or relate to the emotional or psychological state of a reader or a group of readers.</reason>\",\n",
       " 49: '<answer>Unknown</answer>\\n<reason>Without specific information about the online group, community, or thread where the claim is being shared, it is not possible to definitively determine whether it has a history of discussing conspiracy theories or viral misinformation. Assessing the nature of these discussions requires additional context about the group’s characteristics, history, and typical content.</reason>',\n",
       " 50: \"<answer>Unknown</answer>\\n<reason>There is no information provided about the intended audience's language in the claim or the question. The UN languages are English, French, Spanish, Mandarin Chinese, and Russian, and the top 5 most popular languages change but often include English, Mandarin Chinese, Hindi, Spanish, and Arabic. Without details on who the video was intended for or any further context, it's not possible to determine the language of the intended audience.</reason>\",\n",
       " 51: '<answer>No</answer>\\n<reason>The question about the region\\'s context amplifying the harm of the message is not directly addressable with the information provided. The content of the claim—a video showing Hillary Clinton blaming various events on climate change—does not explicitly connect to a specific local context that could amplify its harm, such as regions particularly susceptible to misinformation or politically charged misinformation. Without specifics about how or where the message is being disseminated and consumed (e.g., in an area with significant political tensions or conflicts over climate policy), direct assessment of regional harm amplification is not possible. Therefore, the answer is \"No\" due to a lack of relevant detail in the context question.</reason>'}"
      ]
     },
     "execution_count": 196,
     "metadata": {},
     "output_type": "execute_result"
    }
   ],
   "source": [
    "ans_dict[\"df3ac55f-9050-4022-97c0-d8e2d83b00db\"]"
   ]
  },
  {
   "cell_type": "code",
   "execution_count": 177,
   "id": "01dc82e1",
   "metadata": {},
   "outputs": [
    {
     "ename": "KeyError",
     "evalue": "'0ed308be-7eb4-4318-8a86-b93a9bbc047f'",
     "output_type": "error",
     "traceback": [
      "\u001b[1;31m---------------------------------------------------------------------------\u001b[0m",
      "\u001b[1;31mKeyError\u001b[0m                                  Traceback (most recent call last)",
      "\u001b[1;32m<ipython-input-177-a06a827b21e6>\u001b[0m in \u001b[0;36m<module>\u001b[1;34m\u001b[0m\n\u001b[1;32m----> 1\u001b[1;33m \u001b[0mlen\u001b[0m\u001b[1;33m(\u001b[0m\u001b[0mans_dict\u001b[0m\u001b[1;33m[\u001b[0m\u001b[1;34m\"0ed308be-7eb4-4318-8a86-b93a9bbc047f\"\u001b[0m\u001b[1;33m]\u001b[0m\u001b[1;33m)\u001b[0m\u001b[1;33m\u001b[0m\u001b[1;33m\u001b[0m\u001b[0m\n\u001b[0m",
      "\u001b[1;31mKeyError\u001b[0m: '0ed308be-7eb4-4318-8a86-b93a9bbc047f'"
     ]
    }
   ],
   "source": [
    "len(ans_dict[\"0ed308be-7eb4-4318-8a86-b93a9bbc047f\"])"
   ]
  },
  {
   "cell_type": "code",
   "execution_count": 170,
   "id": "87adc9ba",
   "metadata": {},
   "outputs": [
    {
     "name": "stdout",
     "output_type": "stream",
     "text": [
      "0\n",
      "1\n",
      "2\n"
     ]
    }
   ],
   "source": [
    "for q,question in enumerate(FABLE[:3]):\n",
    "    print(q)"
   ]
  },
  {
   "cell_type": "code",
   "execution_count": 122,
   "id": "ab18a2fc",
   "metadata": {},
   "outputs": [],
   "source": [
    "# ans_dict[14]"
   ]
  },
  {
   "cell_type": "code",
   "execution_count": 89,
   "id": "54c884b5",
   "metadata": {},
   "outputs": [
    {
     "data": {
      "text/plain": [
       "['Volodymyr Zelensky a acheté la Highgrove House du roi Charles III pour 20 millions de livres',\n",
       " '*வயநாட்டில் காங்கிரஸ் ராகுல் காந்தியை ஆதரித்து பாகிஸ்தான் கொடியை அசைத்து ஆதரவு தெரிவிக்கிறார்கள். தயவு செய்து திருந்துங்கள்.*',\n",
       " 'DEUTSCHER GEWINNT BEIM EU GERICHT: FINGERABDRUCK AUF PERSONALAUSWEIS AB 2027 UNGÜLTIG',\n",
       " 'Le chef des renseignements ukrainiens, Kyrylo Boudanov, s\\'est dit \"très heureux\" suite à l\\'attaque terroriste du Crocus City Hall à Moscou.',\n",
       " 'Este video muestra un bombardeo iraní en Tel Aviv (Israel). ',\n",
       " 'Este video muestra el eclipse solar presenciado en Norteamérica el 8 de abril de 2024.',\n",
       " 'Este video muestra cómo censistas borran los datos en el Censo 2024 realizado en Chile. ',\n",
       " 'Eine fehlende Ecke am Stimmzettel und ein Bleistift zum Ankreuzen machen einen Stimmzetteln ungültig.',\n",
       " 'திமுக மாவட்டச் செயலாளர் சிற்றரசு வீட்டில் அமலாக்கத் துறை அதிகாரிகள் போதை மருந்து கடத்தல் தொடர்பாக சோதனை.']"
      ]
     },
     "execution_count": 89,
     "metadata": {},
     "output_type": "execute_result"
    }
   ],
   "source": [
    "claim_text"
   ]
  },
  {
   "cell_type": "code",
   "execution_count": 50,
   "id": "86f0b0cf",
   "metadata": {},
   "outputs": [
    {
     "name": "stdout",
     "output_type": "stream",
     "text": [
      "Benjamin Netanyahu não atendeu Lula ao telefone, indignado com a simpatia do brasileiro ao Hamas, segundo o Embaixador de Israel no Brasil, Daniel Zonshine. O embaixador ainda disse que o Brasil governado por Lula está incluso na lista negra de Países que apoiam o Terrorismo.\n",
      "\n",
      "Does the message fit into a larger story or argument, for example about how the world works or how people think?\n",
      "Does the message question trust in or the functioning of public institutions?\n",
      "Das Video zeigt ein brennendes Polizeiauto in Schweden.\n",
      "\n",
      "Does the message fit into a larger story or argument, for example about how the world works or how people think?\n",
      "Does the message question trust in or the functioning of public institutions?\n"
     ]
    }
   ],
   "source": [
    "counter = 0\n",
    "for index, row in gpt35_df.iterrows():\n",
    "    if counter < 10:  # 3回のみ繰り返す\n",
    "        print(row['claimReviewed'])\n",
    "        print()\n",
    "        ans = []\n",
    "        for question in FABLE[0]:\n",
    "            print(question)\n",
    "        counter += 1"
   ]
  },
  {
   "cell_type": "code",
   "execution_count": null,
   "id": "70b105c3",
   "metadata": {},
   "outputs": [],
   "source": []
  }
 ],
 "metadata": {
  "kernelspec": {
   "display_name": "Python 3 (ipykernel)",
   "language": "python",
   "name": "python3"
  },
  "language_info": {
   "codemirror_mode": {
    "name": "ipython",
    "version": 3
   },
   "file_extension": ".py",
   "mimetype": "text/x-python",
   "name": "python",
   "nbconvert_exporter": "python",
   "pygments_lexer": "ipython3",
   "version": "3.12.4"
  }
 },
 "nbformat": 4,
 "nbformat_minor": 5
}
