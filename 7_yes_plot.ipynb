{
 "cells": [
  {
   "cell_type": "code",
   "execution_count": 2,
   "id": "7a0763c2",
   "metadata": {},
   "outputs": [],
   "source": [
    "import pickle\n",
    "def read_bin(filename):\n",
    "    with open(filename,'rb') as bf:\n",
    "        bin_data = pickle.load(bf)\n",
    "    return bin_data\n",
    "\n",
    "def save_bin(filename,data):\n",
    "    with open(filename,'wb') as bf:\n",
    "        pickle.dump(data,bf)"
   ]
  },
  {
   "cell_type": "code",
   "execution_count": 4,
   "id": "acaa0d62",
   "metadata": {},
   "outputs": [],
   "source": [
    "# gpt35_df=read_bin(\"new_data/gpt35_df.bin\")\n",
    "# gpt4o_df=read_bin(\"new_data/gpt4o_df.bin\")\n",
    "gpt4_df=read_bin(\"new_data/gpt4_df.bin\")"
   ]
  },
  {
   "cell_type": "code",
   "execution_count": 5,
   "id": "fd7b0e6e",
   "metadata": {},
   "outputs": [],
   "source": [
    "# del gpt35_df\n",
    "# del gpt4o_df\n",
    "# del gpt4_df"
   ]
  },
  {
   "cell_type": "code",
   "execution_count": 6,
   "id": "7ce9bfea",
   "metadata": {},
   "outputs": [],
   "source": [
    "FABLE = read_bin(\"new_data/FABLE.bin\")"
   ]
  },
  {
   "cell_type": "code",
   "execution_count": 7,
   "id": "41a53f07",
   "metadata": {},
   "outputs": [
    {
     "data": {
      "text/plain": [
       "'Does the message fit into a larger story or argument, for example about how the world works or how people think?'"
      ]
     },
     "execution_count": 7,
     "metadata": {},
     "output_type": "execute_result"
    }
   ],
   "source": [
    "FABLE[0]"
   ]
  },
  {
   "cell_type": "code",
   "execution_count": 8,
   "id": "05e97411",
   "metadata": {},
   "outputs": [
    {
     "data": {
      "text/html": [
       "<div>\n",
       "<style scoped>\n",
       "    .dataframe tbody tr th:only-of-type {\n",
       "        vertical-align: middle;\n",
       "    }\n",
       "\n",
       "    .dataframe tbody tr th {\n",
       "        vertical-align: top;\n",
       "    }\n",
       "\n",
       "    .dataframe thead th {\n",
       "        text-align: right;\n",
       "    }\n",
       "</style>\n",
       "<table border=\"1\" class=\"dataframe\">\n",
       "  <thead>\n",
       "    <tr style=\"text-align: right;\">\n",
       "      <th></th>\n",
       "      <th>id</th>\n",
       "      <th>datePublished</th>\n",
       "      <th>itemReviewed.datePublished</th>\n",
       "      <th>claimReviewed</th>\n",
       "      <th>author.name</th>\n",
       "      <th>reviewRating.@type</th>\n",
       "      <th>reviewRating.ratingValue</th>\n",
       "      <th>reviewRating.alternateName</th>\n",
       "      <th>date_diff</th>\n",
       "      <th>language</th>\n",
       "    </tr>\n",
       "  </thead>\n",
       "  <tbody>\n",
       "    <tr>\n",
       "      <th>25</th>\n",
       "      <td>75eae0a2-c474-4200-9889-f1f80a83be5e</td>\n",
       "      <td>2024-04-09 00:00:00+00:00</td>\n",
       "      <td>2024-03-27 00:00:00+00:00</td>\n",
       "      <td>Laut ORF-Artikel wurde Siegfried Meryn in eine...</td>\n",
       "      <td>dpa</td>\n",
       "      <td>Rating</td>\n",
       "      <td>NaN</td>\n",
       "      <td>Die angebliche ORF-Webseite wurde gefälscht, d...</td>\n",
       "      <td>13.0</td>\n",
       "      <td>de</td>\n",
       "    </tr>\n",
       "  </tbody>\n",
       "</table>\n",
       "</div>"
      ],
      "text/plain": [
       "                                      id             datePublished  \\\n",
       "25  75eae0a2-c474-4200-9889-f1f80a83be5e 2024-04-09 00:00:00+00:00   \n",
       "\n",
       "   itemReviewed.datePublished  \\\n",
       "25  2024-03-27 00:00:00+00:00   \n",
       "\n",
       "                                        claimReviewed author.name  \\\n",
       "25  Laut ORF-Artikel wurde Siegfried Meryn in eine...         dpa   \n",
       "\n",
       "   reviewRating.@type reviewRating.ratingValue  \\\n",
       "25             Rating                      NaN   \n",
       "\n",
       "                           reviewRating.alternateName  date_diff language  \n",
       "25  Die angebliche ORF-Webseite wurde gefälscht, d...       13.0       de  "
      ]
     },
     "execution_count": 8,
     "metadata": {},
     "output_type": "execute_result"
    }
   ],
   "source": [
    "gpt4_df.head(1)"
   ]
  },
  {
   "cell_type": "code",
   "execution_count": 5,
   "id": "18bfeaef",
   "metadata": {},
   "outputs": [
    {
     "name": "stdout",
     "output_type": "stream",
     "text": [
      "No duplicate IDs found.\n"
     ]
    }
   ],
   "source": [
    "def duplicate_checker(df):\n",
    "    if df['id'].duplicated().any():\n",
    "        print(\"There are duplicate IDs. Here they are:\")\n",
    "        # 重複している行を表示\n",
    "        print(df[df['id'].duplicated(keep=False)])\n",
    "    else:\n",
    "        print(\"No duplicate IDs found.\")\n",
    "        \n",
    "duplicate_checker(gpt4_df)"
   ]
  },
  {
   "cell_type": "markdown",
   "id": "dffb4313",
   "metadata": {},
   "source": [
    "## YES集計ans_dict_fix・描画"
   ]
  },
  {
   "cell_type": "code",
   "execution_count": 6,
   "id": "0e1b05be",
   "metadata": {},
   "outputs": [],
   "source": [
    "# t = 0\n",
    "# for i in ans_dict_fix[37]:\n",
    "    \n",
    "# #     print(CL[i])\n",
    "#     print(FABLE[t])\n",
    "#     print(i)\n",
    "#     print()\n",
    "#     t+=1"
   ]
  },
  {
   "cell_type": "code",
   "execution_count": 9,
   "id": "3ef935ff",
   "metadata": {},
   "outputs": [],
   "source": [
    "gpt4_df_id = list(gpt4_df[\"id\"])\n",
    "gpt4_df_date_diff = list(gpt4_df[\"date_diff\"])\n",
    "CL = list(gpt4_df[\"claimReviewed\"])"
   ]
  },
  {
   "cell_type": "code",
   "execution_count": 10,
   "id": "18f8adb2",
   "metadata": {},
   "outputs": [],
   "source": [
    "CL_d = dict()\n",
    "for i in range(len(gpt4_df_id)):\n",
    "    CL_d[gpt4_df_id[i]] = CL[i]"
   ]
  },
  {
   "cell_type": "code",
   "execution_count": 11,
   "id": "1c577c54",
   "metadata": {},
   "outputs": [],
   "source": [
    "gpt4_df_date_diff_d = dict()\n",
    "\n",
    "for c_id,diff in zip(gpt4_df_id,gpt4_df_date_diff):\n",
    "    gpt4_df_date_diff_d[c_id] = diff"
   ]
  },
  {
   "cell_type": "code",
   "execution_count": 27,
   "id": "24c4946b",
   "metadata": {},
   "outputs": [],
   "source": [
    "# ans_d_37_624 = dict()\n",
    "# ans_dict_fix = read_bin(\"new_data/ans_dict/ans_correct_dict_handy_fix_37-624.bin\")\n",
    "# for k,v in ans_dict_fix.items():\n",
    "    \n",
    "#     new_d = dict()\n",
    "#     for i in range(len(v)):\n",
    "#         new_d[i] = v[i]\n",
    "#     ans_d_37_624[gpt4_df_id[k]] = new_d"
   ]
  },
  {
   "cell_type": "code",
   "execution_count": 38,
   "id": "4ef4baf0",
   "metadata": {},
   "outputs": [],
   "source": [
    "# ans_d_1000_1180 =dict()\n",
    "# num = 1000\n",
    "# while num < 1181:\n",
    "#     ans_d_1000_1180 = dict(**ans_d_1000_1180, **read_bin(\"new_data/ans_dict_1000-2000/ans_dict_-\"+str(num)+\".bin\"))\n",
    "#     num += 10"
   ]
  },
  {
   "cell_type": "code",
   "execution_count": 39,
   "id": "311ddabb",
   "metadata": {},
   "outputs": [],
   "source": [
    "# ans_d_2010_2190 =dict()\n",
    "# num = 2010\n",
    "# while num < 2190:\n",
    "#     ans_d_2010_2190 = dict(**ans_d_2010_2190, **read_bin(\"new_data/ans_dict_2001-2999/ans_dict_-\"+str(num)+\".bin\"))\n",
    "#     num += 10"
   ]
  },
  {
   "cell_type": "code",
   "execution_count": 47,
   "id": "73741af5",
   "metadata": {},
   "outputs": [],
   "source": [
    "# ans_d_3010_3270 =dict()\n",
    "# num = 3010\n",
    "# while num < 3271:\n",
    "#     ans_d_3010_3270 = dict(**ans_d_3010_3270, **read_bin(\"new_data/ans_dict_3000-/ans_dict_-\"+str(num)+\".bin\"))\n",
    "#     num += 10"
   ]
  },
  {
   "cell_type": "code",
   "execution_count": 23,
   "id": "0b1b7c55",
   "metadata": {},
   "outputs": [],
   "source": [
    "# ans_d_4000_4190 =dict()\n",
    "# num = 4000\n",
    "# while num < 4191:\n",
    "#     ans_d_4000_4190 = dict(**ans_d_4000_4190, **read_bin(\"new_data/ans_dict_4000-4999/ans_dict_-\"+str(num)+\".bin\"))\n",
    "#     num += 10"
   ]
  },
  {
   "cell_type": "code",
   "execution_count": 50,
   "id": "cba115d3",
   "metadata": {},
   "outputs": [],
   "source": [
    "# save_bin(\"new_data/concat_ans_dict/ans_d_37_624.bin\",ans_d_37_624)\n",
    "# save_bin(\"new_data/concat_ans_dict/ans_d_1000_1180.bin\",ans_d_1000_1180)\n",
    "# save_bin(\"new_data/concat_ans_dict/ans_d_2010_2190.bin\",ans_d_2010_2190)\n",
    "# save_bin(\"new_data/concat_ans_dict/ans_d_3010_3270.bin\",ans_d_3010_3270)\n",
    "# save_bin(\"new_data/concat_ans_dict/ans_d_4000_4190.bin\",ans_d_4000_4190)"
   ]
  },
  {
   "cell_type": "code",
   "execution_count": 52,
   "id": "034a9af5",
   "metadata": {},
   "outputs": [],
   "source": [
    "# ans_d = {**ans_d_37_624,**ans_d_1000_1180,**ans_d_2010_2190,**ans_d_3010_3270,**ans_d_4000_4190}"
   ]
  },
  {
   "cell_type": "code",
   "execution_count": 53,
   "id": "ffc5aa00",
   "metadata": {},
   "outputs": [],
   "source": [
    "# save_bin(\"new_data/concat_ans_dict/ans_d.bin\",ans_d)"
   ]
  },
  {
   "cell_type": "code",
   "execution_count": 14,
   "id": "afcd4b21",
   "metadata": {},
   "outputs": [],
   "source": [
    "import re\n",
    "pattern = re.compile(r'<answer>(.*?)</answer>', re.IGNORECASE)\n",
    "    \n",
    "sum_yes = []\n",
    "for k,v in ans_dict_fix.items():\n",
    "    yes_num = 0\n",
    "    for text in v:\n",
    "        match = pattern.findall(text)\n",
    "        try:\n",
    "            if match[0] == 'Yes':\n",
    "                yes_num += 1\n",
    "        except:\n",
    "            pass\n",
    "#             print(match,text)\n",
    "    sum_yes.append(yes_num)"
   ]
  },
  {
   "cell_type": "code",
   "execution_count": 15,
   "id": "e0d011d0",
   "metadata": {},
   "outputs": [
    {
     "data": {
      "text/plain": [
       "588"
      ]
     },
     "execution_count": 15,
     "metadata": {},
     "output_type": "execute_result"
    }
   ],
   "source": [
    "len(sum_yes)"
   ]
  },
  {
   "cell_type": "code",
   "execution_count": 39,
   "id": "400fb4b7",
   "metadata": {},
   "outputs": [
    {
     "data": {
      "text/plain": [
       "[4, 2, 0, 2, 2, 4, 4, 4, 1, 0]"
      ]
     },
     "execution_count": 39,
     "metadata": {},
     "output_type": "execute_result"
    }
   ],
   "source": [
    "sum_yes[0:10]\n",
    "# ヴァイオリンプロット\n",
    "# マイナー言語？\n",
    "# くだらない話題"
   ]
  },
  {
   "cell_type": "code",
   "execution_count": 43,
   "id": "749ec484",
   "metadata": {},
   "outputs": [
    {
     "data": {
      "image/png": "[encoded data removed]",
      "text/plain": [
       "<Figure size 432x288 with 1 Axes>"
      ]
     },
     "metadata": {
      "needs_background": "light"
     },
     "output_type": "display_data"
    }
   ],
   "source": [
    "import matplotlib.pyplot as plt\n",
    "\n",
    "# 散布図の作成\n",
    "plt.scatter(sum_yes, gpt4_df_date_diff[37:625])\n",
    "\n",
    "# タイトルとラベルの設定\n",
    "plt.title(\"Scatter Plot Example\")\n",
    "plt.xlabel(\"X Axis\")\n",
    "plt.ylabel(\"Y Axis\")\n",
    "\n",
    "# plt.ylim(0, 400)\n",
    "# グラフの表示\n",
    "plt.show()"
   ]
  },
  {
   "cell_type": "code",
   "execution_count": 44,
   "id": "cb167118",
   "metadata": {},
   "outputs": [
    {
     "data": {
      "image/png": "[encoded data removed]",
      "text/plain": [
       "<Figure size 432x288 with 1 Axes>"
      ]
     },
     "metadata": {
      "needs_background": "light"
     },
     "output_type": "display_data"
    }
   ],
   "source": [
    "import matplotlib.pyplot as plt\n",
    "\n",
    "# 散布図の作成\n",
    "plt.scatter(sum_yes, gpt4_df_date_diff[37:625])\n",
    "\n",
    "# タイトルとラベルの設定\n",
    "plt.title(\"Scatter Plot Example\")\n",
    "plt.xlabel(\"X Axis\")\n",
    "plt.ylabel(\"Y Axis\")\n",
    "\n",
    "plt.ylim(0, 100)\n",
    "# グラフの表示\n",
    "plt.show()"
   ]
  },
  {
   "cell_type": "code",
   "execution_count": null,
   "id": "f398ab13",
   "metadata": {},
   "outputs": [],
   "source": [
    "# トピックごとに分類　おいしい物はない\n",
    "# リグレッション問題\n",
    "# Yesの数に疑問\n",
    "\n",
    "# チェインオブソート\n",
    "# 個々に重みがついているなら\n",
    "# "
   ]
  },
  {
   "cell_type": "code",
   "execution_count": 45,
   "id": "50588b50",
   "metadata": {},
   "outputs": [
    {
     "data": {
      "image/png": "[encoded data removed]",
      "text/plain": [
       "<Figure size 432x288 with 1 Axes>"
      ]
     },
     "metadata": {
      "needs_background": "light"
     },
     "output_type": "display_data"
    }
   ],
   "source": [
    "import matplotlib.pyplot as plt\n",
    "\n",
    "# 散布図の作成\n",
    "plt.scatter(sum_yes, gpt4_df_date_diff[37:625])\n",
    "\n",
    "# タイトルとラベルの設定\n",
    "plt.title(\"Scatter Plot Example\")\n",
    "plt.xlabel(\"X Axis\")\n",
    "plt.ylabel(\"Y Axis\")\n",
    "\n",
    "plt.ylim(0, 50)\n",
    "# グラフの表示\n",
    "plt.show()"
   ]
  },
  {
   "cell_type": "code",
   "execution_count": 3,
   "id": "b0754baa",
   "metadata": {},
   "outputs": [],
   "source": [
    "# ・Yes数の分布が必要\n",
    "# ・XとYの\n",
    "# ・52の各項目ごとの分布\n",
    "# ・各項目の中の重要度\n",
    "# ・やりやすいから　ではなく　特定の因子があるのでやられている　の可能性がある\n",
    "# ・Yes No Unkown　tag失敗　の割合\n",
    "# ・なぜLLMを使用する必要がある\n",
    "# ・十分な人員を配置できていない国がある．そういう国の支援に回す"
   ]
  },
  {
   "cell_type": "code",
   "execution_count": 46,
   "id": "3331622b",
   "metadata": {},
   "outputs": [
    {
     "data": {
      "image/png": "[encoded data removed]",
      "text/plain": [
       "<Figure size 432x288 with 1 Axes>"
      ]
     },
     "metadata": {
      "needs_background": "light"
     },
     "output_type": "display_data"
    }
   ],
   "source": [
    "import matplotlib.pyplot as plt\n",
    "\n",
    "# 散布図の作成\n",
    "plt.scatter(sum_yes, gpt4_df_date_diff[37:625])\n",
    "\n",
    "# タイトルとラベルの設定\n",
    "plt.title(\"Scatter Plot Example\")\n",
    "plt.xlabel(\"X Axis\")\n",
    "plt.ylabel(\"Y Axis\")\n",
    "\n",
    "plt.ylim(0, 20)\n",
    "# グラフの表示\n",
    "plt.show()"
   ]
  },
  {
   "cell_type": "code",
   "execution_count": 203,
   "id": "b97e4aeb",
   "metadata": {},
   "outputs": [
    {
     "data": {
      "text/plain": [
       "['90b94083-3c3e-474a-8d97-7798c0b89589',\n",
       " 'df3ac55f-9050-4022-97c0-d8e2d83b00db',\n",
       " '48a3e384-7594-476c-bb85-5a458e0ed3e2',\n",
       " '39faad84-5fcd-471d-9f3b-c0ba4fe9e14f',\n",
       " 'd7208c89-4a08-4877-ac34-ab913bea2155',\n",
       " '0420b7e1-d582-41ad-a962-854aea60fcfd']"
      ]
     },
     "execution_count": 203,
     "metadata": {},
     "output_type": "execute_result"
    }
   ],
   "source": [
    "gpt4_df_id[3000:3006]"
   ]
  },
  {
   "cell_type": "code",
   "execution_count": 199,
   "id": "fb01b264",
   "metadata": {},
   "outputs": [
    {
     "data": {
      "text/plain": [
       "3005"
      ]
     },
     "execution_count": 199,
     "metadata": {},
     "output_type": "execute_result"
    }
   ],
   "source": [
    "c"
   ]
  },
  {
   "cell_type": "code",
   "execution_count": 200,
   "id": "5735ccd3",
   "metadata": {},
   "outputs": [],
   "source": [
    "save_bin(\"new_data/ans_dict_3000-/ans_dict_-\"+str(c)+\".bin\",ans_dict)"
   ]
  },
  {
   "cell_type": "markdown",
   "id": "9b863247",
   "metadata": {},
   "source": [
    "## 現時点で取得できた全データを使用して描写"
   ]
  },
  {
   "cell_type": "code",
   "execution_count": 65,
   "id": "9d0b4c62",
   "metadata": {},
   "outputs": [],
   "source": [
    "ans_d = read_bin(\"new_data/concat_ans_dict/ans_d.bin\")#1405\n",
    "\n",
    "import re\n",
    "pattern = re.compile(r'<answer>(.*?)</answer>', re.IGNORECASE)\n",
    "    \n",
    "sum_yes_l = []\n",
    "diff_l = []\n",
    "for k,v in ans_d.items():\n",
    "    yes_num = 0\n",
    "    diff_l.append(gpt4_df_date_diff_d[k])\n",
    "    for i in range(52):\n",
    "        match = pattern.findall(v[i])\n",
    "        try:\n",
    "            if match[0] == 'Yes':\n",
    "                yes_num += 1\n",
    "        except:\n",
    "            pass\n",
    "#             print(match,text)\n",
    "    sum_yes_l.append(yes_num)"
   ]
  },
  {
   "cell_type": "code",
   "execution_count": 66,
   "id": "b1902985",
   "metadata": {},
   "outputs": [
    {
     "data": {
      "text/plain": [
       "1405"
      ]
     },
     "execution_count": 66,
     "metadata": {},
     "output_type": "execute_result"
    }
   ],
   "source": [
    "len(sum_yes_l)"
   ]
  },
  {
   "cell_type": "code",
   "execution_count": 79,
   "id": "6813cfd5",
   "metadata": {},
   "outputs": [
    {
     "data": {
      "text/plain": [
       "14"
      ]
     },
     "execution_count": 79,
     "metadata": {},
     "output_type": "execute_result"
    }
   ],
   "source": [
    "max(sum_yes_l)"
   ]
  },
  {
   "cell_type": "code",
   "execution_count": 67,
   "id": "8a695c92",
   "metadata": {},
   "outputs": [
    {
     "data": {
      "text/plain": [
       "1405"
      ]
     },
     "execution_count": 67,
     "metadata": {},
     "output_type": "execute_result"
    }
   ],
   "source": [
    "len(diff_l)"
   ]
  },
  {
   "cell_type": "code",
   "execution_count": 80,
   "id": "1f4c0b69",
   "metadata": {},
   "outputs": [
    {
     "data": {
      "text/plain": [
       "752.0000000000001"
      ]
     },
     "execution_count": 80,
     "metadata": {},
     "output_type": "execute_result"
    }
   ],
   "source": [
    "max(diff_l)"
   ]
  },
  {
   "cell_type": "code",
   "execution_count": 246,
   "id": "4a7fe680",
   "metadata": {},
   "outputs": [],
   "source": [
    "sikii = 90"
   ]
  },
  {
   "cell_type": "code",
   "execution_count": 359,
   "id": "a6c1b26c",
   "metadata": {},
   "outputs": [
    {
     "data": {
      "image/png": "[encoded data removed]",
      "text/plain": [
       "<Figure size 432x288 with 1 Axes>"
      ]
     },
     "metadata": {
      "needs_background": "light"
     },
     "output_type": "display_data"
    },
    {
     "data": {
      "text/plain": [
       "<Figure size 432x288 with 0 Axes>"
      ]
     },
     "metadata": {},
     "output_type": "display_data"
    }
   ],
   "source": [
    "import matplotlib.pyplot as plt\n",
    "import numpy as np\n",
    "\n",
    "# 散布図の作成\n",
    "threshold = np.percentile(sum_yes_l, 75)\n",
    "# 色を設定（上位30%は赤、それ以外は青）\n",
    "colors = ['red' if val >= threshold else 'blue' for val in sum_yes_l]\n",
    "\n",
    "plt.scatter(diff_l,sum_yes_l,s=10,alpha=0.1,c=colors)\n",
    "\n",
    "# タイトルとラベルの設定\n",
    "# plt.title(\"Scatter Plot Example\")\n",
    "plt.xlabel(\"Days to complete check\")\n",
    "plt.ylabel(\"Sum of Yes responses by LLM\")\n",
    "\n",
    "plt.ylim(0, 15)\n",
    "plt.xlim(0, 80)\n",
    "\n",
    "plt.yticks(np.arange(0, 16, 5))\n",
    "# グラフの表示\n",
    "plt.show()\n",
    "plt.savefig('scatter_plot.png')"
   ]
  },
  {
   "cell_type": "code",
   "execution_count": 248,
   "id": "28f75cf0",
   "metadata": {},
   "outputs": [
    {
     "name": "stdout",
     "output_type": "stream",
     "text": [
      "5.0\n"
     ]
    }
   ],
   "source": [
    "threshold = np.percentile(sum_yes_l, sikii)\n",
    "print(threshold)"
   ]
  },
  {
   "cell_type": "code",
   "execution_count": 249,
   "id": "c6cd49e3",
   "metadata": {},
   "outputs": [],
   "source": [
    "# リストの作成\n",
    "sum_yes_l_top10 = [val for val in sum_yes_l if val >= threshold]\n",
    "diff_l_top10 = [diff_l[i] for i in range(len(sum_yes_l)) if sum_yes_l[i] >= threshold]\n",
    "\n",
    "sum_yes_l_under90 = [val for val in sum_yes_l if val < threshold]\n",
    "diff_l_under90 = [diff_l[i] for i in range(len(sum_yes_l)) if sum_yes_l[i] < threshold]"
   ]
  },
  {
   "cell_type": "code",
   "execution_count": 250,
   "id": "a4f2c6bf",
   "metadata": {},
   "outputs": [
    {
     "data": {
      "text/plain": [
       "31.724816684542205"
      ]
     },
     "execution_count": 250,
     "metadata": {},
     "output_type": "execute_result"
    }
   ],
   "source": [
    "# sum_yes_l_under90\n",
    "\n",
    "np.std(diff_l_under90)"
   ]
  },
  {
   "cell_type": "code",
   "execution_count": 251,
   "id": "dc560f06",
   "metadata": {},
   "outputs": [
    {
     "name": "stdout",
     "output_type": "stream",
     "text": [
      "5.269932828090648\n",
      "8.206300882986696\n"
     ]
    }
   ],
   "source": [
    "print(np.mean(diff_l_top10))\n",
    "print(np.mean(diff_l_under90))"
   ]
  },
  {
   "cell_type": "code",
   "execution_count": 252,
   "id": "0563f7c5",
   "metadata": {},
   "outputs": [
    {
     "name": "stdout",
     "output_type": "stream",
     "text": [
      "9.703766885369062\n",
      "31.724816684542205\n"
     ]
    }
   ],
   "source": [
    "print(np.std(diff_l_top10))\n",
    "print(np.std(diff_l_under90))"
   ]
  },
  {
   "cell_type": "code",
   "execution_count": 253,
   "id": "6928bc54",
   "metadata": {},
   "outputs": [],
   "source": [
    "def calculate_iqr(data):\n",
    "    q75, q25 = np.percentile(data, [75, 25])\n",
    "    iqr = q75 - q25\n",
    "    return iqr"
   ]
  },
  {
   "cell_type": "code",
   "execution_count": 254,
   "id": "982350a4",
   "metadata": {},
   "outputs": [
    {
     "name": "stdout",
     "output_type": "stream",
     "text": [
      "IQR of diff_l_top10: 4.299814814814815\n",
      "IQR of diff_l_under90: 7.0\n"
     ]
    }
   ],
   "source": [
    "# 結果の表示\n",
    "print(\"IQR of diff_l_top10:\", calculate_iqr(diff_l_top10))\n",
    "print(\"IQR of diff_l_under90:\", calculate_iqr(diff_l_under90))"
   ]
  },
  {
   "cell_type": "code",
   "execution_count": 255,
   "id": "26d718d0",
   "metadata": {},
   "outputs": [
    {
     "name": "stdout",
     "output_type": "stream",
     "text": [
      "t-statistic: -1.3570776934885118\n",
      "p-value: 0.1749748032098857\n"
     ]
    }
   ],
   "source": [
    "import numpy as np\n",
    "from scipy import stats\n",
    "# t検定の実行\n",
    "t_stat, p_value = stats.ttest_ind(diff_l_top10, diff_l_under90)\n",
    "print(\"t-statistic:\", t_stat)\n",
    "print(\"p-value:\", p_value)"
   ]
  },
  {
   "cell_type": "code",
   "execution_count": 256,
   "id": "b637960e",
   "metadata": {},
   "outputs": [
    {
     "data": {
      "image/png": "[encoded data removed]",
      "text/plain": [
       "<Figure size 432x288 with 1 Axes>"
      ]
     },
     "metadata": {
      "needs_background": "light"
     },
     "output_type": "display_data"
    }
   ],
   "source": [
    "import matplotlib.pyplot as plt\n",
    "\n",
    "filtered_sum_yes_l = [s for s in sum_yes_l if s >= 6]\n",
    "filtered_diff_l = [diff_l[i] for i in range(len(sum_yes_l)) if sum_yes_l[i] >= 6]\n",
    "\n",
    "# 散布図の作成\n",
    "plt.scatter(filtered_diff_l,filtered_sum_yes_l, filtered_diff_l)\n",
    "\n",
    "# タイトルとラベルの設定\n",
    "# plt.title(\"Scatter Plot Example\")\n",
    "plt.xlabel(\"Days while fact-checking\")\n",
    "plt.ylabel(\"Sum of Yes responses by LLM\")\n",
    "\n",
    "plt.ylim(0, 20)\n",
    "plt.xlim(0, 125)\n",
    "# グラフの表示\n",
    "plt.show()"
   ]
  },
  {
   "cell_type": "code",
   "execution_count": 273,
   "id": "d5619233",
   "metadata": {},
   "outputs": [
    {
     "data": {
      "text/plain": [
       "Text(0, 0.5, 'Frequency')"
      ]
     },
     "execution_count": 273,
     "metadata": {},
     "output_type": "execute_result"
    },
    {
     "data": {
      "image/png": "[encoded data removed]",
      "text/plain": [
       "<Figure size 432x288 with 1 Axes>"
      ]
     },
     "metadata": {
      "needs_background": "light"
     },
     "output_type": "display_data"
    }
   ],
   "source": [
    "# # データを分割\n",
    "# data_below_5 = sum_yes_l[sum_yes_l < 5]\n",
    "# data_above_5 = sum_yes_l[sum_yes_l >= 5]\n",
    "\n",
    "# ヒストグラムを作成\n",
    "bins = np.linspace(min(sum_yes_l), max(sum_yes_l), 50)\n",
    "\n",
    "plt.hist(sum_yes_l_under90, bins=bins, color='blue', alpha=0.7)\n",
    "plt.hist(sum_yes_l_top10, bins=bins, color='red', alpha=0.7)\n",
    "\n",
    "# グラフのタイトルとラベル\n",
    "# plt.title('Histogram of sum of Yes')\n",
    "plt.xlabel('Value')\n",
    "plt.ylabel('Frequency')"
   ]
  },
  {
   "cell_type": "code",
   "execution_count": 101,
   "id": "5398d341",
   "metadata": {},
   "outputs": [
    {
     "data": {
      "text/plain": [
       "(0.0, 60.0)"
      ]
     },
     "execution_count": 101,
     "metadata": {},
     "output_type": "execute_result"
    },
    {
     "data": {
      "image/png": "[encoded data removed]",
      "text/plain": [
       "<Figure size 432x288 with 1 Axes>"
      ]
     },
     "metadata": {
      "needs_background": "light"
     },
     "output_type": "display_data"
    }
   ],
   "source": [
    "import matplotlib.pyplot as plt\n",
    "\n",
    "# ヒストグラムを作成\n",
    "plt.hist(diff_l, bins=1000)\n",
    "\n",
    "# グラフのタイトルとラベル\n",
    "plt.title('Histogram of days while fact-checking')\n",
    "plt.xlabel('Value')\n",
    "plt.ylabel('Frequency')\n",
    "\n",
    "plt.xlim(0, 60)\n",
    "\n",
    "# グラフを表示"
   ]
  },
  {
   "cell_type": "code",
   "execution_count": 274,
   "id": "b3b54049",
   "metadata": {},
   "outputs": [],
   "source": [
    "# import matplotlib.pyplot as plt\n",
    "# import seaborn as sns\n",
    "# import pandas as pd\n",
    "# data = pd.DataFrame({'Days from claim occurrence to fact-checking': sum_yes_l, 'Sum of Yes responses by LLM': diff_l})\n",
    "\n",
    "# # バイオリンプロットの作成\n",
    "# plt.figure(figsize=(10, 6))\n",
    "# sns.violinplot(x='Days from claim occurrence to fact-checking', y='Sum of Yes responses by LLM', data=data)\n",
    "\n",
    "# # タイトルとラベルの設定\n",
    "# # plt.title(\"Violin Plot Example\")\n",
    "# plt.xlabel(\"Days from claim occurrence to fact-checking\")\n",
    "# plt.ylabel(\"Sum of Yes responses by LLM\")\n",
    "# plt.ylim(0, 50)\n",
    "\n",
    "# # グラフの表示\n",
    "# plt.show()"
   ]
  },
  {
   "cell_type": "markdown",
   "id": "7009ab50",
   "metadata": {},
   "source": [
    "## Yes No Unknowe error"
   ]
  },
  {
   "cell_type": "code",
   "execution_count": 295,
   "id": "681c73fd",
   "metadata": {},
   "outputs": [],
   "source": [
    "# ans_d"
   ]
  },
  {
   "cell_type": "code",
   "execution_count": 334,
   "id": "cb742c04",
   "metadata": {},
   "outputs": [],
   "source": [
    "ans_d = read_bin(\"new_data/concat_ans_dict/ans_d.bin\")#1405\n",
    "\n",
    "yes = 0\n",
    "no = 0\n",
    "Unknown = 0\n",
    "error = 0\n",
    "\n",
    "import re\n",
    "pattern = re.compile(r'<answer>(.*?)</answer>', re.IGNORECASE)\n",
    "    \n",
    "sum_yes_l = []\n",
    "diff_l = []\n",
    "k_l = []\n",
    "for k,v in ans_d.items():\n",
    "    yes_num = 0\n",
    "    error_TF = False\n",
    "    for i in range(52):\n",
    "        match = pattern.findall(v[i])\n",
    "#         print(match)\n",
    "        if len(match) == 1:\n",
    "            if 'Yes' in match[0] or 'yes' in match[0] or 'YES' in match[0]:\n",
    "#                 print(\"1\")\n",
    "                yes += 1\n",
    "                yes_num += 1\n",
    "            elif 'Unknown' in match[0] or 'unknown' in match[0] or 'UNKNOWN' in match[0]:\n",
    "#                 print(\"13\")\n",
    "                Unknown +=1\n",
    "            elif 'No' in match[0] or 'no' in match[0] or 'NO' in match[0]:\n",
    "#                 print(\"12\")\n",
    "                no +=1\n",
    "            else:\n",
    "#                 print(\"4\")\n",
    "                error +=1\n",
    "                error_TF = True\n",
    "                \n",
    "        else:\n",
    "            error +=1\n",
    "            error_TF = True\n",
    "            \n",
    "    if error_TF == False:\n",
    "        sum_yes_l.append(yes_num)\n",
    "        diff_l.append(gpt4_df_date_diff_d[k])\n",
    "        k_l.append(k)"
   ]
  },
  {
   "cell_type": "code",
   "execution_count": 289,
   "id": "47a6774b",
   "metadata": {},
   "outputs": [
    {
     "data": {
      "text/plain": [
       "3328"
      ]
     },
     "execution_count": 289,
     "metadata": {},
     "output_type": "execute_result"
    }
   ],
   "source": [
    "yes"
   ]
  },
  {
   "cell_type": "code",
   "execution_count": 290,
   "id": "d22f4ff0",
   "metadata": {},
   "outputs": [
    {
     "data": {
      "text/plain": [
       "38730"
      ]
     },
     "execution_count": 290,
     "metadata": {},
     "output_type": "execute_result"
    }
   ],
   "source": [
    "no"
   ]
  },
  {
   "cell_type": "code",
   "execution_count": 291,
   "id": "fb629281",
   "metadata": {},
   "outputs": [
    {
     "data": {
      "text/plain": [
       "30869"
      ]
     },
     "execution_count": 291,
     "metadata": {},
     "output_type": "execute_result"
    }
   ],
   "source": [
    "Unknown"
   ]
  },
  {
   "cell_type": "code",
   "execution_count": 292,
   "id": "67d26fc4",
   "metadata": {},
   "outputs": [
    {
     "data": {
      "text/plain": [
       "133"
      ]
     },
     "execution_count": 292,
     "metadata": {},
     "output_type": "execute_result"
    }
   ],
   "source": [
    "error"
   ]
  },
  {
   "cell_type": "code",
   "execution_count": null,
   "id": "fc5aa021",
   "metadata": {},
   "outputs": [],
   "source": []
  },
  {
   "cell_type": "code",
   "execution_count": 293,
   "id": "fbb52564",
   "metadata": {},
   "outputs": [
    {
     "data": {
      "image/png": "[encoded data removed]",
      "text/plain": [
       "<Figure size 432x288 with 1 Axes>"
      ]
     },
     "metadata": {
      "needs_background": "light"
     },
     "output_type": "display_data"
    }
   ],
   "source": [
    "import matplotlib.pyplot as plt\n",
    "import numpy as np\n",
    "\n",
    "# 散布図の作成\n",
    "threshold = np.percentile(sum_yes_l, sikii)\n",
    "# 色を設定（上位30%は赤、それ以外は青）\n",
    "colors = ['red' if val >= threshold else 'blue' for val in sum_yes_l]\n",
    "\n",
    "plt.scatter(diff_l,sum_yes_l,s=10,alpha=0.1,c=colors)\n",
    "\n",
    "# タイトルとラベルの設定\n",
    "# plt.title(\"Scatter Plot Example\")\n",
    "plt.xlabel(\"Days while fact-checking\")\n",
    "plt.ylabel(\"Sum of Yes responses by LLM\")\n",
    "\n",
    "plt.ylim(0, 15)\n",
    "plt.xlim(0, 80)\n",
    "\n",
    "plt.yticks(np.arange(0, 16, 5))\n",
    "# グラフの表示\n",
    "plt.show()\n",
    "# plt.savefig('scatter_plot.png')"
   ]
  },
  {
   "cell_type": "code",
   "execution_count": 303,
   "id": "c9b2a5eb",
   "metadata": {},
   "outputs": [
    {
     "ename": "SyntaxError",
     "evalue": "invalid syntax (<ipython-input-303-e7873750dffe>, line 1)",
     "output_type": "error",
     "traceback": [
      "\u001b[1;36m  File \u001b[1;32m\"<ipython-input-303-e7873750dffe>\"\u001b[1;36m, line \u001b[1;32m1\u001b[0m\n\u001b[1;33m    colors = [CL_d[k_l[i]] if sum_yes_l[i] >= threshold for i in range(len(sum_yes_l))]\u001b[0m\n\u001b[1;37m                                                        ^\u001b[0m\n\u001b[1;31mSyntaxError\u001b[0m\u001b[1;31m:\u001b[0m invalid syntax\n"
     ]
    }
   ],
   "source": [
    "colors = [CL_d[k_l[i]] if sum_yes_l[i] >= threshold for i in range(len(sum_yes_l))]"
   ]
  },
  {
   "cell_type": "markdown",
   "id": "9dd91f8d",
   "metadata": {},
   "source": [
    "## 多重配列"
   ]
  },
  {
   "cell_type": "code",
   "execution_count": 12,
   "id": "7fcd4dcc",
   "metadata": {},
   "outputs": [],
   "source": [
    "ans_d = read_bin(\"new_data/concat_ans_dict/ans_d.bin\")#1405\n",
    "\n",
    "yes = 0\n",
    "no = 0\n",
    "Unknown = 0\n",
    "error = 0\n",
    "\n",
    "import re\n",
    "pattern = re.compile(r'<answer>(.*?)</answer>', re.IGNORECASE)\n",
    "sum_yes_l = []\n",
    "diff_l = []\n",
    "k_l = []\n",
    "for k,v in ans_d.items():\n",
    "    ans_l = []\n",
    "    error_TF = False\n",
    "    for i in range(52):\n",
    "        match = pattern.findall(v[i])\n",
    "#         print(match)\n",
    "        if len(match) == 1:\n",
    "            if 'Yes' in match[0] or 'yes' in match[0] or 'YES' in match[0]:\n",
    "#                 print(\"1\")\n",
    "                ans_l.append(0)\n",
    "            elif 'Unknown' in match[0] or 'unknown' in match[0] or 'UNKNOWN' in match[0]:\n",
    "#                 print(\"13\")\n",
    "                ans_l.append(0)\n",
    "            elif 'No' in match[0] or 'no' in match[0] or 'NO' in match[0]:\n",
    "#                 print(\"12\")\n",
    "                ans_l.append(1)\n",
    "            else:\n",
    "                error_TF = True\n",
    "                \n",
    "        else:\n",
    "            error_TF = True\n",
    "            \n",
    "    if error_TF == False:\n",
    "        sum_yes_l.append(ans_l)\n",
    "        diff_l.append(gpt4_df_date_diff_d[k])\n",
    "        k_l.append(k)"
   ]
  },
  {
   "cell_type": "code",
   "execution_count": 14,
   "id": "01960af4",
   "metadata": {},
   "outputs": [],
   "source": [
    "# sum_yes_l[0:10]"
   ]
  },
  {
   "cell_type": "code",
   "execution_count": 310,
   "id": "789a18ac",
   "metadata": {},
   "outputs": [],
   "source": [
    "def sum_elements_by_index(nested_lists):\n",
    "    # 各インデックスごとの合計を保持するリストを初期化\n",
    "    max_length = max(len(sublist) for sublist in nested_lists)\n",
    "    sums = [0] * max_length\n",
    "    \n",
    "    # 各リストをループし、対応するインデックスの値を合計\n",
    "    for sublist in nested_lists:\n",
    "        for i, value in enumerate(sublist):\n",
    "            sums[i] += value\n",
    "            \n",
    "    return sums"
   ]
  },
  {
   "cell_type": "code",
   "execution_count": 308,
   "id": "dcb754d3",
   "metadata": {},
   "outputs": [
    {
     "name": "stdout",
     "output_type": "stream",
     "text": [
      "[470, 126, 12, 9, 0, 14, 22, 4, 14, 41, 20, 59, 142, 0, 1, 1, 15, 419, 0, 112, 9, 119, 0, 1, 0, 0, 0, 3, 1, 1, 2, 0, 106, 3, 2, 125, 9, 138, 1, 586, 24, 1, 342, 4, 4, 3, 0, 5, 3, 0, 73, 13]\n"
     ]
    }
   ],
   "source": [
    "# if 'Yes' ans_l.append(1)\n",
    "result_yes = sum_elements_by_index(sum_yes_l)\n",
    "print(result_yes)"
   ]
  },
  {
   "cell_type": "code",
   "execution_count": 311,
   "id": "27708b97",
   "metadata": {},
   "outputs": [
    {
     "name": "stdout",
     "output_type": "stream",
     "text": [
      "[667, 71, 24, 26, 20, 63, 109, 262, 12, 157, 77, 131, 156, 693, 1084, 1069, 1002, 802, 474, 308, 163, 217, 1281, 1212, 1042, 1153, 1210, 1271, 1076, 1053, 1272, 1176, 1175, 153, 91, 973, 434, 170, 722, 510, 1121, 45, 117, 70, 47, 30, 16, 29, 22, 1279, 753, 1090]\n"
     ]
    }
   ],
   "source": [
    "# if 'Yes' ans_l.append(1)\n",
    "result_unknown = sum_elements_by_index(sum_yes_l)\n",
    "print(result_unknown)"
   ]
  },
  {
   "cell_type": "code",
   "execution_count": 313,
   "id": "a6ae4899",
   "metadata": {},
   "outputs": [
    {
     "name": "stdout",
     "output_type": "stream",
     "text": [
      "[148, 1088, 1249, 1250, 1265, 1208, 1154, 1019, 1259, 1087, 1188, 1095, 987, 592, 200, 215, 268, 64, 811, 865, 1113, 949, 4, 72, 243, 132, 75, 11, 208, 231, 11, 109, 4, 1129, 1192, 187, 842, 977, 562, 189, 140, 1239, 826, 1211, 1234, 1252, 1269, 1251, 1260, 6, 459, 182]\n"
     ]
    }
   ],
   "source": [
    "result_no = sum_elements_by_index(sum_yes_l)\n",
    "print(result_no)"
   ]
  },
  {
   "cell_type": "code",
   "execution_count": 315,
   "id": "1a78b36a",
   "metadata": {},
   "outputs": [],
   "source": [
    "import matplotlib.pyplot as plt\n",
    "import seaborn as sns"
   ]
  },
  {
   "cell_type": "code",
   "execution_count": 321,
   "id": "6a0db7dc",
   "metadata": {},
   "outputs": [
    {
     "data": {
      "image/png": "[encoded data removed]",
      "text/plain": [
       "<Figure size 720x36 with 2 Axes>"
      ]
     },
     "metadata": {
      "needs_background": "light"
     },
     "output_type": "display_data"
    }
   ],
   "source": [
    "plt.figure(figsize=(10, 0.5))\n",
    "sns.heatmap([result_yes], annot=True, cmap='viridis', cbar=True)\n",
    "plt.title('Heatmap of Nested Lists')\n",
    "plt.xlabel('Column')\n",
    "plt.ylabel('Row')\n",
    "plt.show()"
   ]
  },
  {
   "cell_type": "code",
   "execution_count": 322,
   "id": "bf66d896",
   "metadata": {},
   "outputs": [
    {
     "data": {
      "image/png": "[encoded data removed]",
      "text/plain": [
       "<Figure size 720x36 with 2 Axes>"
      ]
     },
     "metadata": {
      "needs_background": "light"
     },
     "output_type": "display_data"
    }
   ],
   "source": [
    "plt.figure(figsize=(10, 0.5))\n",
    "sns.heatmap([result_unknown], annot=True, cmap='viridis', cbar=True)\n",
    "plt.title('Heatmap of Nested Lists')\n",
    "plt.xlabel('Column')\n",
    "plt.ylabel('Row')\n",
    "plt.show()"
   ]
  },
  {
   "cell_type": "code",
   "execution_count": 323,
   "id": "08dd0e64",
   "metadata": {},
   "outputs": [
    {
     "data": {
      "image/png": "[encoded data removed]",
      "text/plain": [
       "<Figure size 720x36 with 2 Axes>"
      ]
     },
     "metadata": {
      "needs_background": "light"
     },
     "output_type": "display_data"
    }
   ],
   "source": [
    "plt.figure(figsize=(10, 0.5))\n",
    "sns.heatmap([result_no], annot=True, cmap='viridis', cbar=True)\n",
    "plt.title('Heatmap of Nested Lists')\n",
    "plt.xlabel('Column')\n",
    "plt.ylabel('Row')\n",
    "plt.show()"
   ]
  },
  {
   "cell_type": "code",
   "execution_count": 324,
   "id": "3ebe3ac8",
   "metadata": {},
   "outputs": [
    {
     "data": {
      "text/plain": [
       "['Does the poster and/or organization/outlet have a noteworthy number of social media/community followers?',\n",
       " 'Is the content published by an organization/outlet with uncertain editorial control (e.g., is not a recognized news publisher)?',\n",
       " 'Does the poster have credentials that represents some kind of expertise?',\n",
       " 'Is the content posted by an imposter individual or counterfeit outlet that could successfully pass as a different person/account based only upon a quick glance?',\n",
       " 'Does the content have the graphics and styling of a legitimate news agency or mainstream information source?',\n",
       " 'Do the people or entities who are spreading the piece of content have a broad reach (size of following on social media, “influencer,” presence on TV or other news media)?',\n",
       " 'Are the people or entities known to be repeat spreaders of questionable information?',\n",
       " 'Is there evidence of coordination activity (whether bot/automated or not) to encourage spread?',\n",
       " 'Is the content publicly accessible (posted on a public platform, addressable URL)? Is the content posted on a popular platform?',\n",
       " 'Is the content spreading on multiple platforms?',\n",
       " 'Does one of the platforms upon which the content is shared have tools to support amplification (e.g., reshares, algorithmic feeds, recommendation engines)?']"
      ]
     },
     "execution_count": 324,
     "metadata": {},
     "output_type": "execute_result"
    }
   ],
   "source": [
    "FABLE[22:33]"
   ]
  },
  {
   "cell_type": "code",
   "execution_count": 325,
   "id": "d75ecfcc",
   "metadata": {},
   "outputs": [
    {
     "data": {
      "text/plain": [
       "['Does the direct target or current audience members directly addressed in the message have a recent history of taking actions that cause harm?',\n",
       " 'Is this message associated with/similar to other messages that are also actionable?',\n",
       " 'Is there a lack of high quality information that is publicly accessible and is refuting the message’s claim?',\n",
       " 'Is there a lack of consensus on the part of experts regarding the claim?',\n",
       " 'Does the message fail to include external citations, links, or language about evidence to support its claim?',\n",
       " 'Does the message contain richer formats as part of its evidence that lay people consider to have low falsifiability?',\n",
       " 'Does the message written or communicated in a personal or persuasive tone?',\n",
       " 'Does the message make reference to the broad believability of the claim or topic?',\n",
       " 'Does the message appeal to a specific community identity by mentioning a shared set of values or beliefs?']"
      ]
     },
     "execution_count": 325,
     "metadata": {},
     "output_type": "execute_result"
    }
   ],
   "source": [
    "FABLE[13:22]"
   ]
  },
  {
   "cell_type": "code",
   "execution_count": 333,
   "id": "0f815d4e",
   "metadata": {},
   "outputs": [],
   "source": [
    "# sum_yes_l"
   ]
  },
  {
   "cell_type": "code",
   "execution_count": 338,
   "id": "eca21e8a",
   "metadata": {},
   "outputs": [],
   "source": [
    "many = []\n",
    "few = []\n",
    "\n",
    "for i in range(len(sum_yes_l)):\n",
    "    k = k_l[i]\n",
    "    if sum_yes_l[i] > 5:\n",
    "        many.append(CL_d[k])\n",
    "    else:\n",
    "        few.append(CL_d[k])"
   ]
  },
  {
   "cell_type": "code",
   "execution_count": 342,
   "id": "405803a8",
   "metadata": {},
   "outputs": [
    {
     "data": {
      "text/plain": [
       "['Dia primeiro de abril, dia dos bobos, você vai começar a pagar 12% de imposto no pão. E vamos lá que a lista é gigantesca. Ovo era isento, vai pagar 12%. Flores naturais vai pagar 17%. Frutas, verduras e hortaliças 12%. E lá vem os produtos da cesta básica que vai ter o seu valor também aumentado de 7% para 12%. Ai ai, alguém sempre paga a conta e no dia primeiro de abril quem vai pagar a conta somos nós, os palhaços desse governo.”',\n",
       " 'This viral video shows Iran attacking Israel with heavy missiles',\n",
       " 'É hora de dar um basta nessa dor que não passa (...) Cúrcuma Pró mais, receba em 24 horas e pague só na entrega',\n",
       " '日本教授福島雅典調查揭新冠疫苗副作用達201種',\n",
       " 'போதை உச்சத்தில் எறிவிட்டது. தமிழகத்தில் வீரன் செய்யும் வேலை போல… திமுக அரசை திஸ்மிஸ் செய்ய வேண்டும் மக்கள் விரோத திமுக',\n",
       " 'Wir werden für den Rest unseres Lebens in einem offenen Gefängnis sitzen. Man wird kein Benzin- oder Dieselauto mehr fahren dürfen. Wenn man essen will, bekommt man eine SMS mit einem Kalorienkontrollsystem, was man heute essen darf. Wenn man gegen eine dieser Regeln verstößt, wird das Bankkonto eingefroren.',\n",
       " 'Senhor de 63 anos, dono de fazenda no interior do Piauí, mata 09 marginais que tentaram lhe assaltar de novo. Sua fazenda tinha sido assaltada 4 vezes em menos de 2 anos pela mesma quadrilha. Em depoimento para polícia, o fazendeiro disse: \"eu SABIA que eles voltariam, então vendi um trator e COMPREI uma sub metralhadora, porque as armas que eu tinha eles levaram todas, já estava esperando por eles, desta vez porém preparado\". É justo!  \\nQuando o estado não te defende, vc precisa se proteger e zelar por sua própria vida. Meu herói!!!',\n",
       " '- ¿Le representa la Agenda 2030?\\n- Sí\\n- ¿Qué punto le gusta más?\\n- No opino de lo que desconozco\\n\\nUna élite diseña una agenda en un foro privado, no votada por nadie y afín a sus intereses (más económica)..., y la izquierda va y la defiende. Qué triste.',\n",
       " 'கர்நாடகாவில் ரதம் செல்லும் வழியில் ஒரு முஸ்லீம், காரை நிறுத்தி நான் எடுக்க மாட்டேன் என்று கூற, நீண்ட நேரம் காத்திருந்த இந்துக்கள் கடைசியில் காரை தூக்கி குறுக்கே எறிந்தனர்.\\n',\n",
       " 'Mañana darán comienzo las fiestas del Orgullo Republicano 2024, tres días llenos de activismo que culminarán el domingo 14 de abril con un macroconcierto de Ismael Serrano en Orcasitas. Gracias al Ministerio de Memoria Democrática por subvencionarlo y hacerlo posible. ¡Seguimos!\\n']"
      ]
     },
     "execution_count": 342,
     "metadata": {},
     "output_type": "execute_result"
    }
   ],
   "source": [
    "many[:10]"
   ]
  },
  {
   "cell_type": "code",
   "execution_count": 341,
   "id": "2e392d2d",
   "metadata": {},
   "outputs": [
    {
     "data": {
      "text/plain": [
       "['কংগ্ৰেছে ‘‘চীনৰ ভয়ত’’ অৰুণাচল প্ৰদেশত প্ৰাৰ্থী থিয় কৰোৱা নাই।',\n",
       " 'ఆంధ్ర లో ప్రతిపక్ష కూటమి సభ్యుల మధ్య గొడవ',\n",
       " 'Indians can cast vote even if their names are not on the voting list',\n",
       " 'Marcela Cubillos no puede postular a ser candidata a alcaldesa de Las Condes',\n",
       " 'Elmalılı Hamdi Yazır’ın Okan Bayülgen’in dedesi olduğu iddiası',\n",
       " 'Buddhist Monk of Mahameunawa Was Attacked By Villagers For Womenizing !!',\n",
       " ' The World Bank predicted that poverty in Sri Lanka will increase in 2024 !!',\n",
       " ' Gemeente probeerde oud Brits echtpaar te dwingen hun huis te verkopen voor asielzoekers.\\n',\n",
       " \"Ces photos montrent la fin d'une rencontre des écologistes à Lausanne.\",\n",
       " 'Das alkoholfreie Weinfest in Schweinfurt findet aus religiösen Gründen statt.']"
      ]
     },
     "execution_count": 341,
     "metadata": {},
     "output_type": "execute_result"
    }
   ],
   "source": [
    "few[:10]"
   ]
  },
  {
   "cell_type": "code",
   "execution_count": 344,
   "id": "99611aea",
   "metadata": {},
   "outputs": [],
   "source": [
    "ans_d = read_bin(\"new_data/concat_ans_dict/ans_d.bin\")#1405\n",
    "\n",
    "yes = 0\n",
    "no = 0\n",
    "Unknown = 0\n",
    "error = 0\n",
    "\n",
    "import re\n",
    "pattern = re.compile(r'<answer>(.*?)</answer>', re.IGNORECASE)\n",
    "    \n",
    "sum_yes_l = []\n",
    "diff_l = []\n",
    "k_l = []\n",
    "for k,v in ans_d.items():\n",
    "    yes_num = 0\n",
    "    error_TF = False\n",
    "    for i in range(52):\n",
    "        match = pattern.findall(v[i])\n",
    "#         print(match)\n",
    "        if len(match) == 1:\n",
    "            if 'Yes' in match[0] or 'yes' in match[0] or 'YES' in match[0]:\n",
    "#                 print(\"1\")\n",
    "                yes += 1\n",
    "                yes_num += 1\n",
    "            elif 'Unknown' in match[0] or 'unknown' in match[0] or 'UNKNOWN' in match[0]:\n",
    "#                 print(\"13\")\n",
    "                Unknown +=1\n",
    "            elif 'No' in match[0] or 'no' in match[0] or 'NO' in match[0]:\n",
    "#                 print(\"12\")\n",
    "                no +=1\n",
    "            else:\n",
    "#                 print(\"4\")\n",
    "                error +=1\n",
    "                error_TF = True\n",
    "                \n",
    "        else:\n",
    "            error +=1\n",
    "            error_TF = True\n",
    "            \n",
    "    if error_TF == False:\n",
    "        sum_yes_l.append(yes_num)\n",
    "        diff_l.append(gpt4_df_date_diff_d[k])\n",
    "        k_l.append(k)"
   ]
  },
  {
   "cell_type": "code",
   "execution_count": 360,
   "id": "b61fd0a0",
   "metadata": {},
   "outputs": [
    {
     "data": {
      "image/png": "[encoded data removed]",
      "text/plain": [
       "<Figure size 432x288 with 1 Axes>"
      ]
     },
     "metadata": {
      "needs_background": "light"
     },
     "output_type": "display_data"
    }
   ],
   "source": [
    "third_quartile = np.percentile(sum_yes_l, 75)\n",
    "\n",
    "# グループ分け\n",
    "\n",
    "group1_diff_l = [diff for sum_yes, diff in zip(sum_yes_l, diff_l) if sum_yes > third_quartile]\n",
    "group2_diff_l = [diff for sum_yes, diff in zip(sum_yes_l, diff_l) if sum_yes <= third_quartile]\n",
    "\n",
    "# データフレームの作成\n",
    "import pandas as pd\n",
    "\n",
    "data = {\n",
    "    'diff_l': group1_diff_l + group2_diff_l,\n",
    "    'Group': ['Top 25%'] * len(group1_diff_l) + ['Bottom 75%'] * len(group2_diff_l)\n",
    "}\n",
    "\n",
    "df = pd.DataFrame(data)\n",
    "\n",
    "# バイオリンプロットの作成\n",
    "plt.figure(figsize=(6, 4))\n",
    "sns.violinplot(x='Group', y='diff_l', data=df,palette={'Top 25%': 'red', 'Bottom 75%': 'blue'})\n",
    "# plt.title('Violin Plot of diff_l by Group')\n",
    "plt.xlabel('Total number of Yes')\n",
    "plt.ylabel('Days to complete check')\n",
    "plt.show()"
   ]
  },
  {
   "cell_type": "code",
   "execution_count": null,
   "id": "e98b6e72",
   "metadata": {},
   "outputs": [],
   "source": [
    "import matplotlib.pyplot as plt\n",
    "import numpy as np\n",
    "\n",
    "# 散布図の作成\n",
    "threshold = np.percentile(sum_yes_l, sikii)\n",
    "# 色を設定（上位30%は赤、それ以外は青）\n",
    "colors = ['red' if val >= threshold else 'blue' for val in sum_yes_l]\n",
    "\n",
    "plt.scatter(diff_l,sum_yes_l,s=10,alpha=0.1,c=colors)\n",
    "\n",
    "# タイトルとラベルの設定\n",
    "# plt.title(\"Scatter Plot Example\")\n",
    "plt.xlabel(\"Days while fact-checking\")\n",
    "plt.ylabel(\"Sum of Yes responses by LLM\")\n",
    "\n",
    "plt.ylim(0, 15)\n",
    "plt.xlim(0, 80)\n",
    "\n",
    "plt.yticks(np.arange(0, 16, 5))\n",
    "# グラフの表示\n",
    "plt.show()\n",
    "# plt.savefig('scatter_plot.png')"
   ]
  }
 ],
 "metadata": {
  "kernelspec": {
   "display_name": "Python 3 (ipykernel)",
   "language": "python",
   "name": "python3"
  },
  "language_info": {
   "codemirror_mode": {
    "name": "ipython",
    "version": 3
   },
   "file_extension": ".py",
   "mimetype": "text/x-python",
   "name": "python",
   "nbconvert_exporter": "python",
   "pygments_lexer": "ipython3",
   "version": "3.12.4"
  }
 },
 "nbformat": 4,
 "nbformat_minor": 5
}
