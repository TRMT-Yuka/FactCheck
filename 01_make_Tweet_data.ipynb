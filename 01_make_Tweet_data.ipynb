{
 "cells": [
  {
   "cell_type": "code",
   "execution_count": 1,
   "id": "85c581df",
   "metadata": {},
   "outputs": [
    {
     "name": "stdout",
     "output_type": "stream",
     "text": [
      "2\n",
      "NVIDIA RTX A6000\n",
      "NVIDIA RTX A6000\n"
     ]
    }
   ],
   "source": [
    "import torch\n",
    "\n",
    "print(torch.cuda.device_count())  # 使用可能なGPUの数を表示\n",
    "print(torch.cuda.get_device_name(0))  # 最初のGPUの名前を表示\n",
    "print(torch.cuda.get_device_name(1))  # 二番目のGPUの名前を表示"
   ]
  },
  {
   "cell_type": "code",
   "execution_count": 38,
   "id": "15ec0e13",
   "metadata": {},
   "outputs": [],
   "source": [
    "import torch\n",
    "import logging\n",
    "device = torch.device(\"cuda:1\")\n",
    "logger = logging.getLogger(__name__)"
   ]
  },
  {
   "cell_type": "code",
   "execution_count": 34,
   "id": "f2363840",
   "metadata": {},
   "outputs": [
    {
     "name": "stderr",
     "output_type": "stream",
     "text": [
      "huggingface/tokenizers: The current process just got forked, after parallelism has already been used. Disabling parallelism to avoid deadlocks...\n",
      "To disable this warning, you can either:\n",
      "\t- Avoid using `tokenizers` before the fork if possible\n",
      "\t- Explicitly set the environment variable TOKENIZERS_PARALLELISM=(true | false)\n",
      "huggingface/tokenizers: The current process just got forked, after parallelism has already been used. Disabling parallelism to avoid deadlocks...\n",
      "To disable this warning, you can either:\n",
      "\t- Avoid using `tokenizers` before the fork if possible\n",
      "\t- Explicitly set the environment variable TOKENIZERS_PARALLELISM=(true | false)\n"
     ]
    }
   ],
   "source": [
    "!export CUDA_VISIBLE_DEVICES=1\n",
    "!export PYTORCH_CUDA_ALLOC_CONF=expandable_segments:True"
   ]
  },
  {
   "cell_type": "markdown",
   "id": "be45a3f0",
   "metadata": {},
   "source": [
    "### デフォルト自作関数"
   ]
  },
  {
   "cell_type": "code",
   "execution_count": 21,
   "id": "26fd4e4c",
   "metadata": {},
   "outputs": [],
   "source": [
    "# 保存用\n",
    "import pickle\n",
    "def read_bin(filename):\n",
    "    with open(filename,'rb') as bf:\n",
    "        bin_data = pickle.load(bf)\n",
    "    return bin_data\n",
    "\n",
    "def save_bin(filename,data):\n",
    "    with open(filename,'wb') as bf:\n",
    "        pickle.dump(data,bf)"
   ]
  },
  {
   "cell_type": "code",
   "execution_count": 22,
   "id": "ff9aa035",
   "metadata": {},
   "outputs": [],
   "source": [
    "# 時間取得関数\n",
    "from datetime import datetime, timedelta\n",
    "# https://qiita.com/haruka_kotani/items/0e2096cbd527015a2d96\n",
    "\n",
    "twitter_epoch = 1288834974657\n",
    "unix_epoch = 62135596800000\n",
    "timestamp_bits = 41\n",
    "timestamp_shift = 22\n",
    "timestamp_mask = (1 << timestamp_bits) - 1\n",
    "\n",
    "def get_datetime(tweet_id):\n",
    "    timestamp = ((tweet_id >> timestamp_shift) & timestamp_mask) + twitter_epoch + unix_epoch\n",
    "    tweet_datetime = datetime(1, 1, 1) + timedelta(milliseconds=timestamp)\n",
    "    return tweet_datetime"
   ]
  },
  {
   "cell_type": "markdown",
   "id": "c6e4dc31",
   "metadata": {},
   "source": [
    "### 24/6/24"
   ]
  },
  {
   "cell_type": "markdown",
   "id": "01e77c25",
   "metadata": {},
   "source": [
    "## Twitter ID →　日付　関数"
   ]
  },
  {
   "cell_type": "code",
   "execution_count": 20,
   "id": "9a38d565",
   "metadata": {},
   "outputs": [],
   "source": [
    "from datetime import datetime, timedelta\n",
    "# https://qiita.com/haruka_kotani/items/0e2096cbd527015a2d96\n",
    "\n",
    "twitter_epoch = 1288834974657\n",
    "unix_epoch = 62135596800000\n",
    "timestamp_bits = 41\n",
    "timestamp_shift = 22\n",
    "timestamp_mask = (1 << timestamp_bits) - 1\n",
    "\n",
    "def get_datetime(tweet_id):\n",
    "    timestamp = ((tweet_id >> timestamp_shift) & timestamp_mask) + twitter_epoch + unix_epoch\n",
    "    tweet_datetime = datetime(1, 1, 1) + timedelta(milliseconds=timestamp)\n",
    "    return tweet_datetime"
   ]
  },
  {
   "cell_type": "code",
   "execution_count": 2,
   "id": "b191bf44",
   "metadata": {},
   "outputs": [
    {
     "name": "stdout",
     "output_type": "stream",
     "text": [
      "2020-03-11 02:07:30.248\n",
      "2020-03-11 11:07:30.248\n"
     ]
    }
   ],
   "source": [
    "# 使用例\n",
    "tweet_id = 1237560750102556672\n",
    "tweet_datetime = get_datetime(tweet_id)\n",
    "print(tweet_datetime.strftime(\"%Y-%m-%d %H:%M:%S.%f\")[:-3])\n",
    "\n",
    "local_tweet_datetime = tweet_datetime + timedelta(hours=9)\n",
    "print(local_tweet_datetime.strftime(\"%Y-%m-%d %H:%M:%S.%f\")[:-3])"
   ]
  },
  {
   "cell_type": "markdown",
   "id": "d76d3fee",
   "metadata": {},
   "source": [
    "## 使用tweetの時間帯分布確認"
   ]
  },
  {
   "cell_type": "code",
   "execution_count": 3,
   "id": "5b42b52d",
   "metadata": {},
   "outputs": [],
   "source": [
    "import pandas as pd\n",
    "file_path = \"nlp4if-2021_en/v3/covid19_disinfo_binary_english_train_ids.tsv\"\n",
    "df_ids = pd.read_csv(file_path, sep='\\t',index_col=\"tweet_no\")"
   ]
  },
  {
   "cell_type": "code",
   "execution_count": 4,
   "id": "52832397",
   "metadata": {},
   "outputs": [],
   "source": [
    "datetime_list = []\n",
    "for a_id in df_ids[\"tweet_id\"]:\n",
    "    datetime_list.append(get_datetime(a_id))"
   ]
  },
  {
   "cell_type": "code",
   "execution_count": 5,
   "id": "0b965d2c",
   "metadata": {},
   "outputs": [
    {
     "data": {
      "image/png": "[encoded data removed]",
      "text/plain": [
       "<Figure size 432x288 with 1 Axes>"
      ]
     },
     "metadata": {
      "needs_background": "light"
     },
     "output_type": "display_data"
    }
   ],
   "source": [
    "import pandas as pd\n",
    "import matplotlib.pyplot as plt\n",
    "\n",
    "# リストをdatetime型に変換\n",
    "datetime_list = pd.to_datetime(datetime_list)\n",
    "\n",
    "# DataFrameに変換，月単位に変換，月ごとの頻度をカウント，ヒストグラムを作成\n",
    "df = pd.DataFrame(datetime_list, columns=['datetime'])\n",
    "df['month'] = df['datetime'].dt.to_period('M')\n",
    "month_counts = df['month'].value_counts().sort_index()\n",
    "month_counts.plot(kind='bar', width=0.8)\n",
    "\n",
    "# グラフを表示\n",
    "plt.xlabel('Month')\n",
    "plt.ylabel('Frequency')\n",
    "plt.title('NLP4IF')\n",
    "plt.xticks(rotation=45, ha='right')\n",
    "plt.tight_layout()\n",
    "plt.show()"
   ]
  },
  {
   "cell_type": "code",
   "execution_count": 6,
   "id": "aff46b9f",
   "metadata": {},
   "outputs": [],
   "source": [
    "file_path = \"CheckThat/CT22/CT22_english_1A_checkworthy_train.tsv\"\n",
    "df_ids = pd.read_csv(file_path, sep='\\t')"
   ]
  },
  {
   "cell_type": "code",
   "execution_count": 7,
   "id": "110204e5",
   "metadata": {},
   "outputs": [],
   "source": [
    "datetime_list = []\n",
    "for a_id in df_ids[\"tweet_id\"]:\n",
    "    datetime_list.append(get_datetime(int(a_id)))"
   ]
  },
  {
   "cell_type": "code",
   "execution_count": 8,
   "id": "402b11c0",
   "metadata": {},
   "outputs": [
    {
     "data": {
      "image/png": "[encoded data removed]",
      "text/plain": [
       "<Figure size 432x288 with 1 Axes>"
      ]
     },
     "metadata": {
      "needs_background": "light"
     },
     "output_type": "display_data"
    }
   ],
   "source": [
    "import pandas as pd\n",
    "import matplotlib.pyplot as plt\n",
    "\n",
    "# リストをdatetime型に変換\n",
    "datetime_list = pd.to_datetime(datetime_list)\n",
    "\n",
    "# DataFrameに変換，月単位に変換，月ごとの頻度をカウント，ヒストグラムを作成\n",
    "df = pd.DataFrame(datetime_list, columns=['datetime'])\n",
    "df['month'] = df['datetime'].dt.to_period('M')\n",
    "month_counts = df['month'].value_counts().sort_index()\n",
    "month_counts.plot(kind='bar', width=0.8)\n",
    "\n",
    "# グラフを表示\n",
    "plt.xlabel('Month')\n",
    "plt.ylabel('Frequency')\n",
    "plt.title('CheckThat2022')\n",
    "plt.xticks(rotation=45, ha='right')\n",
    "plt.tight_layout()\n",
    "plt.show()"
   ]
  },
  {
   "cell_type": "markdown",
   "id": "d4116d4d",
   "metadata": {},
   "source": [
    "## Full Data作成"
   ]
  },
  {
   "cell_type": "markdown",
   "id": "84f74eda",
   "metadata": {},
   "source": [
    "### nlp4if"
   ]
  },
  {
   "cell_type": "markdown",
   "id": "ba558893",
   "metadata": {},
   "source": [
    "1．検証可能性　2，虚偽性　3，大衆の関心の有無　4，有害性　5，検証必要性　6，社会への悪影響　7，行政介入の必要性"
   ]
  },
  {
   "cell_type": "code",
   "execution_count": 9,
   "id": "cc6a7ff0",
   "metadata": {},
   "outputs": [],
   "source": [
    "import pandas as pd\n",
    "\n",
    "# TSVファイルを読み込む\n",
    "file_path = \"nlp4if-2021_en/v3/covid19_disinfo_binary_english_train.tsv\"\n",
    "df = pd.read_csv(file_path, sep='\\t')"
   ]
  },
  {
   "cell_type": "code",
   "execution_count": 10,
   "id": "98092bdd",
   "metadata": {},
   "outputs": [],
   "source": [
    "nlp4if = df.apply(lambda row: {\n",
    "    'tweet_no': row['tweet_no'],\n",
    "    'text': row['tweet_text'],\n",
    "    'q1_label': row['q1_label'],\n",
    "    'q2_label': row['q2_label'],\n",
    "    'q3_label': row['q3_label'],\n",
    "    'q4_label': row['q4_label'],\n",
    "    'q5_label': row['q5_label'],\n",
    "    'q6_label': row['q6_label'],\n",
    "    'q7_label': row['q7_label']\n",
    "}, axis=1).tolist()"
   ]
  },
  {
   "cell_type": "code",
   "execution_count": 11,
   "id": "596a5e79",
   "metadata": {},
   "outputs": [],
   "source": [
    "file_path = \"nlp4if-2021_en/v3/covid19_disinfo_binary_english_train_ids.tsv\"\n",
    "df = pd.read_csv(file_path, sep='\\t')\n",
    "tweet_dict = df.set_index('tweet_no')['tweet_id'].to_dict()"
   ]
  },
  {
   "cell_type": "code",
   "execution_count": 12,
   "id": "36825d2e",
   "metadata": {},
   "outputs": [],
   "source": [
    "for d in nlp4if:\n",
    "    d[\"tweet_id\"] = tweet_dict[d[\"tweet_no\"]]"
   ]
  },
  {
   "cell_type": "code",
   "execution_count": 13,
   "id": "b5c38d1c",
   "metadata": {},
   "outputs": [
    {
     "data": {
      "text/plain": [
       "{'tweet_no': 1,\n",
       " 'text': 'For the average American the best way to tell if you have covid-19 is to cough in a rich person’s face and wait for their test results',\n",
       " 'q1_label': 'no',\n",
       " 'q2_label': nan,\n",
       " 'q3_label': nan,\n",
       " 'q4_label': nan,\n",
       " 'q5_label': nan,\n",
       " 'q6_label': 'no',\n",
       " 'q7_label': 'no',\n",
       " 'tweet_id': 1241025578527903750}"
      ]
     },
     "execution_count": 13,
     "metadata": {},
     "output_type": "execute_result"
    }
   ],
   "source": [
    "nlp4if[0]"
   ]
  },
  {
   "cell_type": "markdown",
   "id": "f6c2c238",
   "metadata": {},
   "source": [
    "### CheckThat"
   ]
  },
  {
   "cell_type": "code",
   "execution_count": 14,
   "id": "88efaf5c",
   "metadata": {},
   "outputs": [],
   "source": [
    "import pandas as pd\n",
    "\n",
    "# TSVファイルを読み込む\n",
    "file_path = \"./CheckThat/CT22/CT22_english_1A_checkworthy_train.tsv\"\n",
    "df = pd.read_csv(file_path, sep='\\t')"
   ]
  },
  {
   "cell_type": "code",
   "execution_count": 15,
   "id": "d162fc40",
   "metadata": {},
   "outputs": [],
   "source": [
    "CT22 = df.apply(lambda row: {\n",
    "    'tweet_id': int(row['tweet_id']),\n",
    "    'tweet_text': row['tweet_text'],\n",
    "    'class_label': row['class_label']\n",
    "}, axis=1).tolist()\n",
    "# topic,urlは削除"
   ]
  },
  {
   "cell_type": "code",
   "execution_count": 16,
   "id": "cdc56388",
   "metadata": {},
   "outputs": [
    {
     "data": {
      "text/plain": [
       "{'tweet_id': 1359350943356174336,\n",
       " 'tweet_text': \"India's gift of 100,000 COVID-19 vaccines arrived Barbados earlier today. This was a very special moment for all Barbadians and I want to thank Prime Minister Modi for his quick, decisive, and magnanimous action in allowing us to be the beneficiary of these vaccines. https://t.co/cSCb40c2mt\",\n",
       " 'class_label': 0}"
      ]
     },
     "execution_count": 16,
     "metadata": {},
     "output_type": "execute_result"
    }
   ],
   "source": [
    "CT22[0]"
   ]
  },
  {
   "cell_type": "markdown",
   "id": "5c0cc96f",
   "metadata": {},
   "source": [
    "### save data"
   ]
  },
  {
   "cell_type": "code",
   "execution_count": 42,
   "id": "0ca78957",
   "metadata": {},
   "outputs": [],
   "source": [
    "save_bin(\"new_data/nlp4if.bin\",nlp4if)\n",
    "save_bin(\"new_data/CT22.bin\",CT22)"
   ]
  },
  {
   "cell_type": "markdown",
   "id": "ef5951ba",
   "metadata": {},
   "source": [
    "## 2021年以降データ作成"
   ]
  },
  {
   "cell_type": "markdown",
   "id": "fc00cf12",
   "metadata": {},
   "source": [
    "### 24/7/7"
   ]
  },
  {
   "cell_type": "code",
   "execution_count": 28,
   "id": "45f4e581",
   "metadata": {},
   "outputs": [],
   "source": [
    "nlp4if = read_bin(\"new_data/nlp4if.bin\")\n",
    "CT22 = read_bin(\"new_data/CT22.bin\")"
   ]
  },
  {
   "cell_type": "code",
   "execution_count": 30,
   "id": "b0b7cf9f",
   "metadata": {},
   "outputs": [],
   "source": [
    "nlp4if_b21 = [] #869 => 418\n",
    "for d in nlp4if:\n",
    "    if get_datetime(d[\"tweet_id\"]) >= datetime(2021, 1, 1):\n",
    "        nlp4if_b21.append(d)"
   ]
  },
  {
   "cell_type": "code",
   "execution_count": 33,
   "id": "6ed935dc",
   "metadata": {},
   "outputs": [],
   "source": [
    "CT22_b21 = [] #2122 => 1804\n",
    "for d in CT22:\n",
    "    if get_datetime(d[\"tweet_id\"]) >= datetime(2021, 1, 1):\n",
    "        CT22_b21.append(d)"
   ]
  },
  {
   "cell_type": "code",
   "execution_count": 36,
   "id": "db4ec6e8",
   "metadata": {},
   "outputs": [],
   "source": [
    "save_bin(\"new_data/nlp4if_b21.bin\",nlp4if_b21)\n",
    "save_bin(\"new_data/CT22_b21.bin\",CT22_b21)"
   ]
  }
 ],
 "metadata": {
  "kernelspec": {
   "display_name": "Python 3",
   "language": "python",
   "name": "python3"
  },
  "language_info": {
   "codemirror_mode": {
    "name": "ipython",
    "version": 3
   },
   "file_extension": ".py",
   "mimetype": "text/x-python",
   "name": "python",
   "nbconvert_exporter": "python",
   "pygments_lexer": "ipython3",
   "version": "3.9.0"
  }
 },
 "nbformat": 4,
 "nbformat_minor": 5
}
