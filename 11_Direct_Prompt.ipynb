{
 "cells": [
  {
   "cell_type": "markdown",
   "id": "5a84122d-591f-4779-b94d-50d2d15dfd7e",
   "metadata": {},
   "source": [
    "## Direct prompting experimence"
   ]
  },
  {
   "cell_type": "markdown",
   "id": "b3eabdb2-560c-4b53-be10-21a2c43a14a3",
   "metadata": {},
   "source": [
    "### Dataset"
   ]
  },
  {
   "cell_type": "code",
   "execution_count": 114,
   "id": "feef5a44-cc13-47b5-9126-da981bd47f09",
   "metadata": {},
   "outputs": [],
   "source": [
    "import pandas as pd\n",
    "from mymodule import read_bin,save_bin\n",
    "df = read_bin(\"new_data_2/dfs_AB.bin\")\n",
    "df = df[\"PolitiFact\"]\n",
    "\n",
    "specific_date = '2023-11-01'  ## GPT-4o（gpt-4o-2024-08-06）以降:13084\n",
    "df_A = df[df['itemReviewed.datePublished'] != -999]\n",
    "df_A = df_A[df_A['itemReviewed.datePublished'] >= pd.to_datetime(specific_date,utc=True)]#after:1410\n",
    "\n",
    "df_B = df[df['datePublished'] != -999]\n",
    "df_B = df_B[df_B['datePublished'] < pd.to_datetime(specific_date,utc=True)]#before:405\n",
    "\n",
    "df_A = df_A.sample(n=400)\n",
    "df_B = df_B.sample(n=400)"
   ]
  },
  {
   "cell_type": "code",
   "execution_count": 115,
   "id": "a73fe796-a0ea-45fd-86b0-5677ad3e955e",
   "metadata": {},
   "outputs": [],
   "source": [
    "def count_by_categories(df, cols):\n",
    "    if isinstance(cols, list):\n",
    "        return df.groupby(cols).size().reset_index(name='count')\n",
    "    if isinstance(cols, str):\n",
    "        return df[cols].value_counts().reset_index()"
   ]
  },
  {
   "cell_type": "code",
   "execution_count": 116,
   "id": "7a355642-e53e-40e4-801d-328d0f302e4b",
   "metadata": {},
   "outputs": [
    {
     "data": {
      "text/html": [
       "<div>\n",
       "<style scoped>\n",
       "    .dataframe tbody tr th:only-of-type {\n",
       "        vertical-align: middle;\n",
       "    }\n",
       "\n",
       "    .dataframe tbody tr th {\n",
       "        vertical-align: top;\n",
       "    }\n",
       "\n",
       "    .dataframe thead th {\n",
       "        text-align: right;\n",
       "    }\n",
       "</style>\n",
       "<table border=\"1\" class=\"dataframe\">\n",
       "  <thead>\n",
       "    <tr style=\"text-align: right;\">\n",
       "      <th></th>\n",
       "      <th>reviewRating.ratingValue</th>\n",
       "      <th>reviewRating.alternateName</th>\n",
       "      <th>count</th>\n",
       "    </tr>\n",
       "  </thead>\n",
       "  <tbody>\n",
       "    <tr>\n",
       "      <th>0</th>\n",
       "      <td>0</td>\n",
       "      <td>True</td>\n",
       "      <td>16</td>\n",
       "    </tr>\n",
       "    <tr>\n",
       "      <th>1</th>\n",
       "      <td>1</td>\n",
       "      <td>Mostly True</td>\n",
       "      <td>16</td>\n",
       "    </tr>\n",
       "    <tr>\n",
       "      <th>2</th>\n",
       "      <td>2</td>\n",
       "      <td>Half True</td>\n",
       "      <td>26</td>\n",
       "    </tr>\n",
       "    <tr>\n",
       "      <th>3</th>\n",
       "      <td>3</td>\n",
       "      <td>Mostly False</td>\n",
       "      <td>28</td>\n",
       "    </tr>\n",
       "    <tr>\n",
       "      <th>4</th>\n",
       "      <td>4</td>\n",
       "      <td>False</td>\n",
       "      <td>255</td>\n",
       "    </tr>\n",
       "    <tr>\n",
       "      <th>5</th>\n",
       "      <td>5</td>\n",
       "      <td>Pants on Fire</td>\n",
       "      <td>59</td>\n",
       "    </tr>\n",
       "  </tbody>\n",
       "</table>\n",
       "</div>"
      ],
      "text/plain": [
       "   reviewRating.ratingValue reviewRating.alternateName  count\n",
       "0                         0                       True     16\n",
       "1                         1                Mostly True     16\n",
       "2                         2                  Half True     26\n",
       "3                         3               Mostly False     28\n",
       "4                         4                      False    255\n",
       "5                         5              Pants on Fire     59"
      ]
     },
     "execution_count": 116,
     "metadata": {},
     "output_type": "execute_result"
    }
   ],
   "source": [
    "count_by_categories(df_A,[\"reviewRating.ratingValue\",\"reviewRating.alternateName\"])"
   ]
  },
  {
   "cell_type": "code",
   "execution_count": 117,
   "id": "bba3ff26-2a2e-44a9-ad88-af4a74e29fbb",
   "metadata": {},
   "outputs": [
    {
     "data": {
      "text/html": [
       "<div>\n",
       "<style scoped>\n",
       "    .dataframe tbody tr th:only-of-type {\n",
       "        vertical-align: middle;\n",
       "    }\n",
       "\n",
       "    .dataframe tbody tr th {\n",
       "        vertical-align: top;\n",
       "    }\n",
       "\n",
       "    .dataframe thead th {\n",
       "        text-align: right;\n",
       "    }\n",
       "</style>\n",
       "<table border=\"1\" class=\"dataframe\">\n",
       "  <thead>\n",
       "    <tr style=\"text-align: right;\">\n",
       "      <th></th>\n",
       "      <th>reviewRating.ratingValue</th>\n",
       "      <th>reviewRating.alternateName</th>\n",
       "      <th>count</th>\n",
       "    </tr>\n",
       "  </thead>\n",
       "  <tbody>\n",
       "    <tr>\n",
       "      <th>0</th>\n",
       "      <td>0</td>\n",
       "      <td>True</td>\n",
       "      <td>9</td>\n",
       "    </tr>\n",
       "    <tr>\n",
       "      <th>1</th>\n",
       "      <td>1</td>\n",
       "      <td>Mostly True</td>\n",
       "      <td>14</td>\n",
       "    </tr>\n",
       "    <tr>\n",
       "      <th>2</th>\n",
       "      <td>2</td>\n",
       "      <td>Half True</td>\n",
       "      <td>27</td>\n",
       "    </tr>\n",
       "    <tr>\n",
       "      <th>3</th>\n",
       "      <td>3</td>\n",
       "      <td>Mostly False</td>\n",
       "      <td>33</td>\n",
       "    </tr>\n",
       "    <tr>\n",
       "      <th>4</th>\n",
       "      <td>4</td>\n",
       "      <td>False</td>\n",
       "      <td>267</td>\n",
       "    </tr>\n",
       "    <tr>\n",
       "      <th>5</th>\n",
       "      <td>5</td>\n",
       "      <td>Pants on Fire</td>\n",
       "      <td>50</td>\n",
       "    </tr>\n",
       "  </tbody>\n",
       "</table>\n",
       "</div>"
      ],
      "text/plain": [
       "   reviewRating.ratingValue reviewRating.alternateName  count\n",
       "0                         0                       True      9\n",
       "1                         1                Mostly True     14\n",
       "2                         2                  Half True     27\n",
       "3                         3               Mostly False     33\n",
       "4                         4                      False    267\n",
       "5                         5              Pants on Fire     50"
      ]
     },
     "execution_count": 117,
     "metadata": {},
     "output_type": "execute_result"
    }
   ],
   "source": [
    "count_by_categories(df_B,[\"reviewRating.ratingValue\",\"reviewRating.alternateName\"])"
   ]
  },
  {
   "cell_type": "markdown",
   "id": "29361f88-6ca3-4ef8-ae11-d126387bd24c",
   "metadata": {},
   "source": [
    "### GPT 4o setup"
   ]
  },
  {
   "cell_type": "code",
   "execution_count": 118,
   "id": "de31544c-33d9-4d9a-bf5a-845d8977a299",
   "metadata": {},
   "outputs": [],
   "source": [
    "import configparser\n",
    "config = configparser.ConfigParser()\n",
    "config.read('config.ini')\n",
    "\n",
    "from openai import OpenAI\n",
    "client = OpenAI(api_key=config['openai']['api_key_mil'])"
   ]
  },
  {
   "cell_type": "code",
   "execution_count": 120,
   "id": "452a84c6-3165-4ad7-a1a3-c869c36d20f2",
   "metadata": {},
   "outputs": [],
   "source": [
    "import time\n",
    "from requests.exceptions import RequestException\n",
    "from openai import OpenAI\n",
    "\n",
    "def Prompt(claim):\n",
    "    labels = ['False', 'Pants on Fire', 'Mostly False', 'Half True', 'Mostly True', 'True']\n",
    "    few_shot = f\"\"\"Among {labels}, the claim ”’Emerson Moser, who was Crayola’s top crayon molder for almost 40 years, was colorblind.”’ can be classified as true.\n",
    "Among {labels}, the claim ”’Bernie Sanders said 85 million Americans have no health insurance.”’ can be classified as half-true.\n",
    "Among {labels}, the claim ”’Cheri Beasley “backs tax hikes — even on families making under $75,000.”’ can be classified as False.\n",
    " \"\"\"\n",
    "    return f\"\"\"{few_shot} Among {labels}, the claim ”’{claim}”’ can be classified as\"\"\"\n",
    "\n",
    "def gpt4o_ans(prompt):\n",
    "    stream = client.chat.completions.create(\n",
    "        model=\"gpt-4o-2024-08-06\",\n",
    "        # model=\"gpt-4o-mini\",\n",
    "        messages=[{\"role\": \"user\", \"content\": prompt}],\n",
    "        stream=True,\n",
    "    )\n",
    "    ans = []\n",
    "    for chunk in stream:\n",
    "        if chunk.choices[0].delta.content is not None:\n",
    "            ans.append(chunk.choices[0].delta.content)\n",
    "            \n",
    "    return \"\".join(ans)\n",
    "    \n",
    "\n",
    "def validate_claim_via_pi(claim):\n",
    "    prompt = Prompt(claim)\n",
    "    for i in range(3):  # 3回までリトライ\n",
    "        try:\n",
    "            return gpt4o_ans(prompt)\n",
    "            \n",
    "        except openai.OpenAIError as e:\n",
    "            time.sleep(5)\n",
    "            if i == 2:\n",
    "                return \"\"\n",
    "                \n",
    "        except RequestException as e:\n",
    "            time.sleep(5)\n",
    "            if i == 2:\n",
    "                return \"\""
   ]
  },
  {
   "cell_type": "code",
   "execution_count": 105,
   "id": "4ab20a6a-8a17-4b9b-9656-17db40aadca5",
   "metadata": {},
   "outputs": [],
   "source": [
    "# from openai import OpenAI\n",
    "\n",
    "# completion = client.completions.create(model='gpt-4o-2024-08-06',prompt=prompt)\n",
    "# print(completion.choices[0].text)\n",
    "# print(dict(completion).get('usage'))\n",
    "# print(completion.model_dump_json(indent=2))"
   ]
  },
  {
   "cell_type": "markdown",
   "id": "d4a658b3-0e9a-4858-96d6-b99726e891e5",
   "metadata": {},
   "source": [
    "### experience"
   ]
  },
  {
   "cell_type": "code",
   "execution_count": 124,
   "id": "a053ac64-0789-4135-be5c-563f0550535a",
   "metadata": {},
   "outputs": [],
   "source": [
    "space = \"                                                                                                                                                                                                                                                            \""
   ]
  },
  {
   "cell_type": "code",
   "execution_count": 88,
   "id": "96744c9b-2807-46e8-ba10-0498e9c3772f",
   "metadata": {},
   "outputs": [],
   "source": [
    "# ans_dict_a = dict()"
   ]
  },
  {
   "cell_type": "code",
   "execution_count": 124,
   "id": "c7d63154-70a8-416d-9879-cb3de1b625f2",
   "metadata": {},
   "outputs": [],
   "source": [
    "ids = list(df_A[\"id\"])\n",
    "gold_labels = list(df_A[\"reviewRating.alternateName\"])\n",
    "claims = list(df_A[\"claimReviewed\"])"
   ]
  },
  {
   "cell_type": "code",
   "execution_count": null,
   "id": "65a229df-3c11-4417-856a-70368a170ce1",
   "metadata": {},
   "outputs": [],
   "source": [
    "for i in range(400):\n",
    "    if ids[i] not in ans_dict_a:\n",
    "        ans = validate_claim_via_pi(claims[i])\n",
    "        ans_dict_a[ids[i]] = {\"id\":ids[i],\"ans\":ans,\"label\":gold_labels[i]}\n",
    "        print(\"\\r%d / %d  ans:%s %s %s\" %(i,400,ans,space,space), end='')"
   ]
  },
  {
   "cell_type": "code",
   "execution_count": 132,
   "id": "759f1133-b22b-4609-bafc-cc3d700770dd",
   "metadata": {},
   "outputs": [],
   "source": [
    "# save_bin(\"new_data_2/df_A-ans_dict.bin\",ans_dict_a)"
   ]
  },
  {
   "cell_type": "code",
   "execution_count": 121,
   "id": "3f2b5d11-ba9c-4409-8ea0-f5bb8c70f5b1",
   "metadata": {},
   "outputs": [],
   "source": [
    "ans_dict_b = dict()"
   ]
  },
  {
   "cell_type": "code",
   "execution_count": 122,
   "id": "9ec25499-2e9c-4092-b017-02683ec71ae6",
   "metadata": {},
   "outputs": [],
   "source": [
    "ids = list(df_B[\"id\"])\n",
    "gold_labels = list(df_B[\"reviewRating.alternateName\"])\n",
    "claims = list(df_B[\"claimReviewed\"])"
   ]
  },
  {
   "cell_type": "code",
   "execution_count": null,
   "id": "5aaa00bb-031d-43fb-bd9a-2577210fcffc",
   "metadata": {},
   "outputs": [],
   "source": [
    "for i in range(400):\n",
    "    if ids[i] not in ans_dict_b:\n",
    "        ans = validate_claim_via_pi(claims[i])\n",
    "        ans_dict_b[ids[i]] = {\"id\":ids[i],\"ans\":ans,\"label\":gold_labels[i]}\n",
    "        print(\"\\r%d / %d  ans:%s %s %s\" %(i,400,ans,space,space), end='')"
   ]
  },
  {
   "cell_type": "code",
   "execution_count": 126,
   "id": "00646651-47e9-4762-84c6-7843979b8850",
   "metadata": {},
   "outputs": [],
   "source": [
    "# save_bin(\"new_data_2/df_B-ans_dict.bin\",ans_dict_b)"
   ]
  },
  {
   "cell_type": "markdown",
   "id": "54a1d4f0-a489-4847-b29c-e5e60d8bb2a8",
   "metadata": {},
   "source": [
    "### 集計"
   ]
  },
  {
   "cell_type": "code",
   "execution_count": 364,
   "id": "4d82883f-ecef-4c9c-bb5e-47f437862611",
   "metadata": {},
   "outputs": [],
   "source": [
    "from mymodule import read_bin,save_bin\n",
    "df_A = read_bin(\"new_data_2/df_A-ans_dict.bin\")\n",
    "df_B = read_bin(\"new_data_2/df_B-ans_dict.bin\")"
   ]
  },
  {
   "cell_type": "code",
   "execution_count": 366,
   "id": "38910212-27f7-4c60-9617-1e7a1d753031",
   "metadata": {},
   "outputs": [
    {
     "data": {
      "text/plain": [
       "400"
      ]
     },
     "execution_count": 366,
     "metadata": {},
     "output_type": "execute_result"
    }
   ],
   "source": [
    "len(df_B.)"
   ]
  },
  {
   "cell_type": "code",
   "execution_count": null,
   "id": "afe4c64c-bcff-4d35-9a5a-c965ef59d9d7",
   "metadata": {},
   "outputs": [],
   "source": [
    "df_A.keys()\n",
    "df_B.keys()"
   ]
  },
  {
   "cell_type": "code",
   "execution_count": 355,
   "id": "78f52b21-e9f6-4ab1-9da4-951febafc0f7",
   "metadata": {},
   "outputs": [],
   "source": [
    "def labeled(df):\n",
    "    for k,v in df.items():\n",
    "        v[\"ans\"] = v[\"ans\"].replace(\"  \",\"_\").replace(\"_\",\" \")\n",
    "        \n",
    "    for k,v in df.items():\n",
    "        v[\"F\"] = 0\n",
    "        v[\"MF\"] = 0\n",
    "        v[\"POF\"] = 0\n",
    "        v[\"HT\"] = 0\n",
    "        v[\"MT\"] = 0\n",
    "        v[\"T\"] = 0\n",
    "        v[\"UnKnown\"] = 0\n",
    "        \n",
    "        if \"False\" in v[\"ans\"]:\n",
    "            v[\"F\"] = 1\n",
    "            \n",
    "        if \"Mostly False\" in v[\"ans\"] and \"False\" in v[\"ans\"]:\n",
    "            v[\"F\"] = 0\n",
    "            v[\"MF\"] = 1\n",
    "                \n",
    "        if \"True\" in v[\"ans\"]:\n",
    "            v[\"T\"] = 0\n",
    "            \n",
    "        if \"Mostly True\" in v[\"ans\"] and \"True\" in v[\"ans\"]:\n",
    "            v[\"T\"] = 0\n",
    "            v[\"MT\"] = 1\n",
    "        if \"Half True\" in v[\"ans\"] and \"True\" in v[\"ans\"]:\n",
    "            v[\"T\"] = 0\n",
    "            v[\"HT\"] = 1\n",
    "            \n",
    "        if \"Pants on Fire\" in v[\"ans\"] or \"P ants on Fire\" in v[\"ans\"]:\n",
    "            v[\"POF\"] = 1\n",
    "    \n",
    "        if v[\"F\"]+v[\"MF\"]+v[\"POF\"]+v[\"HT\"]+v[\"MT\"]+v[\"T\"] != 1:\n",
    "            v[\"UnKnown\"] = 1\n",
    "    \n",
    "    del_list = []\n",
    "    for k,v in df.items():\n",
    "        if v[\"UnKnown\"] == 1:\n",
    "            del_list.append(k)\n",
    "            \n",
    "    for k in del_list:\n",
    "        df.pop(k, None)\n",
    "    \n",
    "    labels = [\n",
    "        ('Pants on Fire', 'POF', 0),\n",
    "        ('False', 'F', 1),\n",
    "        ('Mostly False', 'MF', 2),\n",
    "        ('Half True', 'HT', 3),\n",
    "        ('Mostly True', 'MT', 4),\n",
    "        ('True', 'T', 5)\n",
    "    ]\n",
    "    \n",
    "    for k,v in df.items():\n",
    "        v[\"pred_grad\"] = None\n",
    "        v[\"pred\"] = None\n",
    "        v[\"ans_grad\"] = None\n",
    "        for label,mini_label,level in labels:\n",
    "            if v[mini_label] == 1:\n",
    "                v[\"pred\"] = label\n",
    "                v[\"pred_grad\"] = level\n",
    "            if v[\"label\"] == label:\n",
    "                v[\"ans_grad\"] = level\n",
    "    return df"
   ]
  },
  {
   "cell_type": "code",
   "execution_count": 275,
   "id": "e86dfb58-20e1-4b7b-805f-344e99e3a22d",
   "metadata": {},
   "outputs": [],
   "source": [
    "# for k,v in df.items():\n",
    "#         print(v)\n",
    "#         v[\"F\"]=int(input(\"F\"))\n",
    "#         v[\"MF\"]=int(input(\"MF\"))\n",
    "#         v[\"POF\"]=int(input(\"POF\"))\n",
    "#         v[\"HT\"]=int(input(\"HT\"))\n",
    "#         v[\"MT\"]=int(input(\"MT\"))\n",
    "#         v[\"T\"]=int(input(\"T\"))"
   ]
  },
  {
   "cell_type": "code",
   "execution_count": 356,
   "id": "89e0236e-a48f-45b0-b3e0-192407af1308",
   "metadata": {},
   "outputs": [],
   "source": [
    "data_list_A = [v for v in labeled(df_A).values()]\n",
    "data_list_B = [v for v in labeled(df_B).values()]"
   ]
  },
  {
   "cell_type": "code",
   "execution_count": 350,
   "id": "bf53c50f-4708-4d60-b80f-895c08e01c03",
   "metadata": {},
   "outputs": [
    {
     "name": "stdout",
     "output_type": "stream",
     "text": [
      "380 375\n"
     ]
    }
   ],
   "source": [
    "print(len(data_list_A),len(data_list_B))"
   ]
  },
  {
   "cell_type": "code",
   "execution_count": 351,
   "id": "81e5dcf4-ff87-4177-8774-d966f27ecac8",
   "metadata": {},
   "outputs": [],
   "source": [
    "# true_labels"
   ]
  },
  {
   "cell_type": "code",
   "execution_count": 363,
   "id": "befe3629-a54e-4aad-a821-18b0b8f54f14",
   "metadata": {},
   "outputs": [
    {
     "data": {
      "text/plain": [
       "{'id': 'db48cb10-0531-4d12-84c7-042c79378022',\n",
       " 'ans': ' \"P ants on Fire .\" There is no verified or credible evidence to support the claim that Russian President Vladimir Putin made such a statement in an interview with Tucker Carlson . This classification suggests that the claim is not only false but also absurd or ridiculous .',\n",
       " 'label': 'False',\n",
       " 'F': 0,\n",
       " 'MF': 0,\n",
       " 'POF': 1,\n",
       " 'HT': 0,\n",
       " 'MT': 0,\n",
       " 'T': 0,\n",
       " 'UnKnown': 0,\n",
       " 'pred_grad': 0,\n",
       " 'pred': 'Pants on Fire',\n",
       " 'ans_grad': 1}"
      ]
     },
     "execution_count": 363,
     "metadata": {},
     "output_type": "execute_result"
    }
   ],
   "source": [
    "data_list_A[0]"
   ]
  },
  {
   "cell_type": "code",
   "execution_count": 360,
   "id": "b6c3e27b-870a-44e8-9557-7d4d0e2b5002",
   "metadata": {},
   "outputs": [],
   "source": [
    "import numpy as np\n",
    "import pandas as pd\n",
    "import seaborn as sns\n",
    "import matplotlib.pyplot as plt\n",
    "from sklearn.metrics import confusion_matrix, mean_absolute_error, f1_score\n",
    "\n",
    "def AC_MAE_Matrix(data_list):\n",
    "    true_labels = [v[\"ans_grad\"] for v in data_list]\n",
    "    pred_labels = [v[\"pred_grad\"] for v in data_list]\n",
    "    # label_names = ['Pants on Fire','False','Mostly False','Half True','Mostly True','True']\n",
    "    \n",
    "    accuracy = np.mean(np.array(true_labels) == np.array(pred_labels))\n",
    "    print(f\"Accuracy: {accuracy:.2f}\")\n",
    "    \n",
    "    weighted_f1 = f1_score(true_labels, pred_labels, average='weighted')\n",
    "    print(f\"Weighted F1 Score: {weighted_f1:.2f}\")\n",
    "    \n",
    "    mae = mean_absolute_error(true_labels, pred_labels)\n",
    "    print(f\"Mean Absolute Error: {mae:.2f}\")\n",
    "    \n",
    "    conf_matrix = confusion_matrix(true_labels, pred_labels)\n",
    "    plt.figure(figsize=(8, 6))\n",
    "    sns.heatmap(conf_matrix, annot=True, fmt='d', cmap='Blues')\n",
    "    # xticklabels=label_names, yticklabels=label_names)\n",
    "    plt.title('Confusion Matrix Heatmap')\n",
    "    plt.xlabel('Predicted Label')\n",
    "    plt.ylabel('True Label')"
   ]
  },
  {
   "cell_type": "code",
   "execution_count": 361,
   "id": "62e0b6da-cdae-4a8d-b6a8-3cb57da82061",
   "metadata": {},
   "outputs": [
    {
     "name": "stdout",
     "output_type": "stream",
     "text": [
      "Accuracy: 0.32\n",
      "Weighted F1 Score: 0.32\n",
      "Mean Absolute Error: 0.85\n",
      "Accuracy: 0.36\n",
      "Weighted F1 Score: 0.35\n",
      "Mean Absolute Error: 0.74\n"
     ]
    },
    {
     "data": {
      "image/png": "[encoded data removed]",
      "text/plain": [
       "<Figure size 800x600 with 2 Axes>"
      ]
     },
     "metadata": {},
     "output_type": "display_data"
    },
    {
     "data": {
      "image/png": "[encoded data removed]",
      "text/plain": [
       "<Figure size 800x600 with 2 Axes>"
      ]
     },
     "metadata": {},
     "output_type": "display_data"
    }
   ],
   "source": [
    "AC_MAE_Matrix(data_list_A)\n",
    "AC_MAE_Matrix(data_list_B)"
   ]
  },
  {
   "cell_type": "code",
   "execution_count": 327,
   "id": "4237d57d-a894-4be7-b0f2-b7611ffbca5b",
   "metadata": {},
   "outputs": [],
   "source": [
    "# df_A"
   ]
  },
  {
   "cell_type": "code",
   "execution_count": null,
   "id": "6cfc03fb-9413-4a83-984a-93f65c4ce2d8",
   "metadata": {},
   "outputs": [],
   "source": []
  }
 ],
 "metadata": {
  "kernelspec": {
   "display_name": "Python 3 (ipykernel)",
   "language": "python",
   "name": "python3"
  },
  "language_info": {
   "codemirror_mode": {
    "name": "ipython",
    "version": 3
   },
   "file_extension": ".py",
   "mimetype": "text/x-python",
   "name": "python",
   "nbconvert_exporter": "python",
   "pygments_lexer": "ipython3",
   "version": "3.12.4"
  }
 },
 "nbformat": 4,
 "nbformat_minor": 5
}
