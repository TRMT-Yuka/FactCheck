{
 "cells": [
  {
   "cell_type": "code",
   "execution_count": 4,
   "id": "1f6c632a",
   "metadata": {},
   "outputs": [],
   "source": [
    "import pickle\n",
    "def read_bin(filename):\n",
    "    with open(filename,'rb') as bf:\n",
    "        bin_data = pickle.load(bf)\n",
    "    return bin_data\n",
    "\n",
    "def save_bin(filename,data):\n",
    "    with open(filename,'wb') as bf:\n",
    "        pickle.dump(data,bf)"
   ]
  },
  {
   "cell_type": "code",
   "execution_count": 5,
   "id": "3e076391",
   "metadata": {},
   "outputs": [],
   "source": [
    "# gpt35_df=read_bin(\"new_data/gpt35_df.bin\")\n",
    "# gpt4o_df=read_bin(\"new_data/gpt4o_df.bin\")\n",
    "gpt4_df=read_bin(\"new_data/gpt4_df.bin\")"
   ]
  },
  {
   "cell_type": "code",
   "execution_count": 6,
   "id": "537fe24a",
   "metadata": {},
   "outputs": [],
   "source": [
    "FABLE = read_bin(\"new_data/FABLE.bin\")"
   ]
  },
  {
   "cell_type": "code",
   "execution_count": 7,
   "id": "f62678f0",
   "metadata": {},
   "outputs": [
    {
     "data": {
      "text/html": [
       "<div>\n",
       "<style scoped>\n",
       "    .dataframe tbody tr th:only-of-type {\n",
       "        vertical-align: middle;\n",
       "    }\n",
       "\n",
       "    .dataframe tbody tr th {\n",
       "        vertical-align: top;\n",
       "    }\n",
       "\n",
       "    .dataframe thead th {\n",
       "        text-align: right;\n",
       "    }\n",
       "</style>\n",
       "<table border=\"1\" class=\"dataframe\">\n",
       "  <thead>\n",
       "    <tr style=\"text-align: right;\">\n",
       "      <th></th>\n",
       "      <th>id</th>\n",
       "      <th>datePublished</th>\n",
       "      <th>itemReviewed.datePublished</th>\n",
       "      <th>claimReviewed</th>\n",
       "      <th>author.name</th>\n",
       "      <th>reviewRating.@type</th>\n",
       "      <th>reviewRating.ratingValue</th>\n",
       "      <th>reviewRating.alternateName</th>\n",
       "      <th>date_diff</th>\n",
       "      <th>language</th>\n",
       "    </tr>\n",
       "  </thead>\n",
       "  <tbody>\n",
       "    <tr>\n",
       "      <th>25</th>\n",
       "      <td>75eae0a2-c474-4200-9889-f1f80a83be5e</td>\n",
       "      <td>2024-04-09 00:00:00+00:00</td>\n",
       "      <td>2024-03-27 00:00:00+00:00</td>\n",
       "      <td>Laut ORF-Artikel wurde Siegfried Meryn in eine...</td>\n",
       "      <td>dpa</td>\n",
       "      <td>Rating</td>\n",
       "      <td>NaN</td>\n",
       "      <td>Die angebliche ORF-Webseite wurde gefälscht, d...</td>\n",
       "      <td>13.0</td>\n",
       "      <td>de</td>\n",
       "    </tr>\n",
       "  </tbody>\n",
       "</table>\n",
       "</div>"
      ],
      "text/plain": [
       "                                      id             datePublished  \\\n",
       "25  75eae0a2-c474-4200-9889-f1f80a83be5e 2024-04-09 00:00:00+00:00   \n",
       "\n",
       "   itemReviewed.datePublished  \\\n",
       "25  2024-03-27 00:00:00+00:00   \n",
       "\n",
       "                                        claimReviewed author.name  \\\n",
       "25  Laut ORF-Artikel wurde Siegfried Meryn in eine...         dpa   \n",
       "\n",
       "   reviewRating.@type reviewRating.ratingValue  \\\n",
       "25             Rating                      NaN   \n",
       "\n",
       "                           reviewRating.alternateName  date_diff language  \n",
       "25  Die angebliche ORF-Webseite wurde gefälscht, d...       13.0       de  "
      ]
     },
     "execution_count": 7,
     "metadata": {},
     "output_type": "execute_result"
    }
   ],
   "source": [
    "gpt4_df.head(1)"
   ]
  },
  {
   "cell_type": "code",
   "execution_count": 32,
   "id": "04cf87af",
   "metadata": {},
   "outputs": [],
   "source": [
    "gpt4_df_id = list(gpt4_df[\"id\"])\n",
    "gpt4_df_claimReviewed = list(gpt4_df[\"claimReviewed\"])"
   ]
  },
  {
   "cell_type": "code",
   "execution_count": 20,
   "id": "6030dac3",
   "metadata": {},
   "outputs": [],
   "source": [
    "save_bin(\"new_data/ans_dict/ans_correct_dict_0-24.bin\",ans_correct)"
   ]
  },
  {
   "cell_type": "code",
   "execution_count": 18,
   "id": "e19f1c7c",
   "metadata": {},
   "outputs": [],
   "source": [
    "c_l = [48, 60, 72, 84, 96, 108, 120, 132, 144, 156, 168, 180, 192, 204, 216, 228, 240, 252, 264, 276, 288, 300, 312, 324, 336, 348, 360, 372, 384, 396, 408, 420, 432, 444, 456, 468, 480, 492, 504, 516, 528, 540, 552, 564, 576, 588, 600, 612, 624, 636]"
   ]
  },
  {
   "cell_type": "code",
   "execution_count": 14,
   "id": "ee04e92a",
   "metadata": {},
   "outputs": [],
   "source": [
    "dicts_list = []\n",
    "cut = 52\n",
    "for c in c_l:\n",
    "    d = read_bin(\"new_data/ans_dict/ans_dict_-\"+str(c)+\".bin\")\n",
    "    for k,v in d.items():\n",
    "        if len(v) != 52:\n",
    "            dicts_list.append(v[cut:])\n",
    "            cut =len(v)\n",
    "            break"
   ]
  },
  {
   "cell_type": "code",
   "execution_count": null,
   "id": "77a39d20",
   "metadata": {},
   "outputs": [],
   "source": [
    "for c,l in zip(c_l,dicts_list):\n",
    "    print(c,\":\",len(l))\n",
    "# 48 : 624\n",
    "# 60 : 624\n",
    "# 72 : 624..."
   ]
  },
  {
   "cell_type": "code",
   "execution_count": null,
   "id": "1e1c43b5",
   "metadata": {},
   "outputs": [],
   "source": [
    "# 24-36に問題があることが発覚，その区間は削除\n",
    "dicts_list = dicts_list[1:]"
   ]
  },
  {
   "cell_type": "code",
   "execution_count": 24,
   "id": "32ae7d6a",
   "metadata": {},
   "outputs": [],
   "source": [
    "dicts_list_2 = []#588\n",
    "for original_list in dicts_list:\n",
    "    split_lists = []\n",
    "    # 52個ずつのリストを12個作成\n",
    "    for i in range(12):\n",
    "        split_list = original_list[i*52:(i+1)*52]\n",
    "        split_lists.append(split_list)\n",
    "    dicts_list_2.extend(split_lists)"
   ]
  },
  {
   "cell_type": "code",
   "execution_count": 38,
   "id": "a8f63305",
   "metadata": {},
   "outputs": [],
   "source": [
    "ans_correct_dict_handy_fix = dict()\n",
    "t = 0\n",
    "for i in range(37,625):\n",
    "    ans_correct_dict_handy_fix[i] = dicts_list_2[t]\n",
    "    t += 1"
   ]
  },
  {
   "cell_type": "code",
   "execution_count": 39,
   "id": "023c0834",
   "metadata": {},
   "outputs": [],
   "source": [
    "save_bin(\"new_data/ans_dict/ans_correct_dict_handy_fix_37-624.bin\",ans_correct_dict_handy_fix)"
   ]
  }
 ],
 "metadata": {
  "kernelspec": {
   "display_name": "Python 3",
   "language": "python",
   "name": "python3"
  },
  "language_info": {
   "codemirror_mode": {
    "name": "ipython",
    "version": 3
   },
   "file_extension": ".py",
   "mimetype": "text/x-python",
   "name": "python",
   "nbconvert_exporter": "python",
   "pygments_lexer": "ipython3",
   "version": "3.9.0"
  }
 },
 "nbformat": 4,
 "nbformat_minor": 5
}
