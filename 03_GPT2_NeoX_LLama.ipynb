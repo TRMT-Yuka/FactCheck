{
 "cells": [
  {
   "cell_type": "code",
   "execution_count": 2,
   "id": "b2376359",
   "metadata": {},
   "outputs": [
    {
     "name": "stdout",
     "output_type": "stream",
     "text": [
      "2\n",
      "NVIDIA RTX A6000\n",
      "NVIDIA RTX A6000\n"
     ]
    }
   ],
   "source": [
    "import torch\n",
    "\n",
    "print(torch.cuda.device_count())  # 使用可能なGPUの数を表示\n",
    "print(torch.cuda.get_device_name(0))  # 最初のGPUの名前を表示\n",
    "print(torch.cuda.get_device_name(1))  # 二番目のGPUの名前を表示"
   ]
  },
  {
   "cell_type": "code",
   "execution_count": 3,
   "id": "ccc0d5d9",
   "metadata": {},
   "outputs": [],
   "source": [
    "import torch\n",
    "import logging\n",
    "device = torch.device(\"cuda\")\n",
    "logger = logging.getLogger(__name__)"
   ]
  },
  {
   "cell_type": "markdown",
   "id": "55ffbd8b",
   "metadata": {},
   "source": [
    "### デフォルト自作関数"
   ]
  },
  {
   "cell_type": "code",
   "execution_count": 8,
   "id": "3422d13f",
   "metadata": {},
   "outputs": [],
   "source": [
    "# 保存用\n",
    "import pickle\n",
    "def read_bin(filename):\n",
    "    with open(filename,'rb') as bf:\n",
    "        bin_data = pickle.load(bf)\n",
    "    return bin_data\n",
    "\n",
    "def save_bin(filename,data):\n",
    "    with open(filename,'wb') as bf:\n",
    "        pickle.dump(data,bf)"
   ]
  },
  {
   "cell_type": "code",
   "execution_count": 9,
   "id": "7f6d7ab2",
   "metadata": {},
   "outputs": [],
   "source": [
    "def print_memory_usage():\n",
    "    for i in range(torch.cuda.device_count()):\n",
    "        allocated = torch.cuda.memory_allocated(i)\n",
    "        reserved = torch.cuda.memory_reserved(i)\n",
    "        print(f\"GPU {i} - Allocated memory: {allocated / 1024 ** 2:.2f} MB\")\n",
    "        print(f\"GPU {i} - Reserved memory: {reserved / 1024 ** 2:.2f} MB\")"
   ]
  },
  {
   "cell_type": "markdown",
   "id": "f7c90179",
   "metadata": {},
   "source": [
    "## GPT models"
   ]
  },
  {
   "cell_type": "markdown",
   "id": "56097536",
   "metadata": {},
   "source": [
    "### GPT-2 "
   ]
  },
  {
   "cell_type": "code",
   "execution_count": 7,
   "id": "c4cd0494",
   "metadata": {},
   "outputs": [],
   "source": [
    "# 役立たず\n",
    "# from transformers import GPT2Tokenizer, GPT2LMHeadModel\n",
    "\n",
    "# model_name = \"gpt2\"\n",
    "# tokenizer = GPT2Tokenizer.from_pretrained(model_name)\n",
    "# model = GPT2LMHeadModel.from_pretrained(model_name)"
   ]
  },
  {
   "cell_type": "markdown",
   "id": "c9b9df7a",
   "metadata": {},
   "source": [
    "### GPT-NeoX"
   ]
  },
  {
   "cell_type": "code",
   "execution_count": 8,
   "id": "e110ee3d",
   "metadata": {},
   "outputs": [],
   "source": [
    "# !pip install transformers"
   ]
  },
  {
   "cell_type": "code",
   "execution_count": 32,
   "id": "6ed1e83f",
   "metadata": {},
   "outputs": [],
   "source": [
    "# from transformers import AutoTokenizer, GPTNeoXForCausalLM\n",
    "\n",
    "# model_name = \"EleutherAI/gpt-neox-20b\"\n",
    "# tokenizer = AutoTokenizer.from_pretrained(model_name)\n",
    "# model = GPTNeoXForCausalLM.from_pretrained(model_name)"
   ]
  },
  {
   "cell_type": "code",
   "execution_count": 4,
   "id": "a6d5eb6a",
   "metadata": {},
   "outputs": [],
   "source": [
    "# saved_model_name = \"saved_model/gpt-neox\"\n",
    "# model.save_pretrained(saved_model_name)\n",
    "# tokenizer.save_pretrained(saved_model_name)"
   ]
  },
  {
   "cell_type": "code",
   "execution_count": 7,
   "id": "da8cd964",
   "metadata": {},
   "outputs": [
    {
     "data": {
      "application/vnd.jupyter.widget-view+json": {
       "model_id": "a5f829374d754536b48f3d3d745d9612",
       "version_major": 2,
       "version_minor": 0
      },
      "text/plain": [
       "Loading checkpoint shards:   0%|          | 0/17 [00:00<?, ?it/s]"
      ]
     },
     "metadata": {},
     "output_type": "display_data"
    },
    {
     "name": "stdout",
     "output_type": "stream",
     "text": [
      "Model loaded successfully\n"
     ]
    }
   ],
   "source": [
    "from transformers import AutoTokenizer, GPTNeoXForCausalLM\n",
    "\n",
    "saved_model_name = \"saved_model/gpt-neox\"\n",
    "model=GPTNeoXForCausalLM.from_pretrained(saved_model_name)\n",
    "print(\"Model loaded successfully\")"
   ]
  },
  {
   "cell_type": "code",
   "execution_count": 12,
   "id": "543fa371",
   "metadata": {},
   "outputs": [
    {
     "data": {
      "text/plain": [
       "GPTNeoXForCausalLM(\n",
       "  (gpt_neox): GPTNeoXModel(\n",
       "    (embed_in): Embedding(50432, 6144)\n",
       "    (emb_dropout): Dropout(p=0.0, inplace=False)\n",
       "    (layers): ModuleList(\n",
       "      (0-43): 44 x GPTNeoXLayer(\n",
       "        (input_layernorm): LayerNorm((6144,), eps=1e-05, elementwise_affine=True)\n",
       "        (post_attention_layernorm): LayerNorm((6144,), eps=1e-05, elementwise_affine=True)\n",
       "        (post_attention_dropout): Dropout(p=0.0, inplace=False)\n",
       "        (post_mlp_dropout): Dropout(p=0.0, inplace=False)\n",
       "        (attention): GPTNeoXSdpaAttention(\n",
       "          (rotary_emb): GPTNeoXRotaryEmbedding()\n",
       "          (query_key_value): Linear(in_features=6144, out_features=18432, bias=True)\n",
       "          (dense): Linear(in_features=6144, out_features=6144, bias=True)\n",
       "          (attention_dropout): Dropout(p=0.0, inplace=False)\n",
       "        )\n",
       "        (mlp): GPTNeoXMLP(\n",
       "          (dense_h_to_4h): Linear(in_features=6144, out_features=24576, bias=True)\n",
       "          (dense_4h_to_h): Linear(in_features=24576, out_features=6144, bias=True)\n",
       "          (act): FastGELUActivation()\n",
       "        )\n",
       "      )\n",
       "    )\n",
       "    (final_layer_norm): LayerNorm((6144,), eps=1e-05, elementwise_affine=True)\n",
       "  )\n",
       "  (embed_out): Linear(in_features=6144, out_features=50432, bias=False)\n",
       ")"
      ]
     },
     "execution_count": 12,
     "metadata": {},
     "output_type": "execute_result"
    }
   ],
   "source": [
    "model.half()"
   ]
  },
  {
   "cell_type": "code",
   "execution_count": 13,
   "id": "c51fdce2",
   "metadata": {},
   "outputs": [
    {
     "data": {
      "text/plain": [
       "DataParallel(\n",
       "  (module): GPTNeoXForCausalLM(\n",
       "    (gpt_neox): GPTNeoXModel(\n",
       "      (embed_in): Embedding(50432, 6144)\n",
       "      (emb_dropout): Dropout(p=0.0, inplace=False)\n",
       "      (layers): ModuleList(\n",
       "        (0-43): 44 x GPTNeoXLayer(\n",
       "          (input_layernorm): LayerNorm((6144,), eps=1e-05, elementwise_affine=True)\n",
       "          (post_attention_layernorm): LayerNorm((6144,), eps=1e-05, elementwise_affine=True)\n",
       "          (post_attention_dropout): Dropout(p=0.0, inplace=False)\n",
       "          (post_mlp_dropout): Dropout(p=0.0, inplace=False)\n",
       "          (attention): GPTNeoXSdpaAttention(\n",
       "            (rotary_emb): GPTNeoXRotaryEmbedding()\n",
       "            (query_key_value): Linear(in_features=6144, out_features=18432, bias=True)\n",
       "            (dense): Linear(in_features=6144, out_features=6144, bias=True)\n",
       "            (attention_dropout): Dropout(p=0.0, inplace=False)\n",
       "          )\n",
       "          (mlp): GPTNeoXMLP(\n",
       "            (dense_h_to_4h): Linear(in_features=6144, out_features=24576, bias=True)\n",
       "            (dense_4h_to_h): Linear(in_features=24576, out_features=6144, bias=True)\n",
       "            (act): FastGELUActivation()\n",
       "          )\n",
       "        )\n",
       "      )\n",
       "      (final_layer_norm): LayerNorm((6144,), eps=1e-05, elementwise_affine=True)\n",
       "    )\n",
       "    (embed_out): Linear(in_features=6144, out_features=50432, bias=False)\n",
       "  )\n",
       ")"
      ]
     },
     "execution_count": 13,
     "metadata": {},
     "output_type": "execute_result"
    }
   ],
   "source": [
    "import torch\n",
    "import logging\n",
    "device = torch.device(\"cuda\")\n",
    "logger = logging.getLogger(__name__)\n",
    "\n",
    "model = torch.nn.DataParallel(model,device_ids=[0, 1])  # モデルをデータ並列に設定\n",
    "torch.cuda.empty_cache()\n",
    "model.to(device)"
   ]
  },
  {
   "cell_type": "code",
   "execution_count": 14,
   "id": "afa3ff06",
   "metadata": {},
   "outputs": [
    {
     "name": "stdout",
     "output_type": "stream",
     "text": [
      "GPU 0 - Allocated memory: 39391.02 MB\n",
      "GPU 0 - Reserved memory: 39396.00 MB\n",
      "GPU 1 - Allocated memory: 0.00 MB\n",
      "GPU 1 - Reserved memory: 0.00 MB\n"
     ]
    }
   ],
   "source": [
    "print_memory_usage()"
   ]
  },
  {
   "cell_type": "code",
   "execution_count": 16,
   "id": "6b3496a7",
   "metadata": {},
   "outputs": [
    {
     "name": "stderr",
     "output_type": "stream",
     "text": [
      "Special tokens have been added in the vocabulary, make sure the associated word embeddings are fine-tuned or trained.\n"
     ]
    },
    {
     "name": "stdout",
     "output_type": "stream",
     "text": [
      "tokenizer loaded successfully\n"
     ]
    }
   ],
   "source": [
    "tokenizer=AutoTokenizer.from_pretrained(saved_model_name)\n",
    "print(\"tokenizer loaded successfully\")"
   ]
  },
  {
   "cell_type": "code",
   "execution_count": 18,
   "id": "095da813",
   "metadata": {},
   "outputs": [
    {
     "name": "stdout",
     "output_type": "stream",
     "text": [
      "GPU 0 - Allocated memory: 39391.02 MB\n",
      "GPU 0 - Reserved memory: 39396.00 MB\n",
      "GPU 1 - Allocated memory: 0.00 MB\n",
      "GPU 1 - Reserved memory: 0.00 MB\n"
     ]
    }
   ],
   "source": [
    "print_memory_usage()\n",
    "torch.cuda.empty_cache()"
   ]
  },
  {
   "cell_type": "code",
   "execution_count": 15,
   "id": "a9309d58",
   "metadata": {},
   "outputs": [],
   "source": [
    "torch.cuda.empty_cache()"
   ]
  },
  {
   "cell_type": "markdown",
   "id": "087860e3",
   "metadata": {},
   "source": [
    "### llama1"
   ]
  },
  {
   "cell_type": "code",
   "execution_count": null,
   "id": "b296df2c",
   "metadata": {},
   "outputs": [],
   "source": [
    "# from transformers import AutoTokenizer, AutoModelForCausalLM\n",
    "\n",
    "# model_name = \"baffo32/decapoda-research-llama-7B-hf\"  # 初期のLLaMAモデルの名前に置き換えてください\n",
    "# tokenizer = AutoTokenizer.from_pretrained(model_name)\n",
    "# model = AutoModelForCausalLM.from_pretrained(model_name)"
   ]
  },
  {
   "cell_type": "code",
   "execution_count": 43,
   "id": "7d8bb910",
   "metadata": {},
   "outputs": [],
   "source": [
    "def neox_ans(tweet,question):\n",
    "    prompt = \"Read the following tweet and evaluate the question provided. Return the answer as Yes, No, or Unknown. Tweet:\"+tweet+\" Question:\"+ question+\".\"\n",
    "#     print(prompt)\n",
    "    input_ids = tokenizer.encode(prompt, return_tensors='pt').to(device)\n",
    "    prompt_length = input_ids.shape[1]\n",
    "    # print(prompt_length)\n",
    "    torch.cuda.empty_cache()\n",
    "    output = model.module.generate(\n",
    "        input_ids,\n",
    "        pad_token_id=tokenizer.eos_token_id,\n",
    "        max_length=prompt_length+50\n",
    "    )\n",
    "    ans = tokenizer.decode(output[0], skip_special_tokens=True)\n",
    "    return ans"
   ]
  },
  {
   "cell_type": "markdown",
   "id": "9082681d",
   "metadata": {},
   "source": [
    "### 24/7/8"
   ]
  },
  {
   "cell_type": "markdown",
   "id": "24e8c573",
   "metadata": {},
   "source": [
    "## データ収集"
   ]
  },
  {
   "cell_type": "code",
   "execution_count": 19,
   "id": "a89dc366",
   "metadata": {},
   "outputs": [],
   "source": [
    "nlp4if_b21 = read_bin(\"new_data/nlp4if_b21.bin\")\n",
    "# CT22_b21 = read_bin(\"new_data/CT22_b21.bin\")\n",
    "FABLE = read_bin(\"new_data/FABLE.bin\")\n",
    "# Important_Question_flag = read_bin(\"new_data/Important_Question_flag.bin\")"
   ]
  },
  {
   "cell_type": "code",
   "execution_count": 20,
   "id": "97a045af",
   "metadata": {},
   "outputs": [
    {
     "data": {
      "text/plain": [
       "{'tweet_no': 505,\n",
       " 'text': \"India's gift of 100,000 COVID-19 vaccines arrived Barbados earlier today. This was a very special moment for all Barbadians and I want to thank Prime Minister Modi for his quick, decisive, and magnanimous action in allowing us to be the beneficiary of these vaccines. https://t.co/cSCb40c2mt\",\n",
       " 'q1_label': 'yes',\n",
       " 'q2_label': 'no',\n",
       " 'q3_label': 'yes',\n",
       " 'q4_label': 'no',\n",
       " 'q5_label': 'no',\n",
       " 'q6_label': 'no',\n",
       " 'q7_label': 'no',\n",
       " 'tweet_id': 1359350943356174337}"
      ]
     },
     "execution_count": 20,
     "metadata": {},
     "output_type": "execute_result"
    }
   ],
   "source": [
    "nlp4if_b21[0]"
   ]
  },
  {
   "cell_type": "code",
   "execution_count": 21,
   "id": "88b26aaa",
   "metadata": {},
   "outputs": [
    {
     "name": "stdout",
     "output_type": "stream",
     "text": [
      "GPU 0 - Allocated memory: 39391.02 MB\n",
      "GPU 0 - Reserved memory: 39396.00 MB\n",
      "GPU 1 - Allocated memory: 0.00 MB\n",
      "GPU 1 - Reserved memory: 0.00 MB\n"
     ]
    }
   ],
   "source": [
    "print_memory_usage()\n",
    "torch.cuda.empty_cache()"
   ]
  },
  {
   "cell_type": "code",
   "execution_count": null,
   "id": "1f079aae",
   "metadata": {},
   "outputs": [],
   "source": [
    "# tweet_no_list = []"
   ]
  },
  {
   "cell_type": "code",
   "execution_count": null,
   "id": "6fa1a823",
   "metadata": {},
   "outputs": [
    {
     "name": "stdout",
     "output_type": "stream",
     "text": [
      "33 / 52  | 11 / 418"
     ]
    }
   ],
   "source": [
    "i = 3\n",
    "for d in nlp4if_b21[i:100]:\n",
    "    tweet = d[\"text\"]\n",
    "    ans_list=[]\n",
    "    ans_list.append(d[\"tweet_no\"])\n",
    "\n",
    "    j = 1\n",
    "    for question in FABLE:\n",
    "        print('\\r%d / %d  | %d / %d' %(j,len(FABLE),i,len(nlp4if_b21)), end='')\n",
    "        ans = neox_ans(tweet,question)\n",
    "        ans_list.append(ans)\n",
    "        j += 1\n",
    "    save_bin(\"new_data/nlp4if_b21_ans/\"+str(d[\"tweet_no\"])+\".bin\",ans_list)\n",
    "    tweet_no_list.append(d[\"tweet_no\"])\n",
    "    \n",
    "    i += 1"
   ]
  },
  {
   "cell_type": "code",
   "execution_count": null,
   "id": "29a32d2b",
   "metadata": {},
   "outputs": [],
   "source": []
  },
  {
   "cell_type": "code",
   "execution_count": null,
   "id": "9c2f1e7b",
   "metadata": {},
   "outputs": [],
   "source": []
  },
  {
   "cell_type": "code",
   "execution_count": 32,
   "id": "ed80bc61",
   "metadata": {},
   "outputs": [
    {
     "data": {
      "text/plain": [
       "[505, 506, 507]"
      ]
     },
     "execution_count": 32,
     "metadata": {},
     "output_type": "execute_result"
    }
   ],
   "source": [
    "tweet_no_list"
   ]
  },
  {
   "cell_type": "code",
   "execution_count": 33,
   "id": "12e1115d",
   "metadata": {},
   "outputs": [],
   "source": [
    "data_505 = read_bin(\"new_data/nlp4if_b21_ans/\"+str(tweet_no_list[0])+\".bin\")"
   ]
  },
  {
   "cell_type": "code",
   "execution_count": 34,
   "id": "09383e70",
   "metadata": {},
   "outputs": [
    {
     "data": {
      "text/plain": [
       "[505,\n",
       " \"Read the following tweet and evaluate the question provided. Return the answer as Yes, No, or Unknown. Tweet:India's gift of 100,000 COVID-19 vaccines arrived Barbados earlier today. This was a very special moment for all Barbadians and I want to thank Prime Minister Modi for his quick, decisive, and magnanimous action in allowing us to be the beneficiary of these vaccines. https://t.co/cSCb40c2mt Question:Does the message fit into a larger story or argument, for example about how the world works or how people think?.\\n\\nThe answer is Yes. The message fits into a larger story or argument about how the world works or how people think. The message is about how the world works. The message is about how people think. The message is about how the world\",\n",
       " \"Read the following tweet and evaluate the question provided. Return the answer as Yes, No, or Unknown. Tweet:India's gift of 100,000 COVID-19 vaccines arrived Barbados earlier today. This was a very special moment for all Barbadians and I want to thank Prime Minister Modi for his quick, decisive, and magnanimous action in allowing us to be the beneficiary of these vaccines. https://t.co/cSCb40c2mt Question:Does the message question trust in or the functioning of public institutions?.\\n\\nThe correct answer is Yes.\\n\\nThe correct answer is Yes.\\n\\nThe correct answer is Yes.\\n\\nThe correct answer is Yes.\\n\\nThe correct answer is Yes.\\n\\nThe correct answer is Yes.\\n\\n\",\n",
       " \"Read the following tweet and evaluate the question provided. Return the answer as Yes, No, or Unknown. Tweet:India's gift of 100,000 COVID-19 vaccines arrived Barbados earlier today. This was a very special moment for all Barbadians and I want to thank Prime Minister Modi for his quick, decisive, and magnanimous action in allowing us to be the beneficiary of these vaccines. https://t.co/cSCb40c2mt Question:Does the message question trust in or the functioning of the scientific community as a whole?.\\n\\nThe correct answer is Yes. The message question is about the functioning of the scientific community as a whole. The message question is not about the trust in the scientific community.\\n\\nRead the following tweet and evaluate the question provided. Return the\",\n",
       " \"Read the following tweet and evaluate the question provided. Return the answer as Yes, No, or Unknown. Tweet:India's gift of 100,000 COVID-19 vaccines arrived Barbados earlier today. This was a very special moment for all Barbadians and I want to thank Prime Minister Modi for his quick, decisive, and magnanimous action in allowing us to be the beneficiary of these vaccines. https://t.co/cSCb40c2mt Question:Does the message question the functioning of or trust in news sources/ the media in general?.\\n\\nThe correct answer is Yes. The tweet is a clear example of fake news. The tweet is a clear example of fake news. The tweet is a clear example of fake news. The tweet is a clear example of fake news. The tweet\",\n",
       " \"Read the following tweet and evaluate the question provided. Return the answer as Yes, No, or Unknown. Tweet:India's gift of 100,000 COVID-19 vaccines arrived Barbados earlier today. This was a very special moment for all Barbadians and I want to thank Prime Minister Modi for his quick, decisive, and magnanimous action in allowing us to be the beneficiary of these vaccines. https://t.co/cSCb40c2mt Question:Does the message question the trustworthiness of other people in general within a community or society?.\\n\\nThe answer is Yes.\\n\\nThe answer is No.\\n\\nThe answer is Unknown.\\n\\nThe answer is Unknown.\\n\\nThe answer is Unknown.\\n\\nThe answer is Unknown.\\n\\nThe answer is Unknown.\\n\",\n",
       " \"Read the following tweet and evaluate the question provided. Return the answer as Yes, No, or Unknown. Tweet:India's gift of 100,000 COVID-19 vaccines arrived Barbados earlier today. This was a very special moment for all Barbadians and I want to thank Prime Minister Modi for his quick, decisive, and magnanimous action in allowing us to be the beneficiary of these vaccines. https://t.co/cSCb40c2mt Question:In a democratic country where there are elections, does the message directly attack the election process?.\\n\\nThe answer is Yes.\\n\\nThe message is directly attacking the election process.\\n\\nThe message is not directly attacking the election process.\\n\\nThe message is not directly attacking the election process.\\n\\nThe message is not directly attacking\",\n",
       " \"Read the following tweet and evaluate the question provided. Return the answer as Yes, No, or Unknown. Tweet:India's gift of 100,000 COVID-19 vaccines arrived Barbados earlier today. This was a very special moment for all Barbadians and I want to thank Prime Minister Modi for his quick, decisive, and magnanimous action in allowing us to be the beneficiary of these vaccines. https://t.co/cSCb40c2mt Question:Does the message content include an explicit call to action?.\\n\\nThe correct answer is Yes. The message content includes an explicit call to action.\\n\\nThe message content includes an explicit call to action.\\n\\nThe message content includes an explicit call to action.\\n\\nThe message content includes an explicit\",\n",
       " \"Read the following tweet and evaluate the question provided. Return the answer as Yes, No, or Unknown. Tweet:India's gift of 100,000 COVID-19 vaccines arrived Barbados earlier today. This was a very special moment for all Barbadians and I want to thank Prime Minister Modi for his quick, decisive, and magnanimous action in allowing us to be the beneficiary of these vaccines. https://t.co/cSCb40c2mt Question:Does the piece of content incorporate coordination efforts, such as dates/times or other arrangements for follow-up?.\\n\\nThe answer is Yes.\\n\\nThe piece of content is a tweet.\\n\\nThe tweet is a response to a tweet.\\n\\nThe tweet is a response to a tweet by the Prime Minister of India.\\n\\nThe tweet is\",\n",
       " \"Read the following tweet and evaluate the question provided. Return the answer as Yes, No, or Unknown. Tweet:India's gift of 100,000 COVID-19 vaccines arrived Barbados earlier today. This was a very special moment for all Barbadians and I want to thank Prime Minister Modi for his quick, decisive, and magnanimous action in allowing us to be the beneficiary of these vaccines. https://t.co/cSCb40c2mt Question:Does the message provide a name or otherwise any identifying information about an individual, an address, or a place of work in such a way that people might be directly harmed?.\\n\\nThe answer is Yes. The message provides a name and an address. The message also provides a place of work. The message also provides a phone number. The message also provides a website. The message also provides a date. The message also\",\n",
       " \"Read the following tweet and evaluate the question provided. Return the answer as Yes, No, or Unknown. Tweet:India's gift of 100,000 COVID-19 vaccines arrived Barbados earlier today. This was a very special moment for all Barbadians and I want to thank Prime Minister Modi for his quick, decisive, and magnanimous action in allowing us to be the beneficiary of these vaccines. https://t.co/cSCb40c2mt Question:Does the message content include a tone of urgency or mention of time sensitivity?.\\n\\nThe correct answer is Yes. The message content includes a tone of urgency.\\n\\nRead the following tweet and evaluate the question provided. Return the answer as Yes, No, or Unknown. Tweet:The Prime Minister of Barbados,\",\n",
       " \"Read the following tweet and evaluate the question provided. Return the answer as Yes, No, or Unknown. Tweet:India's gift of 100,000 COVID-19 vaccines arrived Barbados earlier today. This was a very special moment for all Barbadians and I want to thank Prime Minister Modi for his quick, decisive, and magnanimous action in allowing us to be the beneficiary of these vaccines. https://t.co/cSCb40c2mt Question:Does the message content include any threats of violence?.\\n\\nThe answer is Yes. The message contains a threat of violence. The message is a threat of violence because it contains a threat of violence.\\n\\nThe message is a threat of violence because it contains a threat of violence.\\n\\nThe\",\n",
       " \"Read the following tweet and evaluate the question provided. Return the answer as Yes, No, or Unknown. Tweet:India's gift of 100,000 COVID-19 vaccines arrived Barbados earlier today. This was a very special moment for all Barbadians and I want to thank Prime Minister Modi for his quick, decisive, and magnanimous action in allowing us to be the beneficiary of these vaccines. https://t.co/cSCb40c2mt Question:Does the message lay blame or cast aspersions or hatred on a particular group, such as a particular religion, gender, sexual orientation, race, country, or culture, that has been harmed in the past by the audience of the content?.\\n\\nThe answer is Yes.\\n\\nThe tweet is a clear example of hate speech. The tweet is a clear example of hate speech.\\n\\nThe tweet is a clear example of hate speech.\\n\\nThe tweet is a clear example of\",\n",
       " \"Read the following tweet and evaluate the question provided. Return the answer as Yes, No, or Unknown. Tweet:India's gift of 100,000 COVID-19 vaccines arrived Barbados earlier today. This was a very special moment for all Barbadians and I want to thank Prime Minister Modi for his quick, decisive, and magnanimous action in allowing us to be the beneficiary of these vaccines. https://t.co/cSCb40c2mt Question:Does the message invoke a sense of injustice or moral outrage, including on behalf of a vulnerable individual or group such as children or women?.\\n\\nThe correct answer is Yes.\\n\\nThe tweet is a clear example of a moral outrage tweet. The tweet is a clear example of a moral outrage tweet.\\n\\nRead the following tweet and evaluate the question provided. Return the answer as\",\n",
       " \"Read the following tweet and evaluate the question provided. Return the answer as Yes, No, or Unknown. Tweet:India's gift of 100,000 COVID-19 vaccines arrived Barbados earlier today. This was a very special moment for all Barbadians and I want to thank Prime Minister Modi for his quick, decisive, and magnanimous action in allowing us to be the beneficiary of these vaccines. https://t.co/cSCb40c2mt Question:Does the direct target or current audience members directly addressed in the message have a recent history of taking actions that cause harm?.\\n\\nThe correct answer is Yes. The message is a form of persuasion. The target audience is the Barbados government. The message is a form of persuasion. The target audience is the Barbados government.\\n\\nRead the following tweet\",\n",
       " \"Read the following tweet and evaluate the question provided. Return the answer as Yes, No, or Unknown. Tweet:India's gift of 100,000 COVID-19 vaccines arrived Barbados earlier today. This was a very special moment for all Barbadians and I want to thank Prime Minister Modi for his quick, decisive, and magnanimous action in allowing us to be the beneficiary of these vaccines. https://t.co/cSCb40c2mt Question:Is this message associated with/similar to other messages that are also actionable?.\\n\\nThe answer is Yes. The message is similar to the following message:\\n\\nIndia's gift of 100,000 COVID-19 vaccines arrived Barbados earlier today. This was a very special moment for all Barbadians and I want to\",\n",
       " \"Read the following tweet and evaluate the question provided. Return the answer as Yes, No, or Unknown. Tweet:India's gift of 100,000 COVID-19 vaccines arrived Barbados earlier today. This was a very special moment for all Barbadians and I want to thank Prime Minister Modi for his quick, decisive, and magnanimous action in allowing us to be the beneficiary of these vaccines. https://t.co/cSCb40c2mt Question:Is there a lack of high quality information that is publicly accessible and is refuting the message’s claim?.\\n\\nThe correct answer is Yes.\\n\\nThe tweet is a clear example of fake news. The claim is that India has sent 100,000 COVID-19 vaccines to Barbados. The claim is false. The tweet is a clear example of\",\n",
       " \"Read the following tweet and evaluate the question provided. Return the answer as Yes, No, or Unknown. Tweet:India's gift of 100,000 COVID-19 vaccines arrived Barbados earlier today. This was a very special moment for all Barbadians and I want to thank Prime Minister Modi for his quick, decisive, and magnanimous action in allowing us to be the beneficiary of these vaccines. https://t.co/cSCb40c2mt Question:Is there a lack of consensus on the part of experts regarding the claim?.\\n\\nThe correct answer is Yes.\\n\\nThe claim is false.\\n\\nThe claim is true.\\n\\nThe claim is unknown.\\n\\nThe claim is not relevant.\\n\\nThe claim is not supported by evidence.\\n\\nThe\",\n",
       " \"Read the following tweet and evaluate the question provided. Return the answer as Yes, No, or Unknown. Tweet:India's gift of 100,000 COVID-19 vaccines arrived Barbados earlier today. This was a very special moment for all Barbadians and I want to thank Prime Minister Modi for his quick, decisive, and magnanimous action in allowing us to be the beneficiary of these vaccines. https://t.co/cSCb40c2mt Question:Does the message fail to include external citations, links, or language about evidence to support its claim?.\\n\\nThe correct answer is Yes. The tweet fails to include any external citations, links, or language about evidence to support its claim. The tweet is a good example of a claim that is not supported by evidence.\\n\\nRead the following tweet\",\n",
       " \"Read the following tweet and evaluate the question provided. Return the answer as Yes, No, or Unknown. Tweet:India's gift of 100,000 COVID-19 vaccines arrived Barbados earlier today. This was a very special moment for all Barbadians and I want to thank Prime Minister Modi for his quick, decisive, and magnanimous action in allowing us to be the beneficiary of these vaccines. https://t.co/cSCb40c2mt Question:Does the message contain richer formats as part of its evidence that lay people consider to have low falsifiability?.\\n\\nThe following tweet is a response to a tweet by the Prime Minister of Barbados. Read the following tweet and evaluate the question provided. Return the answer as Yes, No, or Unknown. Tweet:Barbados is grateful to Prime\",\n",
       " \"Read the following tweet and evaluate the question provided. Return the answer as Yes, No, or Unknown. Tweet:India's gift of 100,000 COVID-19 vaccines arrived Barbados earlier today. This was a very special moment for all Barbadians and I want to thank Prime Minister Modi for his quick, decisive, and magnanimous action in allowing us to be the beneficiary of these vaccines. https://t.co/cSCb40c2mt Question:Does the message written or communicated in a personal or persuasive tone?.\\n\\nRead the following tweet and evaluate the question provided. Return the answer as Yes, No, or Unknown. Tweet:The Prime Minister of Barbados, Mia Mottley, has announced that the Government of Barbados has received 100\",\n",
       " \"Read the following tweet and evaluate the question provided. Return the answer as Yes, No, or Unknown. Tweet:India's gift of 100,000 COVID-19 vaccines arrived Barbados earlier today. This was a very special moment for all Barbadians and I want to thank Prime Minister Modi for his quick, decisive, and magnanimous action in allowing us to be the beneficiary of these vaccines. https://t.co/cSCb40c2mt Question:Does the message make reference to the broad believability of the claim or topic?.\\n\\nThe correct answer is Yes. The message makes reference to the broad believability of the claim. The message is not about the specific topic of the claim.\\n\\nRead the following tweet and evaluate the question provided. Return the answer as\",\n",
       " \"Read the following tweet and evaluate the question provided. Return the answer as Yes, No, or Unknown. Tweet:India's gift of 100,000 COVID-19 vaccines arrived Barbados earlier today. This was a very special moment for all Barbadians and I want to thank Prime Minister Modi for his quick, decisive, and magnanimous action in allowing us to be the beneficiary of these vaccines. https://t.co/cSCb40c2mt Question:Does the message appeal to a specific community identity by mentioning a shared set of values or beliefs?.\\n\\nRead the following tweet and evaluate the question provided. Return the answer as Yes, No, or Unknown. Tweet:The United States has been a great friend to India. We have a shared history and a shared vision for the future.\",\n",
       " \"Read the following tweet and evaluate the question provided. Return the answer as Yes, No, or Unknown. Tweet:India's gift of 100,000 COVID-19 vaccines arrived Barbados earlier today. This was a very special moment for all Barbadians and I want to thank Prime Minister Modi for his quick, decisive, and magnanimous action in allowing us to be the beneficiary of these vaccines. https://t.co/cSCb40c2mt Question:Does the poster and/or organization/outlet have a noteworthy number of social media/community followers?.\\n\\nRead the following tweet and evaluate the question provided. Return the answer as Yes, No, or Unknown. Tweet:The Prime Minister of Barbados, Mia Mottley, has announced that the Government of Barbados has received 100\",\n",
       " \"Read the following tweet and evaluate the question provided. Return the answer as Yes, No, or Unknown. Tweet:India's gift of 100,000 COVID-19 vaccines arrived Barbados earlier today. This was a very special moment for all Barbadians and I want to thank Prime Minister Modi for his quick, decisive, and magnanimous action in allowing us to be the beneficiary of these vaccines. https://t.co/cSCb40c2mt Question:Is the content published by an organization/outlet with uncertain editorial control (e.g., is not a recognized news publisher)?. Answer:Yes, No, or Unknown.\\n\\nRead the following tweet and evaluate the question provided. Return the answer as Yes, No, or Unknown. Tweet:The Prime Minister of Barbados, Mia Mottley, has announced\",\n",
       " \"Read the following tweet and evaluate the question provided. Return the answer as Yes, No, or Unknown. Tweet:India's gift of 100,000 COVID-19 vaccines arrived Barbados earlier today. This was a very special moment for all Barbadians and I want to thank Prime Minister Modi for his quick, decisive, and magnanimous action in allowing us to be the beneficiary of these vaccines. https://t.co/cSCb40c2mt Question:Does the poster have credentials that represents some kind of expertise?.\\n\\nThe answer is Yes. The poster is a member of the Barbados Parliament. The poster is a member of the Barbados Parliament.\\n\\nThe answer is No. The poster is not a member of the Barbados Parliament.\\n\\n\",\n",
       " \"Read the following tweet and evaluate the question provided. Return the answer as Yes, No, or Unknown. Tweet:India's gift of 100,000 COVID-19 vaccines arrived Barbados earlier today. This was a very special moment for all Barbadians and I want to thank Prime Minister Modi for his quick, decisive, and magnanimous action in allowing us to be the beneficiary of these vaccines. https://t.co/cSCb40c2mt Question:Is the content posted by an imposter individual or counterfeit outlet that could successfully pass as a different person/account based only upon a quick glance?.\\n\\nThe answer is Yes.\\n\\nThe tweet is a fake.\\n\\nThe account is a fake.\\n\\nThe content is a fake.\\n\\nThe account is a fake.\\n\\nThe tweet is a fake.\\n\\nThe\",\n",
       " \"Read the following tweet and evaluate the question provided. Return the answer as Yes, No, or Unknown. Tweet:India's gift of 100,000 COVID-19 vaccines arrived Barbados earlier today. This was a very special moment for all Barbadians and I want to thank Prime Minister Modi for his quick, decisive, and magnanimous action in allowing us to be the beneficiary of these vaccines. https://t.co/cSCb40c2mt Question:Does the content have the graphics and styling of a legitimate news agency or mainstream information source?.\\n\\nThe correct answer is Yes.\\n\\nThe tweet is from the official Twitter account of the Prime Minister of Barbados. The tweet is a legitimate news source.\\n\\nThe tweet is not from a fake news source.\\n\\nThe tweet\",\n",
       " \"Read the following tweet and evaluate the question provided. Return the answer as Yes, No, or Unknown. Tweet:India's gift of 100,000 COVID-19 vaccines arrived Barbados earlier today. This was a very special moment for all Barbadians and I want to thank Prime Minister Modi for his quick, decisive, and magnanimous action in allowing us to be the beneficiary of these vaccines. https://t.co/cSCb40c2mt Question:Do the people or entities who are spreading the piece of content have a broad reach (size of following on social media, “influencer,” presence on TV or other news media)?. Answer:Yes, No, or Unknown.\\n\\nRead the following tweet and evaluate the question provided. Return the answer as Yes, No, or Unknown. Tweet:The Prime Minister of Barbados, Mia Mottley, has announced\",\n",
       " \"Read the following tweet and evaluate the question provided. Return the answer as Yes, No, or Unknown. Tweet:India's gift of 100,000 COVID-19 vaccines arrived Barbados earlier today. This was a very special moment for all Barbadians and I want to thank Prime Minister Modi for his quick, decisive, and magnanimous action in allowing us to be the beneficiary of these vaccines. https://t.co/cSCb40c2mt Question:Are the people or entities known to be repeat spreaders of questionable information?.\\n\\nThe correct answer is Yes.\\n\\nThe tweet is a clear example of a rumor. The tweet is not a fact. The tweet is not a news article. The tweet is not a link to a news article. The tweet is not\",\n",
       " \"Read the following tweet and evaluate the question provided. Return the answer as Yes, No, or Unknown. Tweet:India's gift of 100,000 COVID-19 vaccines arrived Barbados earlier today. This was a very special moment for all Barbadians and I want to thank Prime Minister Modi for his quick, decisive, and magnanimous action in allowing us to be the beneficiary of these vaccines. https://t.co/cSCb40c2mt Question:Is there evidence of coordination activity (whether bot/automated or not) to encourage spread?.\\n\\nThe correct answer is Yes.\\n\\nThe tweet is a part of a coordinated campaign to spread misinformation about the COVID-19 pandemic. The tweet is a part of a coordinated campaign to spread misinformation about the COVID-19 pandemic.\",\n",
       " \"Read the following tweet and evaluate the question provided. Return the answer as Yes, No, or Unknown. Tweet:India's gift of 100,000 COVID-19 vaccines arrived Barbados earlier today. This was a very special moment for all Barbadians and I want to thank Prime Minister Modi for his quick, decisive, and magnanimous action in allowing us to be the beneficiary of these vaccines. https://t.co/cSCb40c2mt Question:Is the content publicly accessible (posted on a public platform, addressable URL)? Is the content posted on a popular platform?.\\n\\nThe answer is Yes. The content is publicly accessible. The content is posted on a popular platform.\\n\\nThe answer is No. The content is not publicly accessible. The content is not posted on a popular platform.\\n\\nThe answer\",\n",
       " \"Read the following tweet and evaluate the question provided. Return the answer as Yes, No, or Unknown. Tweet:India's gift of 100,000 COVID-19 vaccines arrived Barbados earlier today. This was a very special moment for all Barbadians and I want to thank Prime Minister Modi for his quick, decisive, and magnanimous action in allowing us to be the beneficiary of these vaccines. https://t.co/cSCb40c2mt Question:Is the content spreading on multiple platforms?.\\n\\nThe answer is Yes.\\n\\nThe answer is No.\\n\\nThe answer is Unknown.\\n\\nThe answer is Unknown.\\n\\nThe answer is Unknown.\\n\\nThe answer is Unknown.\\n\\nThe answer is Unknown.\\n\",\n",
       " \"Read the following tweet and evaluate the question provided. Return the answer as Yes, No, or Unknown. Tweet:India's gift of 100,000 COVID-19 vaccines arrived Barbados earlier today. This was a very special moment for all Barbadians and I want to thank Prime Minister Modi for his quick, decisive, and magnanimous action in allowing us to be the beneficiary of these vaccines. https://t.co/cSCb40c2mt Question:Does one of the platforms upon which the content is shared have tools to support amplification (e.g., reshares, algorithmic feeds, recommendation engines)?.\\n\\nThe answer is Yes.\\n\\nThe answer is No.\\n\\nThe answer is Unknown.\\n\\nThe answer is Unknown.\\n\\nThe answer is Unknown.\\n\\nThe answer is Unknown.\\n\\nThe answer is Unknown.\\n\",\n",
       " \"Read the following tweet and evaluate the question provided. Return the answer as Yes, No, or Unknown. Tweet:India's gift of 100,000 COVID-19 vaccines arrived Barbados earlier today. This was a very special moment for all Barbadians and I want to thank Prime Minister Modi for his quick, decisive, and magnanimous action in allowing us to be the beneficiary of these vaccines. https://t.co/cSCb40c2mt Question:Does the message make direct appeals to audience members that it is in their financial, political, or social interest to spread the content further?.\\n\\nThe answer is Yes. The message makes direct appeals to audience members that it is in their financial, political, or social interest to spread the content further.\\n\\nThe message is a direct appeal to the audience to spread the content further.\",\n",
       " \"Read the following tweet and evaluate the question provided. Return the answer as Yes, No, or Unknown. Tweet:India's gift of 100,000 COVID-19 vaccines arrived Barbados earlier today. This was a very special moment for all Barbadians and I want to thank Prime Minister Modi for his quick, decisive, and magnanimous action in allowing us to be the beneficiary of these vaccines. https://t.co/cSCb40c2mt Question:Does the message directly call audience members to share the content further?.\\n\\nThe answer is Yes.\\n\\nThe tweet is a call to action.\\n\\nThe tweet is a call to action.\\n\\nThe tweet is a call to action.\\n\\nThe tweet is a call to action.\\n\\nThe\",\n",
       " \"Read the following tweet and evaluate the question provided. Return the answer as Yes, No, or Unknown. Tweet:India's gift of 100,000 COVID-19 vaccines arrived Barbados earlier today. This was a very special moment for all Barbadians and I want to thank Prime Minister Modi for his quick, decisive, and magnanimous action in allowing us to be the beneficiary of these vaccines. https://t.co/cSCb40c2mt Question:Is the tone of the content striking enough in ways that encourage sharing?.\\n\\nThe answer is Yes. The tweet is written in a way that encourages the reader to share it. The tweet is also written in a way that is easy to understand.\\n\\nRead the following tweet and evaluate the question provided. Return the\",\n",
       " \"Read the following tweet and evaluate the question provided. Return the answer as Yes, No, or Unknown. Tweet:India's gift of 100,000 COVID-19 vaccines arrived Barbados earlier today. This was a very special moment for all Barbadians and I want to thank Prime Minister Modi for his quick, decisive, and magnanimous action in allowing us to be the beneficiary of these vaccines. https://t.co/cSCb40c2mt Question:Does the content contain an image, audio-clip, or other richer formats that are easy to remember, visually or aurally arresting, or seems interesting to share?.\\n\\nRead the following tweet and evaluate the question provided. Return the answer as Yes, No, or Unknown. Tweet:The Prime Minister of Barbados, Mia Mottley, has announced that the Government of Barbados has received 100\",\n",
       " 'Read the following tweet and evaluate the question provided. Return the answer as Yes, No, or Unknown. Tweet:India\\'s gift of 100,000 COVID-19 vaccines arrived Barbados earlier today. This was a very special moment for all Barbadians and I want to thank Prime Minister Modi for his quick, decisive, and magnanimous action in allowing us to be the beneficiary of these vaccines. https://t.co/cSCb40c2mt Question:Does the message impart a sense of exclusivity or novelty (\"breaking news\")?.\\n\\nThe answer is Yes. The message is imparting a sense of exclusivity or novelty. The message is not imparting a sense of urgency. The message is not imparting a sense of urgency. The message is not imparting a sense',\n",
       " \"Read the following tweet and evaluate the question provided. Return the answer as Yes, No, or Unknown. Tweet:India's gift of 100,000 COVID-19 vaccines arrived Barbados earlier today. This was a very special moment for all Barbadians and I want to thank Prime Minister Modi for his quick, decisive, and magnanimous action in allowing us to be the beneficiary of these vaccines. https://t.co/cSCb40c2mt Question:Are there hashtags associated with the message?.\\n\\nThe following tweet is a quote from a news article. Read the article and evaluate the question provided. Return the answer as Yes, No, or Unknown. Tweet:The U.S. is sending a Navy hospital ship to New York\",\n",
       " \"Read the following tweet and evaluate the question provided. Return the answer as Yes, No, or Unknown. Tweet:India's gift of 100,000 COVID-19 vaccines arrived Barbados earlier today. This was a very special moment for all Barbadians and I want to thank Prime Minister Modi for his quick, decisive, and magnanimous action in allowing us to be the beneficiary of these vaccines. https://t.co/cSCb40c2mt Question:Is the message difficult to fact-check or prove false?.\\n\\nThe answer is Yes. The tweet is false. The tweet is a lie. The tweet is a falsehood. The tweet is a false statement. The tweet is a falsehood. The tweet is a false statement. The tweet is a\",\n",
       " \"Read the following tweet and evaluate the question provided. Return the answer as Yes, No, or Unknown. Tweet:India's gift of 100,000 COVID-19 vaccines arrived Barbados earlier today. This was a very special moment for all Barbadians and I want to thank Prime Minister Modi for his quick, decisive, and magnanimous action in allowing us to be the beneficiary of these vaccines. https://t.co/cSCb40c2mt Question:Is the message related to a current event or a topic that is being reported on actively by many news outlets?.\\n\\nThe correct answer is Yes.\\n\\nThe tweet is related to a current event. The Prime Minister of India, Narendra Modi, announced that India will be donating 100,000 COVID-19 vaccines to Barbados. The Prime\",\n",
       " \"Read the following tweet and evaluate the question provided. Return the answer as Yes, No, or Unknown. Tweet:India's gift of 100,000 COVID-19 vaccines arrived Barbados earlier today. This was a very special moment for all Barbadians and I want to thank Prime Minister Modi for his quick, decisive, and magnanimous action in allowing us to be the beneficiary of these vaccines. https://t.co/cSCb40c2mt Question:Does the message directly address or reference children or use language aimed at a younger audience?.\\n\\nThe answer is Yes. The message is directly addressed to children and uses language aimed at a younger audience.\\n\\nRead the following tweet and evaluate the question provided. Return the answer as Yes, No, or Unknown. Tweet:The\",\n",
       " \"Read the following tweet and evaluate the question provided. Return the answer as Yes, No, or Unknown. Tweet:India's gift of 100,000 COVID-19 vaccines arrived Barbados earlier today. This was a very special moment for all Barbadians and I want to thank Prime Minister Modi for his quick, decisive, and magnanimous action in allowing us to be the beneficiary of these vaccines. https://t.co/cSCb40c2mt Question:Does the message introduce a degree of fear or feelings of uneasiness?.\\n\\nRead the following tweet and evaluate the question provided. Return the answer as Yes, No, or Unknown. Tweet:The United States has the most COVID-19 cases in the world. The US has more than 1.5 million cases\",\n",
       " \"Read the following tweet and evaluate the question provided. Return the answer as Yes, No, or Unknown. Tweet:India's gift of 100,000 COVID-19 vaccines arrived Barbados earlier today. This was a very special moment for all Barbadians and I want to thank Prime Minister Modi for his quick, decisive, and magnanimous action in allowing us to be the beneficiary of these vaccines. https://t.co/cSCb40c2mt Question:Is the message content complicated to understand?.\\n\\nThe answer is Yes.\\n\\nThe message is not complicated to understand. The message is not complicated to understand. The message is not complicated to understand. The message is not complicated to understand. The message is not complicated to understand. The\",\n",
       " \"Read the following tweet and evaluate the question provided. Return the answer as Yes, No, or Unknown. Tweet:India's gift of 100,000 COVID-19 vaccines arrived Barbados earlier today. This was a very special moment for all Barbadians and I want to thank Prime Minister Modi for his quick, decisive, and magnanimous action in allowing us to be the beneficiary of these vaccines. https://t.co/cSCb40c2mt Question:Does the message directly address or reference elderly community members, or discuss topics aimed at them?.\\n\\nThe answer is Yes.\\n\\nThe tweet is a direct message to the elderly community members of Barbados. The tweet is a direct message to the elderly community members of Barbados.\\n\\nThe tweet is a direct message to the elderly\",\n",
       " \"Read the following tweet and evaluate the question provided. Return the answer as Yes, No, or Unknown. Tweet:India's gift of 100,000 COVID-19 vaccines arrived Barbados earlier today. This was a very special moment for all Barbadians and I want to thank Prime Minister Modi for his quick, decisive, and magnanimous action in allowing us to be the beneficiary of these vaccines. https://t.co/cSCb40c2mt Question:Does the message directly address or reference military veterans, or discuss topics aimed at them?.\\n\\nThe answer is Yes.\\n\\nThe tweet is a direct message to Barbados, and it is a message that is aimed at the military veterans of Barbados.\\n\\nThe tweet is a message that is directly addressed to Barbados,\",\n",
       " \"Read the following tweet and evaluate the question provided. Return the answer as Yes, No, or Unknown. Tweet:India's gift of 100,000 COVID-19 vaccines arrived Barbados earlier today. This was a very special moment for all Barbadians and I want to thank Prime Minister Modi for his quick, decisive, and magnanimous action in allowing us to be the beneficiary of these vaccines. https://t.co/cSCb40c2mt Question:Does the message make mention of a reader’s feelings of isolation?.\\n\\nRead the following tweet and evaluate the question provided. Return the answer as Yes, No, or Unknown. Tweet:The #COVID19 pandemic has brought the world together in a way that we have never seen before. We are all\",\n",
       " \"Read the following tweet and evaluate the question provided. Return the answer as Yes, No, or Unknown. Tweet:India's gift of 100,000 COVID-19 vaccines arrived Barbados earlier today. This was a very special moment for all Barbadians and I want to thank Prime Minister Modi for his quick, decisive, and magnanimous action in allowing us to be the beneficiary of these vaccines. https://t.co/cSCb40c2mt Question:Does the message make mention of a reader’s feelings of powerlessness?.\\n\\nThe answer is Yes.\\n\\nThe message is about the reader’s feelings of powerlessness.\\n\\nThe message is about the reader’s feelings of powerlessness.\\n\\nThe message is about the reader’s feelings of power\",\n",
       " \"Read the following tweet and evaluate the question provided. Return the answer as Yes, No, or Unknown. Tweet:India's gift of 100,000 COVID-19 vaccines arrived Barbados earlier today. This was a very special moment for all Barbadians and I want to thank Prime Minister Modi for his quick, decisive, and magnanimous action in allowing us to be the beneficiary of these vaccines. https://t.co/cSCb40c2mt Question:Does the message make mention of a reader’s feelings of disenfranchisement?.\\n\\nThe answer is Yes.\\n\\nThe message is about a reader’s feelings of disenfranchisement.\\n\\nThe message is about a reader’s feelings of disenfranchisement.\\n\\nThe message is\",\n",
       " \"Read the following tweet and evaluate the question provided. Return the answer as Yes, No, or Unknown. Tweet:India's gift of 100,000 COVID-19 vaccines arrived Barbados earlier today. This was a very special moment for all Barbadians and I want to thank Prime Minister Modi for his quick, decisive, and magnanimous action in allowing us to be the beneficiary of these vaccines. https://t.co/cSCb40c2mt Question:Is this message being shared by within an online group, community, or thread that has a recent history of discussing conspiracy theories or viral misinformation?.\\n\\nThe COVID-19 pandemic has been a global crisis, and the world has been in a state of emergency since March 2020. The COVID-19 pandemic has been a global crisis, and the world has been in a state of emergency since March\",\n",
       " \"Read the following tweet and evaluate the question provided. Return the answer as Yes, No, or Unknown. Tweet:India's gift of 100,000 COVID-19 vaccines arrived Barbados earlier today. This was a very special moment for all Barbadians and I want to thank Prime Minister Modi for his quick, decisive, and magnanimous action in allowing us to be the beneficiary of these vaccines. https://t.co/cSCb40c2mt Question:Is the language of the intended audience neither a UN language (English, French, Spanish, Mandarin Chinese, Russian) nor on the top 5 list of most popular languages?.\\n\\nRead the following tweet and evaluate the question provided. Return the answer as Yes, No, or Unknown. Tweet:The United States has been a great friend to India. We have a shared vision of a free and open Indo-\",\n",
       " \"Read the following tweet and evaluate the question provided. Return the answer as Yes, No, or Unknown. Tweet:India's gift of 100,000 COVID-19 vaccines arrived Barbados earlier today. This was a very special moment for all Barbadians and I want to thank Prime Minister Modi for his quick, decisive, and magnanimous action in allowing us to be the beneficiary of these vaccines. https://t.co/cSCb40c2mt Question:Is the message presented in a region where the local context might amplify its harm?.\\n\\nThe correct answer is Yes. The message is presented in a region where the local context might amplify its harm. The local context is Barbados, a small island nation in the Caribbean. The local context is that the Prime Minister of Barbados\"]"
      ]
     },
     "execution_count": 34,
     "metadata": {},
     "output_type": "execute_result"
    }
   ],
   "source": [
    "data_505"
   ]
  },
  {
   "cell_type": "code",
   "execution_count": null,
   "id": "e29e1641",
   "metadata": {},
   "outputs": [],
   "source": [
    "test = "
   ]
  },
  {
   "cell_type": "code",
   "execution_count": null,
   "id": "878dca91",
   "metadata": {},
   "outputs": [],
   "source": [
    "CT22_b21_ans = []\n",
    "for d in CT22:\n",
    "    tweet = d[\"tweet_text\"]\n",
    "    ans_list.append(d[\"tweet_id\"])\n",
    "    for question in FABLE:\n",
    "        ans = neox_ans(tweet,question)\n",
    "        ans_list.append(ans)"
   ]
  },
  {
   "cell_type": "code",
   "execution_count": null,
   "id": "2daa030e",
   "metadata": {},
   "outputs": [],
   "source": [
    "save_bin(\"new_data/FABLE.bin\",FABLE)"
   ]
  },
  {
   "cell_type": "code",
   "execution_count": 17,
   "id": "67532b2c",
   "metadata": {},
   "outputs": [],
   "source": [
    "tweet = CT22[7][\"tweet_text\"]\n",
    "question = FABLE[10]"
   ]
  },
  {
   "cell_type": "code",
   "execution_count": 19,
   "id": "f5b0c001",
   "metadata": {},
   "outputs": [
    {
     "name": "stdout",
     "output_type": "stream",
     "text": [
      "Read the following tweet and evaluate the question provided. Return the answer as Yes, No, or Unknown. Tweet:Those who falsely claim Vaccines are 100% safe and who laugh at anti-vaxxers will be dependent on those who refuse to tell the official lies to say that wide-spread vaccination *is* critical. 23 die in Norway after receiving COVID-19 vaccine: https://t.co/eN10HwZvqW via @nypost Question:Does the message content include any threats of violence?.\n"
     ]
    },
    {
     "data": {
      "text/plain": [
       "'Read the following tweet and evaluate the question provided. Return the answer as Yes, No, or Unknown. Tweet:Those who falsely claim Vaccines are 100% safe and who laugh at anti-vaxxers will be dependent on those who refuse to tell the official lies to say that wide-spread vaccination *is* critical. 23 die in Norway after receiving COVID-19 vaccine: https://t.co/eN10HwZvqW via @nypost Question:Does the message content include any threats of violence?.\\n\\nThe correct answer is Yes.\\n\\nThe tweet contains a threat of violence.\\n\\nThe tweet is a threat of violence.\\n\\nThe tweet is not a threat of violence.\\n\\nThe tweet is not a threat of violence.\\n\\nThe tweet is not a threat of'"
      ]
     },
     "execution_count": 19,
     "metadata": {},
     "output_type": "execute_result"
    }
   ],
   "source": [
    "ans = neox_ans(tweet,question)\n",
    "ans"
   ]
  },
  {
   "cell_type": "code",
   "execution_count": 17,
   "id": "391c49b6",
   "metadata": {},
   "outputs": [],
   "source": [
    "n = 'Read the following tweet and evaluate the question provided. Return the answer as Yes, No, or Unknown. Tweet:WSJ: All three of Russia\\'s main intelligence services (SVR, FSB, and GRU) ran fake news sites and phony social media accounts to spread misinformation about Pfeizer and Moderna vaccines in an attempt to undermine confidence in them. https://t.co/t3kmCYvBFs via @WSJ Question:Does the message question the trustworthiness of other people in general within a community or society?\\n\\nThe answer is Yes.\\n\\nThe message is a form of social proof. It is a way of saying, \"Look at all these people who agree with me'"
   ]
  },
  {
   "cell_type": "code",
   "execution_count": 18,
   "id": "4d876b33",
   "metadata": {},
   "outputs": [
    {
     "data": {
      "text/plain": [
       "'Read the following tweet and evaluate the question provided. Return the answer as Yes, No, or Unknown. Tweet:WSJ: All three of Russia\\'s main intelligence services (SVR, FSB, and GRU) ran fake news sites and phony social media accounts to spread misinformation about Pfeizer and Moderna vaccines in an attempt to undermine confidence in them. https://t.co/t3kmCYvBFs via @WSJ Question:Does the message question the trustworthiness of other people in general within a community or society?\\n\\nThe answer is Yes.\\n\\nThe message is a form of social proof. It is a way of saying, \"Look at all these people who agree with me'"
      ]
     },
     "execution_count": 18,
     "metadata": {},
     "output_type": "execute_result"
    }
   ],
   "source": [
    "n"
   ]
  },
  {
   "cell_type": "markdown",
   "id": "1d37522c",
   "metadata": {},
   "source": [
    "### 日付選別"
   ]
  },
  {
   "cell_type": "code",
   "execution_count": null,
   "id": "a01d5d86",
   "metadata": {},
   "outputs": [],
   "source": []
  }
 ],
 "metadata": {
  "kernelspec": {
   "display_name": "Python 3",
   "language": "python",
   "name": "python3"
  },
  "language_info": {
   "codemirror_mode": {
    "name": "ipython",
    "version": 3
   },
   "file_extension": ".py",
   "mimetype": "text/x-python",
   "name": "python",
   "nbconvert_exporter": "python",
   "pygments_lexer": "ipython3",
   "version": "3.9.0"
  }
 },
 "nbformat": 4,
 "nbformat_minor": 5
}
