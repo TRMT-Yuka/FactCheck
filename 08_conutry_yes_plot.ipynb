{
 "cells": [
  {
   "cell_type": "code",
   "execution_count": 1,
   "id": "1da62cd0",
   "metadata": {},
   "outputs": [],
   "source": [
    "import pickle\n",
    "def read_bin(filename):\n",
    "    with open(filename,'rb') as bf:\n",
    "        bin_data = pickle.load(bf)\n",
    "    return bin_data\n",
    "\n",
    "def save_bin(filename,data):\n",
    "    with open(filename,'wb') as bf:\n",
    "        pickle.dump(data,bf)"
   ]
  },
  {
   "cell_type": "code",
   "execution_count": 2,
   "id": "c72e48d2",
   "metadata": {},
   "outputs": [],
   "source": [
    "gpt4_df=read_bin(\"new_data/gpt4_df.bin\")"
   ]
  },
  {
   "cell_type": "code",
   "execution_count": 3,
   "id": "769fc822",
   "metadata": {},
   "outputs": [],
   "source": [
    "FABLE = read_bin(\"new_data/FABLE.bin\")"
   ]
  },
  {
   "cell_type": "code",
   "execution_count": 4,
   "id": "551af70e",
   "metadata": {},
   "outputs": [
    {
     "data": {
      "text/plain": [
       "'Does the message fit into a larger story or argument, for example about how the world works or how people think?'"
      ]
     },
     "execution_count": 4,
     "metadata": {},
     "output_type": "execute_result"
    }
   ],
   "source": [
    "FABLE[0]"
   ]
  },
  {
   "cell_type": "code",
   "execution_count": 5,
   "id": "0a710c97",
   "metadata": {},
   "outputs": [
    {
     "data": {
      "text/html": [
       "<div>\n",
       "<style scoped>\n",
       "    .dataframe tbody tr th:only-of-type {\n",
       "        vertical-align: middle;\n",
       "    }\n",
       "\n",
       "    .dataframe tbody tr th {\n",
       "        vertical-align: top;\n",
       "    }\n",
       "\n",
       "    .dataframe thead th {\n",
       "        text-align: right;\n",
       "    }\n",
       "</style>\n",
       "<table border=\"1\" class=\"dataframe\">\n",
       "  <thead>\n",
       "    <tr style=\"text-align: right;\">\n",
       "      <th></th>\n",
       "      <th>id</th>\n",
       "      <th>datePublished</th>\n",
       "      <th>itemReviewed.datePublished</th>\n",
       "      <th>claimReviewed</th>\n",
       "      <th>author.name</th>\n",
       "      <th>reviewRating.@type</th>\n",
       "      <th>reviewRating.ratingValue</th>\n",
       "      <th>reviewRating.alternateName</th>\n",
       "      <th>date_diff</th>\n",
       "      <th>language</th>\n",
       "    </tr>\n",
       "  </thead>\n",
       "  <tbody>\n",
       "    <tr>\n",
       "      <th>25</th>\n",
       "      <td>75eae0a2-c474-4200-9889-f1f80a83be5e</td>\n",
       "      <td>2024-04-09 00:00:00+00:00</td>\n",
       "      <td>2024-03-27 00:00:00+00:00</td>\n",
       "      <td>Laut ORF-Artikel wurde Siegfried Meryn in eine...</td>\n",
       "      <td>dpa</td>\n",
       "      <td>Rating</td>\n",
       "      <td>NaN</td>\n",
       "      <td>Die angebliche ORF-Webseite wurde gefälscht, d...</td>\n",
       "      <td>13.0</td>\n",
       "      <td>de</td>\n",
       "    </tr>\n",
       "  </tbody>\n",
       "</table>\n",
       "</div>"
      ],
      "text/plain": [
       "                                      id             datePublished  \\\n",
       "25  75eae0a2-c474-4200-9889-f1f80a83be5e 2024-04-09 00:00:00+00:00   \n",
       "\n",
       "   itemReviewed.datePublished  \\\n",
       "25  2024-03-27 00:00:00+00:00   \n",
       "\n",
       "                                        claimReviewed author.name  \\\n",
       "25  Laut ORF-Artikel wurde Siegfried Meryn in eine...         dpa   \n",
       "\n",
       "   reviewRating.@type reviewRating.ratingValue  \\\n",
       "25             Rating                      NaN   \n",
       "\n",
       "                           reviewRating.alternateName  date_diff language  \n",
       "25  Die angebliche ORF-Webseite wurde gefälscht, d...       13.0       de  "
      ]
     },
     "execution_count": 5,
     "metadata": {},
     "output_type": "execute_result"
    }
   ],
   "source": [
    "gpt4_df.head(1)"
   ]
  },
  {
   "cell_type": "code",
   "execution_count": 6,
   "id": "e747f9cf",
   "metadata": {},
   "outputs": [
    {
     "name": "stdout",
     "output_type": "stream",
     "text": [
      "No duplicate IDs found.\n"
     ]
    }
   ],
   "source": [
    "def duplicate_checker(df):\n",
    "    if df['id'].duplicated().any():\n",
    "        print(\"There are duplicate IDs. Here they are:\")\n",
    "        # 重複している行を表示\n",
    "        print(df[df['id'].duplicated(keep=False)])\n",
    "    else:\n",
    "        print(\"No duplicate IDs found.\")\n",
    "        \n",
    "duplicate_checker(gpt4_df)"
   ]
  },
  {
   "cell_type": "code",
   "execution_count": 7,
   "id": "41dc641e",
   "metadata": {},
   "outputs": [
    {
     "data": {
      "text/plain": [
       "6718"
      ]
     },
     "execution_count": 7,
     "metadata": {},
     "output_type": "execute_result"
    }
   ],
   "source": [
    "len(gpt4_df)"
   ]
  },
  {
   "cell_type": "code",
   "execution_count": 8,
   "id": "1b39e406",
   "metadata": {},
   "outputs": [
    {
     "data": {
      "text/plain": [
       "en         3541\n",
       "es          506\n",
       "te          352\n",
       "ta          294\n",
       "de          293\n",
       "pt          234\n",
       "nl          225\n",
       "kn          206\n",
       "unknown     192\n",
       "fr          159\n",
       "hi          156\n",
       "tr          119\n",
       "bn          118\n",
       "ru           92\n",
       "th           56\n",
       "tl           38\n",
       "pl           36\n",
       "he           24\n",
       "gu            9\n",
       "ur            9\n",
       "ar            8\n",
       "ca            7\n",
       "af            5\n",
       "ko            5\n",
       "it            5\n",
       "pa            4\n",
       "id            4\n",
       "zh-tw         3\n",
       "uk            3\n",
       "sv            3\n",
       "sw            2\n",
       "mr            2\n",
       "bg            2\n",
       "cy            1\n",
       "mk            1\n",
       "et            1\n",
       "hr            1\n",
       "ne            1\n",
       "fi            1\n",
       "Name: language, dtype: int64"
      ]
     },
     "execution_count": 8,
     "metadata": {},
     "output_type": "execute_result"
    }
   ],
   "source": [
    "gpt4_df['language'].value_counts()"
   ]
  },
  {
   "cell_type": "code",
   "execution_count": 10,
   "id": "a5ddd69b",
   "metadata": {},
   "outputs": [],
   "source": [
    "# gpt4_df_old = gpt4_df\n",
    "# gpt4_df = gpt4_df_old\n",
    "gpt4_df = gpt4_df[gpt4_df['language'] == 'en']\n",
    "# gpt4_df = gpt4_df_old\n",
    "# gpt4_df = gpt4_df[gpt4_df['language'] == 'es']"
   ]
  },
  {
   "cell_type": "code",
   "execution_count": 12,
   "id": "a0e57f0d",
   "metadata": {},
   "outputs": [],
   "source": [
    "# gpt4_df"
   ]
  },
  {
   "cell_type": "markdown",
   "id": "3a850592",
   "metadata": {},
   "source": [
    "## YES集計ans_dict_fix・描画"
   ]
  },
  {
   "cell_type": "code",
   "execution_count": 13,
   "id": "e5c8db71",
   "metadata": {},
   "outputs": [],
   "source": [
    "gpt4_df_id = list(gpt4_df[\"id\"])\n",
    "gpt4_df_date_diff = list(gpt4_df[\"date_diff\"])\n",
    "CL = list(gpt4_df[\"claimReviewed\"])"
   ]
  },
  {
   "cell_type": "code",
   "execution_count": 14,
   "id": "522bc3d4",
   "metadata": {},
   "outputs": [],
   "source": [
    "CL_d = dict()\n",
    "for i in range(len(gpt4_df_id)):\n",
    "    CL_d[gpt4_df_id[i]] = CL[i]"
   ]
  },
  {
   "cell_type": "code",
   "execution_count": 15,
   "id": "d08606f3",
   "metadata": {},
   "outputs": [],
   "source": [
    "gpt4_df_date_diff_d = dict()\n",
    "\n",
    "for c_id,diff in zip(gpt4_df_id,gpt4_df_date_diff):\n",
    "    gpt4_df_date_diff_d[c_id] = diff"
   ]
  },
  {
   "cell_type": "markdown",
   "id": "36007b9c",
   "metadata": {},
   "source": [
    "## 現時点で取得できた全データを使用して描写"
   ]
  },
  {
   "cell_type": "code",
   "execution_count": 30,
   "id": "2f28743a",
   "metadata": {},
   "outputs": [],
   "source": [
    "ans_d = read_bin(\"new_data/concat_ans_dict/ans_d.bin\")#1405\n",
    "\n",
    "import re\n",
    "pattern = re.compile(r'<answer>(.*?)</answer>', re.IGNORECASE)\n",
    "    \n",
    "sum_yes_l = []\n",
    "diff_l = []\n",
    "for k,v in ans_d.items():\n",
    "    yes_num = 0\n",
    "    if k in gpt4_df_date_diff_d:\n",
    "        diff_l.append(gpt4_df_date_diff_d[k])\n",
    "        for i in range(52):\n",
    "            match = pattern.findall(v[i])\n",
    "            try:\n",
    "                if match[0] == 'Yes':\n",
    "                    yes_num += 1\n",
    "            except:\n",
    "                pass\n",
    "    #             print(match,text)\n",
    "        sum_yes_l.append(yes_num)"
   ]
  },
  {
   "cell_type": "code",
   "execution_count": 31,
   "id": "d763b990",
   "metadata": {},
   "outputs": [
    {
     "data": {
      "image/png": "[encoded data removed]",
      "text/plain": [
       "<Figure size 432x288 with 1 Axes>"
      ]
     },
     "metadata": {
      "needs_background": "light"
     },
     "output_type": "display_data"
    },
    {
     "data": {
      "text/plain": [
       "<Figure size 432x288 with 0 Axes>"
      ]
     },
     "metadata": {},
     "output_type": "display_data"
    }
   ],
   "source": [
    "import matplotlib.pyplot as plt\n",
    "import numpy as np\n",
    "\n",
    "# 散布図の作成\n",
    "threshold = np.percentile(sum_yes_l, 75)\n",
    "# 色を設定（上位30%は赤、それ以外は青）\n",
    "colors = ['red' if val >= threshold else 'blue' for val in sum_yes_l]\n",
    "\n",
    "plt.scatter(diff_l,sum_yes_l,s=10,alpha=0.1,c=colors)\n",
    "\n",
    "# タイトルとラベルの設定\n",
    "# plt.title(\"Scatter Plot Example\")\n",
    "plt.xlabel(\"Days to complete check\")\n",
    "plt.ylabel(\"Sum of Yes responses by LLM\")\n",
    "\n",
    "plt.ylim(0, 15)\n",
    "plt.xlim(0, 80)\n",
    "\n",
    "plt.yticks(np.arange(0, 16, 5))\n",
    "# グラフの表示\n",
    "plt.show()\n",
    "plt.savefig('scatter_plot.png')"
   ]
  },
  {
   "cell_type": "code",
   "execution_count": null,
   "id": "1c9655cd",
   "metadata": {},
   "outputs": [],
   "source": []
  },
  {
   "cell_type": "markdown",
   "id": "adfbb084",
   "metadata": {},
   "source": [
    "## Yes No Unknowe error"
   ]
  },
  {
   "cell_type": "code",
   "execution_count": 334,
   "id": "ffdd6387",
   "metadata": {},
   "outputs": [],
   "source": [
    "ans_d = read_bin(\"new_data/concat_ans_dict/ans_d.bin\")#1405\n",
    "\n",
    "yes = 0\n",
    "no = 0\n",
    "Unknown = 0\n",
    "error = 0\n",
    "\n",
    "import re\n",
    "pattern = re.compile(r'<answer>(.*?)</answer>', re.IGNORECASE)\n",
    "    \n",
    "sum_yes_l = []\n",
    "diff_l = []\n",
    "k_l = []\n",
    "for k,v in ans_d.items():\n",
    "    yes_num = 0\n",
    "    error_TF = False\n",
    "    for i in range(52):\n",
    "        match = pattern.findall(v[i])\n",
    "#         print(match)\n",
    "        if len(match) == 1:\n",
    "            if 'Yes' in match[0] or 'yes' in match[0] or 'YES' in match[0]:\n",
    "#                 print(\"1\")\n",
    "                yes += 1\n",
    "                yes_num += 1\n",
    "            elif 'Unknown' in match[0] or 'unknown' in match[0] or 'UNKNOWN' in match[0]:\n",
    "#                 print(\"13\")\n",
    "                Unknown +=1\n",
    "            elif 'No' in match[0] or 'no' in match[0] or 'NO' in match[0]:\n",
    "#                 print(\"12\")\n",
    "                no +=1\n",
    "            else:\n",
    "#                 print(\"4\")\n",
    "                error +=1\n",
    "                error_TF = True\n",
    "                \n",
    "        else:\n",
    "            error +=1\n",
    "            error_TF = True\n",
    "            \n",
    "    if error_TF == False:\n",
    "        sum_yes_l.append(yes_num)\n",
    "        diff_l.append(gpt4_df_date_diff_d[k])\n",
    "        k_l.append(k)"
   ]
  },
  {
   "cell_type": "code",
   "execution_count": 289,
   "id": "5efdeefc",
   "metadata": {},
   "outputs": [
    {
     "data": {
      "text/plain": [
       "3328"
      ]
     },
     "execution_count": 289,
     "metadata": {},
     "output_type": "execute_result"
    }
   ],
   "source": [
    "yes"
   ]
  },
  {
   "cell_type": "code",
   "execution_count": 290,
   "id": "af1e283b",
   "metadata": {},
   "outputs": [
    {
     "data": {
      "text/plain": [
       "38730"
      ]
     },
     "execution_count": 290,
     "metadata": {},
     "output_type": "execute_result"
    }
   ],
   "source": [
    "no"
   ]
  },
  {
   "cell_type": "code",
   "execution_count": 291,
   "id": "0cd417df",
   "metadata": {},
   "outputs": [
    {
     "data": {
      "text/plain": [
       "30869"
      ]
     },
     "execution_count": 291,
     "metadata": {},
     "output_type": "execute_result"
    }
   ],
   "source": [
    "Unknown"
   ]
  },
  {
   "cell_type": "code",
   "execution_count": 292,
   "id": "e63f1e12",
   "metadata": {},
   "outputs": [
    {
     "data": {
      "text/plain": [
       "133"
      ]
     },
     "execution_count": 292,
     "metadata": {},
     "output_type": "execute_result"
    }
   ],
   "source": [
    "error"
   ]
  },
  {
   "cell_type": "markdown",
   "id": "819364f5",
   "metadata": {},
   "source": [
    "## 多重配列"
   ]
  },
  {
   "cell_type": "code",
   "execution_count": 16,
   "id": "478bae04",
   "metadata": {},
   "outputs": [],
   "source": [
    "ans_d = read_bin(\"new_data/concat_ans_dict/ans_d.bin\")#1405\n",
    "\n",
    "yes = 0\n",
    "no = 0\n",
    "Unknown = 0\n",
    "error = 0\n",
    "\n",
    "import re\n",
    "pattern = re.compile(r'<answer>(.*?)</answer>', re.IGNORECASE)\n",
    "sum_yes_l = []\n",
    "diff_l = []\n",
    "k_l = []\n",
    "for k,v in ans_d.items():\n",
    "    if k in gpt4_df_date_diff_d:\n",
    "        ans_l = []\n",
    "        error_TF = False\n",
    "        for i in range(52):\n",
    "            match = pattern.findall(v[i])\n",
    "    #         print(match)\n",
    "            if len(match) == 1:\n",
    "                if 'Yes' in match[0] or 'yes' in match[0] or 'YES' in match[0]:\n",
    "    #                 print(\"1\")\n",
    "                    ans_l.append(0)\n",
    "                elif 'Unknown' in match[0] or 'unknown' in match[0] or 'UNKNOWN' in match[0]:\n",
    "    #                 print(\"13\")\n",
    "                    ans_l.append(0)\n",
    "                elif 'No' in match[0] or 'no' in match[0] or 'NO' in match[0]:\n",
    "    #                 print(\"12\")\n",
    "                    ans_l.append(-1)\n",
    "                else:\n",
    "                    error_TF = True\n",
    "\n",
    "            else:\n",
    "                error_TF = True\n",
    "\n",
    "        if error_TF == False:\n",
    "            sum_yes_l.append(ans_l)\n",
    "            diff_l.append(gpt4_df_date_diff_d[k])\n",
    "            k_l.append(k)"
   ]
  },
  {
   "cell_type": "code",
   "execution_count": 55,
   "id": "50c59aeb",
   "metadata": {},
   "outputs": [],
   "source": [
    "# sum_yes_l[0:10]"
   ]
  },
  {
   "cell_type": "code",
   "execution_count": 56,
   "id": "42271856",
   "metadata": {},
   "outputs": [],
   "source": [
    "def sum_elements_by_index(nested_lists):\n",
    "    # 各インデックスごとの合計を保持するリストを初期化\n",
    "    max_length = max(len(sublist) for sublist in nested_lists)\n",
    "    sums = [0] * max_length\n",
    "    \n",
    "    # 各リストをループし、対応するインデックスの値を合計\n",
    "    for sublist in nested_lists:\n",
    "        for i, value in enumerate(sublist):\n",
    "            sums[i] += value\n",
    "            \n",
    "    return sums"
   ]
  },
  {
   "cell_type": "code",
   "execution_count": 53,
   "id": "ae1a8570",
   "metadata": {},
   "outputs": [
    {
     "name": "stdout",
     "output_type": "stream",
     "text": [
      "[217, 51, 10, 3, 0, 4, 4, 0, 1, 12, 5, 19, 64, 0, 0, 0, 7, 100, 0, 37, 0, 35, 0, 0, 0, 0, 0, 0, 1, 0, 2, 0, 42, 0, 0, 44, 5, 66, 0, 209, 18, 0, 129, 0, 2, 2, 0, 0, 0, 0, 0, 4]\n"
     ]
    }
   ],
   "source": [
    "# if 'Yes' ans_l.append(1)\n",
    "result_yes = sum_elements_by_index(sum_yes_l)\n",
    "print(result_yes)"
   ]
  },
  {
   "cell_type": "code",
   "execution_count": 57,
   "id": "c8a7ca7e",
   "metadata": {},
   "outputs": [
    {
     "name": "stdout",
     "output_type": "stream",
     "text": [
      "[268, 15, 2, 8, 5, 19, 41, 83, 2, 63, 24, 42, 64, 240, 440, 436, 398, 423, 190, 89, 41, 68, 554, 516, 424, 479, 522, 552, 430, 438, 548, 496, 514, 42, 23, 412, 177, 53, 286, 230, 486, 11, 35, 18, 13, 7, 2, 5, 5, 554, 461, 446]\n"
     ]
    }
   ],
   "source": [
    "# if 'Yes' ans_l.append(1)\n",
    "result_unknown = sum_elements_by_index(sum_yes_l)\n",
    "print(result_unknown)"
   ]
  },
  {
   "cell_type": "code",
   "execution_count": 59,
   "id": "43b1cf19",
   "metadata": {},
   "outputs": [
    {
     "name": "stdout",
     "output_type": "stream",
     "text": [
      "[73, 492, 546, 547, 553, 535, 513, 475, 555, 483, 529, 497, 430, 318, 118, 122, 153, 35, 368, 432, 517, 455, 4, 42, 134, 79, 36, 6, 127, 120, 8, 62, 2, 516, 535, 102, 376, 439, 272, 119, 54, 547, 394, 540, 543, 549, 556, 553, 553, 4, 97, 108]\n"
     ]
    }
   ],
   "source": [
    "result_no = sum_elements_by_index(sum_yes_l)\n",
    "print(result_no)"
   ]
  },
  {
   "cell_type": "code",
   "execution_count": 60,
   "id": "0e4b640c",
   "metadata": {},
   "outputs": [],
   "source": [
    "import matplotlib.pyplot as plt\n",
    "import seaborn as sns"
   ]
  },
  {
   "cell_type": "code",
   "execution_count": 64,
   "id": "4c67b560",
   "metadata": {},
   "outputs": [
    {
     "data": {
      "image/png": "[encoded data removed]",
      "text/plain": [
       "<Figure size 720x36 with 2 Axes>"
      ]
     },
     "metadata": {
      "needs_background": "light"
     },
     "output_type": "display_data"
    }
   ],
   "source": [
    "plt.figure(figsize=(10, 0.5))\n",
    "# sns.heatmap([result_yes], annot=True, cmap='viridis', cbar=True)\n",
    "sns.heatmap([result_yes], annot=True, cmap='viridis', cbar=True, vmin=0, vmax=500)\n",
    "plt.title('Heatmap of Nested Lists')\n",
    "plt.xlabel('Column')\n",
    "plt.ylabel('Row')\n",
    "plt.show()"
   ]
  },
  {
   "cell_type": "code",
   "execution_count": 62,
   "id": "dbcf41c4",
   "metadata": {},
   "outputs": [
    {
     "data": {
      "image/png": "[encoded data removed]",
      "text/plain": [
       "<Figure size 720x36 with 2 Axes>"
      ]
     },
     "metadata": {
      "needs_background": "light"
     },
     "output_type": "display_data"
    }
   ],
   "source": [
    "plt.figure(figsize=(10, 0.5))\n",
    "sns.heatmap([result_unknown], annot=True, cmap='viridis', cbar=True)\n",
    "plt.title('Heatmap of Nested Lists')\n",
    "plt.xlabel('Column')\n",
    "plt.ylabel('Row')\n",
    "plt.show()"
   ]
  },
  {
   "cell_type": "code",
   "execution_count": 63,
   "id": "5eef09e8",
   "metadata": {},
   "outputs": [
    {
     "data": {
      "image/png": "[encoded data removed]",
      "text/plain": [
       "<Figure size 720x36 with 2 Axes>"
      ]
     },
     "metadata": {
      "needs_background": "light"
     },
     "output_type": "display_data"
    }
   ],
   "source": [
    "plt.figure(figsize=(10, 0.5))\n",
    "sns.heatmap([result_no], annot=True, cmap='viridis', cbar=True)\n",
    "plt.title('Heatmap of Nested Lists')\n",
    "plt.xlabel('Column')\n",
    "plt.ylabel('Row')\n",
    "plt.show()"
   ]
  },
  {
   "cell_type": "code",
   "execution_count": 324,
   "id": "d72c601f",
   "metadata": {},
   "outputs": [
    {
     "data": {
      "text/plain": [
       "['Does the poster and/or organization/outlet have a noteworthy number of social media/community followers?',\n",
       " 'Is the content published by an organization/outlet with uncertain editorial control (e.g., is not a recognized news publisher)?',\n",
       " 'Does the poster have credentials that represents some kind of expertise?',\n",
       " 'Is the content posted by an imposter individual or counterfeit outlet that could successfully pass as a different person/account based only upon a quick glance?',\n",
       " 'Does the content have the graphics and styling of a legitimate news agency or mainstream information source?',\n",
       " 'Do the people or entities who are spreading the piece of content have a broad reach (size of following on social media, “influencer,” presence on TV or other news media)?',\n",
       " 'Are the people or entities known to be repeat spreaders of questionable information?',\n",
       " 'Is there evidence of coordination activity (whether bot/automated or not) to encourage spread?',\n",
       " 'Is the content publicly accessible (posted on a public platform, addressable URL)? Is the content posted on a popular platform?',\n",
       " 'Is the content spreading on multiple platforms?',\n",
       " 'Does one of the platforms upon which the content is shared have tools to support amplification (e.g., reshares, algorithmic feeds, recommendation engines)?']"
      ]
     },
     "execution_count": 324,
     "metadata": {},
     "output_type": "execute_result"
    }
   ],
   "source": [
    "FABLE[22:33]"
   ]
  },
  {
   "cell_type": "code",
   "execution_count": 325,
   "id": "a252fbab",
   "metadata": {},
   "outputs": [
    {
     "data": {
      "text/plain": [
       "['Does the direct target or current audience members directly addressed in the message have a recent history of taking actions that cause harm?',\n",
       " 'Is this message associated with/similar to other messages that are also actionable?',\n",
       " 'Is there a lack of high quality information that is publicly accessible and is refuting the message’s claim?',\n",
       " 'Is there a lack of consensus on the part of experts regarding the claim?',\n",
       " 'Does the message fail to include external citations, links, or language about evidence to support its claim?',\n",
       " 'Does the message contain richer formats as part of its evidence that lay people consider to have low falsifiability?',\n",
       " 'Does the message written or communicated in a personal or persuasive tone?',\n",
       " 'Does the message make reference to the broad believability of the claim or topic?',\n",
       " 'Does the message appeal to a specific community identity by mentioning a shared set of values or beliefs?']"
      ]
     },
     "execution_count": 325,
     "metadata": {},
     "output_type": "execute_result"
    }
   ],
   "source": [
    "FABLE[13:22]"
   ]
  },
  {
   "cell_type": "code",
   "execution_count": 333,
   "id": "3637ed76",
   "metadata": {},
   "outputs": [],
   "source": [
    "# sum_yes_l"
   ]
  },
  {
   "cell_type": "code",
   "execution_count": 338,
   "id": "c5c1e153",
   "metadata": {},
   "outputs": [],
   "source": [
    "many = []\n",
    "few = []\n",
    "\n",
    "for i in range(len(sum_yes_l)):\n",
    "    k = k_l[i]\n",
    "    if sum_yes_l[i] > 5:\n",
    "        many.append(CL_d[k])\n",
    "    else:\n",
    "        few.append(CL_d[k])"
   ]
  },
  {
   "cell_type": "code",
   "execution_count": 342,
   "id": "3229c609",
   "metadata": {},
   "outputs": [
    {
     "data": {
      "text/plain": [
       "['Dia primeiro de abril, dia dos bobos, você vai começar a pagar 12% de imposto no pão. E vamos lá que a lista é gigantesca. Ovo era isento, vai pagar 12%. Flores naturais vai pagar 17%. Frutas, verduras e hortaliças 12%. E lá vem os produtos da cesta básica que vai ter o seu valor também aumentado de 7% para 12%. Ai ai, alguém sempre paga a conta e no dia primeiro de abril quem vai pagar a conta somos nós, os palhaços desse governo.”',\n",
       " 'This viral video shows Iran attacking Israel with heavy missiles',\n",
       " 'É hora de dar um basta nessa dor que não passa (...) Cúrcuma Pró mais, receba em 24 horas e pague só na entrega',\n",
       " '日本教授福島雅典調查揭新冠疫苗副作用達201種',\n",
       " 'போதை உச்சத்தில் எறிவிட்டது. தமிழகத்தில் வீரன் செய்யும் வேலை போல… திமுக அரசை திஸ்மிஸ் செய்ய வேண்டும் மக்கள் விரோத திமுக',\n",
       " 'Wir werden für den Rest unseres Lebens in einem offenen Gefängnis sitzen. Man wird kein Benzin- oder Dieselauto mehr fahren dürfen. Wenn man essen will, bekommt man eine SMS mit einem Kalorienkontrollsystem, was man heute essen darf. Wenn man gegen eine dieser Regeln verstößt, wird das Bankkonto eingefroren.',\n",
       " 'Senhor de 63 anos, dono de fazenda no interior do Piauí, mata 09 marginais que tentaram lhe assaltar de novo. Sua fazenda tinha sido assaltada 4 vezes em menos de 2 anos pela mesma quadrilha. Em depoimento para polícia, o fazendeiro disse: \"eu SABIA que eles voltariam, então vendi um trator e COMPREI uma sub metralhadora, porque as armas que eu tinha eles levaram todas, já estava esperando por eles, desta vez porém preparado\". É justo!  \\nQuando o estado não te defende, vc precisa se proteger e zelar por sua própria vida. Meu herói!!!',\n",
       " '- ¿Le representa la Agenda 2030?\\n- Sí\\n- ¿Qué punto le gusta más?\\n- No opino de lo que desconozco\\n\\nUna élite diseña una agenda en un foro privado, no votada por nadie y afín a sus intereses (más económica)..., y la izquierda va y la defiende. Qué triste.',\n",
       " 'கர்நாடகாவில் ரதம் செல்லும் வழியில் ஒரு முஸ்லீம், காரை நிறுத்தி நான் எடுக்க மாட்டேன் என்று கூற, நீண்ட நேரம் காத்திருந்த இந்துக்கள் கடைசியில் காரை தூக்கி குறுக்கே எறிந்தனர்.\\n',\n",
       " 'Mañana darán comienzo las fiestas del Orgullo Republicano 2024, tres días llenos de activismo que culminarán el domingo 14 de abril con un macroconcierto de Ismael Serrano en Orcasitas. Gracias al Ministerio de Memoria Democrática por subvencionarlo y hacerlo posible. ¡Seguimos!\\n']"
      ]
     },
     "execution_count": 342,
     "metadata": {},
     "output_type": "execute_result"
    }
   ],
   "source": [
    "many[:10]"
   ]
  },
  {
   "cell_type": "code",
   "execution_count": 341,
   "id": "d55350e2",
   "metadata": {},
   "outputs": [
    {
     "data": {
      "text/plain": [
       "['কংগ্ৰেছে ‘‘চীনৰ ভয়ত’’ অৰুণাচল প্ৰদেশত প্ৰাৰ্থী থিয় কৰোৱা নাই।',\n",
       " 'ఆంధ్ర లో ప్రతిపక్ష కూటమి సభ్యుల మధ్య గొడవ',\n",
       " 'Indians can cast vote even if their names are not on the voting list',\n",
       " 'Marcela Cubillos no puede postular a ser candidata a alcaldesa de Las Condes',\n",
       " 'Elmalılı Hamdi Yazır’ın Okan Bayülgen’in dedesi olduğu iddiası',\n",
       " 'Buddhist Monk of Mahameunawa Was Attacked By Villagers For Womenizing !!',\n",
       " ' The World Bank predicted that poverty in Sri Lanka will increase in 2024 !!',\n",
       " ' Gemeente probeerde oud Brits echtpaar te dwingen hun huis te verkopen voor asielzoekers.\\n',\n",
       " \"Ces photos montrent la fin d'une rencontre des écologistes à Lausanne.\",\n",
       " 'Das alkoholfreie Weinfest in Schweinfurt findet aus religiösen Gründen statt.']"
      ]
     },
     "execution_count": 341,
     "metadata": {},
     "output_type": "execute_result"
    }
   ],
   "source": [
    "few[:10]"
   ]
  },
  {
   "cell_type": "code",
   "execution_count": 344,
   "id": "d165bb94",
   "metadata": {},
   "outputs": [],
   "source": [
    "ans_d = read_bin(\"new_data/concat_ans_dict/ans_d.bin\")#1405\n",
    "\n",
    "yes = 0\n",
    "no = 0\n",
    "Unknown = 0\n",
    "error = 0\n",
    "\n",
    "import re\n",
    "pattern = re.compile(r'<answer>(.*?)</answer>', re.IGNORECASE)\n",
    "    \n",
    "sum_yes_l = []\n",
    "diff_l = []\n",
    "k_l = []\n",
    "for k,v in ans_d.items():\n",
    "    yes_num = 0\n",
    "    error_TF = False\n",
    "    for i in range(52):\n",
    "        match = pattern.findall(v[i])\n",
    "#         print(match)\n",
    "        if len(match) == 1:\n",
    "            if 'Yes' in match[0] or 'yes' in match[0] or 'YES' in match[0]:\n",
    "#                 print(\"1\")\n",
    "                yes += 1\n",
    "                yes_num += 1\n",
    "            elif 'Unknown' in match[0] or 'unknown' in match[0] or 'UNKNOWN' in match[0]:\n",
    "#                 print(\"13\")\n",
    "                Unknown +=1\n",
    "            elif 'No' in match[0] or 'no' in match[0] or 'NO' in match[0]:\n",
    "#                 print(\"12\")\n",
    "                no +=1\n",
    "            else:\n",
    "#                 print(\"4\")\n",
    "                error +=1\n",
    "                error_TF = True\n",
    "                \n",
    "        else:\n",
    "            error +=1\n",
    "            error_TF = True\n",
    "            \n",
    "    if error_TF == False:\n",
    "        sum_yes_l.append(yes_num)\n",
    "        diff_l.append(gpt4_df_date_diff_d[k])\n",
    "        k_l.append(k)"
   ]
  },
  {
   "cell_type": "code",
   "execution_count": 360,
   "id": "93d1e006",
   "metadata": {},
   "outputs": [
    {
     "data": {
      "image/png": "[encoded data removed]",
      "text/plain": [
       "<Figure size 432x288 with 1 Axes>"
      ]
     },
     "metadata": {
      "needs_background": "light"
     },
     "output_type": "display_data"
    }
   ],
   "source": [
    "third_quartile = np.percentile(sum_yes_l, 75)\n",
    "\n",
    "# グループ分け\n",
    "\n",
    "group1_diff_l = [diff for sum_yes, diff in zip(sum_yes_l, diff_l) if sum_yes > third_quartile]\n",
    "group2_diff_l = [diff for sum_yes, diff in zip(sum_yes_l, diff_l) if sum_yes <= third_quartile]\n",
    "\n",
    "# データフレームの作成\n",
    "import pandas as pd\n",
    "\n",
    "data = {\n",
    "    'diff_l': group1_diff_l + group2_diff_l,\n",
    "    'Group': ['Top 25%'] * len(group1_diff_l) + ['Bottom 75%'] * len(group2_diff_l)\n",
    "}\n",
    "\n",
    "df = pd.DataFrame(data)\n",
    "\n",
    "# バイオリンプロットの作成\n",
    "plt.figure(figsize=(6, 4))\n",
    "sns.violinplot(x='Group', y='diff_l', data=df,palette={'Top 25%': 'red', 'Bottom 75%': 'blue'})\n",
    "# plt.title('Violin Plot of diff_l by Group')\n",
    "plt.xlabel('Total number of Yes')\n",
    "plt.ylabel('Days to complete check')\n",
    "plt.show()"
   ]
  },
  {
   "cell_type": "code",
   "execution_count": null,
   "id": "490dcbee",
   "metadata": {},
   "outputs": [],
   "source": [
    "import matplotlib.pyplot as plt\n",
    "import numpy as np\n",
    "\n",
    "# 散布図の作成\n",
    "threshold = np.percentile(sum_yes_l, sikii)\n",
    "# 色を設定（上位30%は赤、それ以外は青）\n",
    "colors = ['red' if val >= threshold else 'blue' for val in sum_yes_l]\n",
    "\n",
    "plt.scatter(diff_l,sum_yes_l,s=10,alpha=0.1,c=colors)\n",
    "\n",
    "# タイトルとラベルの設定\n",
    "# plt.title(\"Scatter Plot Example\")\n",
    "plt.xlabel(\"Days while fact-checking\")\n",
    "plt.ylabel(\"Sum of Yes responses by LLM\")\n",
    "\n",
    "plt.ylim(0, 15)\n",
    "plt.xlim(0, 80)\n",
    "\n",
    "plt.yticks(np.arange(0, 16, 5))\n",
    "# グラフの表示\n",
    "plt.show()\n",
    "# plt.savefig('scatter_plot.png')"
   ]
  },
  {
   "cell_type": "markdown",
   "id": "d508ccd0",
   "metadata": {},
   "source": [
    "## 線形モデル"
   ]
  },
  {
   "cell_type": "code",
   "execution_count": 32,
   "id": "16a6ff8b",
   "metadata": {},
   "outputs": [],
   "source": [
    "ans_d = read_bin(\"new_data/concat_ans_dict/ans_d.bin\")#1405\n",
    "\n",
    "yes = 0\n",
    "no = 0\n",
    "Unknown = 0\n",
    "error = 0\n",
    "\n",
    "import re\n",
    "pattern = re.compile(r'<answer>(.*?)</answer>', re.IGNORECASE)\n",
    "ans_3 = []\n",
    "diff_l = []\n",
    "k_l = []\n",
    "for k,v in ans_d.items():\n",
    "    if k in gpt4_df_date_diff_d:\n",
    "        ans_l = []\n",
    "        error_TF = False\n",
    "        for i in range(52):\n",
    "            match = pattern.findall(v[i])\n",
    "    #         print(match)\n",
    "            if len(match) == 1:\n",
    "                if 'Yes' in match[0] or 'yes' in match[0] or 'YES' in match[0]:\n",
    "    #                 print(\"1\")\n",
    "                    ans_l.append(1)\n",
    "                elif 'Unknown' in match[0] or 'unknown' in match[0] or 'UNKNOWN' in match[0]:\n",
    "    #                 print(\"13\")\n",
    "                    ans_l.append(0)\n",
    "                elif 'No' in match[0] or 'no' in match[0] or 'NO' in match[0]:\n",
    "    #                 print(\"12\")\n",
    "                    ans_l.append(-1)\n",
    "                else:\n",
    "                    error_TF = True\n",
    "\n",
    "            else:\n",
    "                error_TF = True\n",
    "\n",
    "        if error_TF == False:\n",
    "            ans_3.append(ans_l)\n",
    "            diff_l.append(gpt4_df_date_diff_d[k])\n",
    "            k_l.append(k)"
   ]
  },
  {
   "cell_type": "code",
   "execution_count": 30,
   "id": "40b55386",
   "metadata": {},
   "outputs": [],
   "source": [
    "# import numpy as np\n",
    "# from sklearn.model_selection import train_test_split\n",
    "# from sklearn.linear_model import LinearRegression\n",
    "# from sklearn.ensemble import RandomForestRegressor\n",
    "# from sklearn.svm import SVR\n",
    "# from sklearn.neighbors import KNeighborsRegressor\n",
    "# from sklearn.metrics import mean_squared_error, r2_score"
   ]
  },
  {
   "cell_type": "code",
   "execution_count": 34,
   "id": "8b33c0ac",
   "metadata": {},
   "outputs": [
    {
     "name": "stdout",
     "output_type": "stream",
     "text": [
      "Linear Regression - MSE: 204.8263, R^2: -0.0418\n",
      "Random Forest Regressor - MSE: 223.9658, R^2: -0.1392\n",
      "Support Vector Regressor - MSE: 223.6453, R^2: -0.1376\n",
      "K-Nearest Neighbors Regressor - MSE: 231.2638, R^2: -0.1763\n"
     ]
    }
   ],
   "source": [
    "X_train, X_test, y_train, y_test = train_test_split(ans_3, diff_l, test_size=0.2, random_state=42)\n",
    "\n",
    "models = {\n",
    "    \"Linear Regression\": LinearRegression(),\n",
    "    \"Random Forest Regressor\": RandomForestRegressor(n_estimators=100, random_state=42),\n",
    "    \"Support Vector Regressor\": SVR(),\n",
    "    \"K-Nearest Neighbors Regressor\": KNeighborsRegressor(n_neighbors=5)\n",
    "}\n",
    "\n",
    "for name, model in models.items():\n",
    "    model.fit(X_train, y_train)\n",
    "    y_pred = model.predict(X_test)\n",
    "    \n",
    "    mse = mean_squared_error(y_test, y_pred)\n",
    "    r2 = r2_score(y_test, y_pred)\n",
    "    \n",
    "    print(f\"{name} - MSE: {mse:.4f}, R^2: {r2:.4f}\")"
   ]
  },
  {
   "cell_type": "code",
   "execution_count": 46,
   "id": "6f1a03ec",
   "metadata": {},
   "outputs": [],
   "source": [
    "# LDAは無理か\n",
    "# BERT or LLM\n",
    "# 団体ごとに分けて分析\n",
    "# なぜ新しい団体を作成している → 色が出るという仮説は成り立たない\n",
    "\n",
    "# 実際にファクトチェックを進めてみればいい\n",
    "# どのようなトピックが危ないのかの嗅覚はふわっとしたもの\n",
    "# 広義の政治\n",
    "# 手動での判定と比較してみる　日数がながいもの短いものを意図的にサンプリング"
   ]
  },
  {
   "cell_type": "code",
   "execution_count": null,
   "id": "24f85528",
   "metadata": {},
   "outputs": [],
   "source": []
  },
  {
   "cell_type": "code",
   "execution_count": 43,
   "id": "e9b2a210",
   "metadata": {},
   "outputs": [
    {
     "name": "stdout",
     "output_type": "stream",
     "text": [
      "Requirement already satisfied: scipy in c:\\users\\teramoto\\appdata\\local\\programs\\python\\python39\\lib\\site-packages (1.13.1)\n",
      "Requirement already satisfied: numpy<2.3,>=1.22.4 in c:\\users\\teramoto\\appdata\\local\\programs\\python\\python39\\lib\\site-packages (from scipy) (1.26.4)\n"
     ]
    },
    {
     "name": "stderr",
     "output_type": "stream",
     "text": [
      "\n",
      "[notice] A new release of pip is available: 24.0 -> 24.2\n",
      "[notice] To update, run: python.exe -m pip install --upgrade pip\n"
     ]
    }
   ],
   "source": [
    "!pip install --upgrade scipy"
   ]
  },
  {
   "cell_type": "code",
   "execution_count": 42,
   "id": "007c4767",
   "metadata": {},
   "outputs": [
    {
     "ename": "ImportError",
     "evalue": "cannot import name 'triu' from 'scipy.linalg.special_matrices' (c:\\users\\teramoto\\appdata\\local\\programs\\python\\python39\\lib\\site-packages\\scipy\\linalg\\special_matrices.py)",
     "output_type": "error",
     "traceback": [
      "\u001b[1;31m---------------------------------------------------------------------------\u001b[0m",
      "\u001b[1;31mImportError\u001b[0m                               Traceback (most recent call last)",
      "\u001b[1;32m<ipython-input-42-1c772d9a9b3f>\u001b[0m in \u001b[0;36m<module>\u001b[1;34m\u001b[0m\n\u001b[0;32m      1\u001b[0m \u001b[1;32mimport\u001b[0m \u001b[0mre\u001b[0m\u001b[1;33m\u001b[0m\u001b[1;33m\u001b[0m\u001b[0m\n\u001b[0;32m      2\u001b[0m \u001b[1;32mimport\u001b[0m \u001b[0mnumpy\u001b[0m \u001b[1;32mas\u001b[0m \u001b[0mnp\u001b[0m\u001b[1;33m\u001b[0m\u001b[1;33m\u001b[0m\u001b[0m\n\u001b[1;32m----> 3\u001b[1;33m \u001b[1;32mimport\u001b[0m \u001b[0mgensim\u001b[0m\u001b[1;33m\u001b[0m\u001b[1;33m\u001b[0m\u001b[0m\n\u001b[0m\u001b[0;32m      4\u001b[0m \u001b[1;32mimport\u001b[0m \u001b[0mgensim\u001b[0m\u001b[1;33m.\u001b[0m\u001b[0mcorpora\u001b[0m \u001b[1;32mas\u001b[0m \u001b[0mcorpora\u001b[0m\u001b[1;33m\u001b[0m\u001b[1;33m\u001b[0m\u001b[0m\n\u001b[0;32m      5\u001b[0m \u001b[1;32mfrom\u001b[0m \u001b[0mgensim\u001b[0m\u001b[1;33m.\u001b[0m\u001b[0mmodels\u001b[0m \u001b[1;32mimport\u001b[0m \u001b[0mCoherenceModel\u001b[0m\u001b[1;33m\u001b[0m\u001b[1;33m\u001b[0m\u001b[0m\n",
      "\u001b[1;32mc:\\users\\teramoto\\appdata\\local\\programs\\python\\python39\\lib\\site-packages\\gensim\\__init__.py\u001b[0m in \u001b[0;36m<module>\u001b[1;34m\u001b[0m\n\u001b[0;32m      9\u001b[0m \u001b[1;32mimport\u001b[0m \u001b[0mlogging\u001b[0m\u001b[1;33m\u001b[0m\u001b[1;33m\u001b[0m\u001b[0m\n\u001b[0;32m     10\u001b[0m \u001b[1;33m\u001b[0m\u001b[0m\n\u001b[1;32m---> 11\u001b[1;33m \u001b[1;32mfrom\u001b[0m \u001b[0mgensim\u001b[0m \u001b[1;32mimport\u001b[0m \u001b[0mparsing\u001b[0m\u001b[1;33m,\u001b[0m \u001b[0mcorpora\u001b[0m\u001b[1;33m,\u001b[0m \u001b[0mmatutils\u001b[0m\u001b[1;33m,\u001b[0m \u001b[0minterfaces\u001b[0m\u001b[1;33m,\u001b[0m \u001b[0mmodels\u001b[0m\u001b[1;33m,\u001b[0m \u001b[0msimilarities\u001b[0m\u001b[1;33m,\u001b[0m \u001b[0mutils\u001b[0m  \u001b[1;31m# noqa:F401\u001b[0m\u001b[1;33m\u001b[0m\u001b[1;33m\u001b[0m\u001b[0m\n\u001b[0m\u001b[0;32m     12\u001b[0m \u001b[1;33m\u001b[0m\u001b[0m\n\u001b[0;32m     13\u001b[0m \u001b[1;33m\u001b[0m\u001b[0m\n",
      "\u001b[1;32mc:\\users\\teramoto\\appdata\\local\\programs\\python\\python39\\lib\\site-packages\\gensim\\corpora\\__init__.py\u001b[0m in \u001b[0;36m<module>\u001b[1;34m\u001b[0m\n\u001b[0;32m      4\u001b[0m \u001b[1;33m\u001b[0m\u001b[0m\n\u001b[0;32m      5\u001b[0m \u001b[1;31m# bring corpus classes directly into package namespace, to save some typing\u001b[0m\u001b[1;33m\u001b[0m\u001b[1;33m\u001b[0m\u001b[1;33m\u001b[0m\u001b[0m\n\u001b[1;32m----> 6\u001b[1;33m \u001b[1;32mfrom\u001b[0m \u001b[1;33m.\u001b[0m\u001b[0mindexedcorpus\u001b[0m \u001b[1;32mimport\u001b[0m \u001b[0mIndexedCorpus\u001b[0m  \u001b[1;31m# noqa:F401 must appear before the other classes\u001b[0m\u001b[1;33m\u001b[0m\u001b[1;33m\u001b[0m\u001b[0m\n\u001b[0m\u001b[0;32m      7\u001b[0m \u001b[1;33m\u001b[0m\u001b[0m\n\u001b[0;32m      8\u001b[0m \u001b[1;32mfrom\u001b[0m \u001b[1;33m.\u001b[0m\u001b[0mmmcorpus\u001b[0m \u001b[1;32mimport\u001b[0m \u001b[0mMmCorpus\u001b[0m  \u001b[1;31m# noqa:F401\u001b[0m\u001b[1;33m\u001b[0m\u001b[1;33m\u001b[0m\u001b[0m\n",
      "\u001b[1;32mc:\\users\\teramoto\\appdata\\local\\programs\\python\\python39\\lib\\site-packages\\gensim\\corpora\\indexedcorpus.py\u001b[0m in \u001b[0;36m<module>\u001b[1;34m\u001b[0m\n\u001b[0;32m     12\u001b[0m \u001b[1;32mimport\u001b[0m \u001b[0mnumpy\u001b[0m\u001b[1;33m\u001b[0m\u001b[1;33m\u001b[0m\u001b[0m\n\u001b[0;32m     13\u001b[0m \u001b[1;33m\u001b[0m\u001b[0m\n\u001b[1;32m---> 14\u001b[1;33m \u001b[1;32mfrom\u001b[0m \u001b[0mgensim\u001b[0m \u001b[1;32mimport\u001b[0m \u001b[0minterfaces\u001b[0m\u001b[1;33m,\u001b[0m \u001b[0mutils\u001b[0m\u001b[1;33m\u001b[0m\u001b[1;33m\u001b[0m\u001b[0m\n\u001b[0m\u001b[0;32m     15\u001b[0m \u001b[1;33m\u001b[0m\u001b[0m\n\u001b[0;32m     16\u001b[0m \u001b[0mlogger\u001b[0m \u001b[1;33m=\u001b[0m \u001b[0mlogging\u001b[0m\u001b[1;33m.\u001b[0m\u001b[0mgetLogger\u001b[0m\u001b[1;33m(\u001b[0m\u001b[0m__name__\u001b[0m\u001b[1;33m)\u001b[0m\u001b[1;33m\u001b[0m\u001b[1;33m\u001b[0m\u001b[0m\n",
      "\u001b[1;32mc:\\users\\teramoto\\appdata\\local\\programs\\python\\python39\\lib\\site-packages\\gensim\\interfaces.py\u001b[0m in \u001b[0;36m<module>\u001b[1;34m\u001b[0m\n\u001b[0;32m     17\u001b[0m \u001b[1;32mimport\u001b[0m \u001b[0mlogging\u001b[0m\u001b[1;33m\u001b[0m\u001b[1;33m\u001b[0m\u001b[0m\n\u001b[0;32m     18\u001b[0m \u001b[1;33m\u001b[0m\u001b[0m\n\u001b[1;32m---> 19\u001b[1;33m \u001b[1;32mfrom\u001b[0m \u001b[0mgensim\u001b[0m \u001b[1;32mimport\u001b[0m \u001b[0mutils\u001b[0m\u001b[1;33m,\u001b[0m \u001b[0mmatutils\u001b[0m\u001b[1;33m\u001b[0m\u001b[1;33m\u001b[0m\u001b[0m\n\u001b[0m\u001b[0;32m     20\u001b[0m \u001b[1;33m\u001b[0m\u001b[0m\n\u001b[0;32m     21\u001b[0m \u001b[1;33m\u001b[0m\u001b[0m\n",
      "\u001b[1;32mc:\\users\\teramoto\\appdata\\local\\programs\\python\\python39\\lib\\site-packages\\gensim\\matutils.py\u001b[0m in \u001b[0;36m<module>\u001b[1;34m\u001b[0m\n\u001b[0;32m     20\u001b[0m \u001b[1;32mimport\u001b[0m \u001b[0mscipy\u001b[0m\u001b[1;33m.\u001b[0m\u001b[0mlinalg\u001b[0m\u001b[1;33m\u001b[0m\u001b[1;33m\u001b[0m\u001b[0m\n\u001b[0;32m     21\u001b[0m \u001b[1;32mfrom\u001b[0m \u001b[0mscipy\u001b[0m\u001b[1;33m.\u001b[0m\u001b[0mlinalg\u001b[0m\u001b[1;33m.\u001b[0m\u001b[0mlapack\u001b[0m \u001b[1;32mimport\u001b[0m \u001b[0mget_lapack_funcs\u001b[0m\u001b[1;33m\u001b[0m\u001b[1;33m\u001b[0m\u001b[0m\n\u001b[1;32m---> 22\u001b[1;33m \u001b[1;32mfrom\u001b[0m \u001b[0mscipy\u001b[0m\u001b[1;33m.\u001b[0m\u001b[0mlinalg\u001b[0m\u001b[1;33m.\u001b[0m\u001b[0mspecial_matrices\u001b[0m \u001b[1;32mimport\u001b[0m \u001b[0mtriu\u001b[0m\u001b[1;33m\u001b[0m\u001b[1;33m\u001b[0m\u001b[0m\n\u001b[0m\u001b[0;32m     23\u001b[0m \u001b[1;32mfrom\u001b[0m \u001b[0mscipy\u001b[0m\u001b[1;33m.\u001b[0m\u001b[0mspecial\u001b[0m \u001b[1;32mimport\u001b[0m \u001b[0mpsi\u001b[0m  \u001b[1;31m# gamma function utils\u001b[0m\u001b[1;33m\u001b[0m\u001b[1;33m\u001b[0m\u001b[0m\n\u001b[0;32m     24\u001b[0m \u001b[1;33m\u001b[0m\u001b[0m\n",
      "\u001b[1;31mImportError\u001b[0m: cannot import name 'triu' from 'scipy.linalg.special_matrices' (c:\\users\\teramoto\\appdata\\local\\programs\\python\\python39\\lib\\site-packages\\scipy\\linalg\\special_matrices.py)"
     ]
    }
   ],
   "source": [
    "import re\n",
    "import numpy as np\n",
    "import gensim\n",
    "import gensim.corpora as corpora\n",
    "from gensim.models import CoherenceModel\n",
    "from sklearn.feature_extraction.text import CountVectorizer\n",
    "from nltk.corpus import stopwords\n",
    "from nltk.stem import WordNetLemmatizer"
   ]
  },
  {
   "cell_type": "code",
   "execution_count": 38,
   "id": "e894441c",
   "metadata": {},
   "outputs": [],
   "source": [
    "import numpy as np\n",
    "triu = np.triu"
   ]
  },
  {
   "cell_type": "code",
   "execution_count": 37,
   "id": "3fe8ce0b",
   "metadata": {},
   "outputs": [
    {
     "ename": "ImportError",
     "evalue": "cannot import name 'triu' from 'scipy.linalg.special_matrices' (c:\\users\\teramoto\\appdata\\local\\programs\\python\\python39\\lib\\site-packages\\scipy\\linalg\\special_matrices.py)",
     "output_type": "error",
     "traceback": [
      "\u001b[1;31m---------------------------------------------------------------------------\u001b[0m",
      "\u001b[1;31mImportError\u001b[0m                               Traceback (most recent call last)",
      "\u001b[1;32m<ipython-input-37-bddca4e6d278>\u001b[0m in \u001b[0;36m<module>\u001b[1;34m\u001b[0m\n\u001b[0;32m      1\u001b[0m \u001b[1;32mimport\u001b[0m \u001b[0mre\u001b[0m\u001b[1;33m\u001b[0m\u001b[1;33m\u001b[0m\u001b[0m\n\u001b[0;32m      2\u001b[0m \u001b[1;32mimport\u001b[0m \u001b[0mnumpy\u001b[0m \u001b[1;32mas\u001b[0m \u001b[0mnp\u001b[0m\u001b[1;33m\u001b[0m\u001b[1;33m\u001b[0m\u001b[0m\n\u001b[1;32m----> 3\u001b[1;33m \u001b[1;32mimport\u001b[0m \u001b[0mgensim\u001b[0m\u001b[1;33m\u001b[0m\u001b[1;33m\u001b[0m\u001b[0m\n\u001b[0m\u001b[0;32m      4\u001b[0m \u001b[1;32mimport\u001b[0m \u001b[0mgensim\u001b[0m\u001b[1;33m.\u001b[0m\u001b[0mcorpora\u001b[0m \u001b[1;32mas\u001b[0m \u001b[0mcorpora\u001b[0m\u001b[1;33m\u001b[0m\u001b[1;33m\u001b[0m\u001b[0m\n\u001b[0;32m      5\u001b[0m \u001b[1;32mfrom\u001b[0m \u001b[0mgensim\u001b[0m\u001b[1;33m.\u001b[0m\u001b[0mmodels\u001b[0m \u001b[1;32mimport\u001b[0m \u001b[0mCoherenceModel\u001b[0m\u001b[1;33m\u001b[0m\u001b[1;33m\u001b[0m\u001b[0m\n",
      "\u001b[1;32mc:\\users\\teramoto\\appdata\\local\\programs\\python\\python39\\lib\\site-packages\\gensim\\__init__.py\u001b[0m in \u001b[0;36m<module>\u001b[1;34m\u001b[0m\n\u001b[0;32m      9\u001b[0m \u001b[1;32mimport\u001b[0m \u001b[0mlogging\u001b[0m\u001b[1;33m\u001b[0m\u001b[1;33m\u001b[0m\u001b[0m\n\u001b[0;32m     10\u001b[0m \u001b[1;33m\u001b[0m\u001b[0m\n\u001b[1;32m---> 11\u001b[1;33m \u001b[1;32mfrom\u001b[0m \u001b[0mgensim\u001b[0m \u001b[1;32mimport\u001b[0m \u001b[0mparsing\u001b[0m\u001b[1;33m,\u001b[0m \u001b[0mcorpora\u001b[0m\u001b[1;33m,\u001b[0m \u001b[0mmatutils\u001b[0m\u001b[1;33m,\u001b[0m \u001b[0minterfaces\u001b[0m\u001b[1;33m,\u001b[0m \u001b[0mmodels\u001b[0m\u001b[1;33m,\u001b[0m \u001b[0msimilarities\u001b[0m\u001b[1;33m,\u001b[0m \u001b[0mutils\u001b[0m  \u001b[1;31m# noqa:F401\u001b[0m\u001b[1;33m\u001b[0m\u001b[1;33m\u001b[0m\u001b[0m\n\u001b[0m\u001b[0;32m     12\u001b[0m \u001b[1;33m\u001b[0m\u001b[0m\n\u001b[0;32m     13\u001b[0m \u001b[1;33m\u001b[0m\u001b[0m\n",
      "\u001b[1;32mc:\\users\\teramoto\\appdata\\local\\programs\\python\\python39\\lib\\site-packages\\gensim\\corpora\\__init__.py\u001b[0m in \u001b[0;36m<module>\u001b[1;34m\u001b[0m\n\u001b[0;32m      4\u001b[0m \u001b[1;33m\u001b[0m\u001b[0m\n\u001b[0;32m      5\u001b[0m \u001b[1;31m# bring corpus classes directly into package namespace, to save some typing\u001b[0m\u001b[1;33m\u001b[0m\u001b[1;33m\u001b[0m\u001b[1;33m\u001b[0m\u001b[0m\n\u001b[1;32m----> 6\u001b[1;33m \u001b[1;32mfrom\u001b[0m \u001b[1;33m.\u001b[0m\u001b[0mindexedcorpus\u001b[0m \u001b[1;32mimport\u001b[0m \u001b[0mIndexedCorpus\u001b[0m  \u001b[1;31m# noqa:F401 must appear before the other classes\u001b[0m\u001b[1;33m\u001b[0m\u001b[1;33m\u001b[0m\u001b[0m\n\u001b[0m\u001b[0;32m      7\u001b[0m \u001b[1;33m\u001b[0m\u001b[0m\n\u001b[0;32m      8\u001b[0m \u001b[1;32mfrom\u001b[0m \u001b[1;33m.\u001b[0m\u001b[0mmmcorpus\u001b[0m \u001b[1;32mimport\u001b[0m \u001b[0mMmCorpus\u001b[0m  \u001b[1;31m# noqa:F401\u001b[0m\u001b[1;33m\u001b[0m\u001b[1;33m\u001b[0m\u001b[0m\n",
      "\u001b[1;32mc:\\users\\teramoto\\appdata\\local\\programs\\python\\python39\\lib\\site-packages\\gensim\\corpora\\indexedcorpus.py\u001b[0m in \u001b[0;36m<module>\u001b[1;34m\u001b[0m\n\u001b[0;32m     12\u001b[0m \u001b[1;32mimport\u001b[0m \u001b[0mnumpy\u001b[0m\u001b[1;33m\u001b[0m\u001b[1;33m\u001b[0m\u001b[0m\n\u001b[0;32m     13\u001b[0m \u001b[1;33m\u001b[0m\u001b[0m\n\u001b[1;32m---> 14\u001b[1;33m \u001b[1;32mfrom\u001b[0m \u001b[0mgensim\u001b[0m \u001b[1;32mimport\u001b[0m \u001b[0minterfaces\u001b[0m\u001b[1;33m,\u001b[0m \u001b[0mutils\u001b[0m\u001b[1;33m\u001b[0m\u001b[1;33m\u001b[0m\u001b[0m\n\u001b[0m\u001b[0;32m     15\u001b[0m \u001b[1;33m\u001b[0m\u001b[0m\n\u001b[0;32m     16\u001b[0m \u001b[0mlogger\u001b[0m \u001b[1;33m=\u001b[0m \u001b[0mlogging\u001b[0m\u001b[1;33m.\u001b[0m\u001b[0mgetLogger\u001b[0m\u001b[1;33m(\u001b[0m\u001b[0m__name__\u001b[0m\u001b[1;33m)\u001b[0m\u001b[1;33m\u001b[0m\u001b[1;33m\u001b[0m\u001b[0m\n",
      "\u001b[1;32mc:\\users\\teramoto\\appdata\\local\\programs\\python\\python39\\lib\\site-packages\\gensim\\interfaces.py\u001b[0m in \u001b[0;36m<module>\u001b[1;34m\u001b[0m\n\u001b[0;32m     17\u001b[0m \u001b[1;32mimport\u001b[0m \u001b[0mlogging\u001b[0m\u001b[1;33m\u001b[0m\u001b[1;33m\u001b[0m\u001b[0m\n\u001b[0;32m     18\u001b[0m \u001b[1;33m\u001b[0m\u001b[0m\n\u001b[1;32m---> 19\u001b[1;33m \u001b[1;32mfrom\u001b[0m \u001b[0mgensim\u001b[0m \u001b[1;32mimport\u001b[0m \u001b[0mutils\u001b[0m\u001b[1;33m,\u001b[0m \u001b[0mmatutils\u001b[0m\u001b[1;33m\u001b[0m\u001b[1;33m\u001b[0m\u001b[0m\n\u001b[0m\u001b[0;32m     20\u001b[0m \u001b[1;33m\u001b[0m\u001b[0m\n\u001b[0;32m     21\u001b[0m \u001b[1;33m\u001b[0m\u001b[0m\n",
      "\u001b[1;32mc:\\users\\teramoto\\appdata\\local\\programs\\python\\python39\\lib\\site-packages\\gensim\\matutils.py\u001b[0m in \u001b[0;36m<module>\u001b[1;34m\u001b[0m\n\u001b[0;32m     20\u001b[0m \u001b[1;32mimport\u001b[0m \u001b[0mscipy\u001b[0m\u001b[1;33m.\u001b[0m\u001b[0mlinalg\u001b[0m\u001b[1;33m\u001b[0m\u001b[1;33m\u001b[0m\u001b[0m\n\u001b[0;32m     21\u001b[0m \u001b[1;32mfrom\u001b[0m \u001b[0mscipy\u001b[0m\u001b[1;33m.\u001b[0m\u001b[0mlinalg\u001b[0m\u001b[1;33m.\u001b[0m\u001b[0mlapack\u001b[0m \u001b[1;32mimport\u001b[0m \u001b[0mget_lapack_funcs\u001b[0m\u001b[1;33m\u001b[0m\u001b[1;33m\u001b[0m\u001b[0m\n\u001b[1;32m---> 22\u001b[1;33m \u001b[1;32mfrom\u001b[0m \u001b[0mscipy\u001b[0m\u001b[1;33m.\u001b[0m\u001b[0mlinalg\u001b[0m\u001b[1;33m.\u001b[0m\u001b[0mspecial_matrices\u001b[0m \u001b[1;32mimport\u001b[0m \u001b[0mtriu\u001b[0m\u001b[1;33m\u001b[0m\u001b[1;33m\u001b[0m\u001b[0m\n\u001b[0m\u001b[0;32m     23\u001b[0m \u001b[1;32mfrom\u001b[0m \u001b[0mscipy\u001b[0m\u001b[1;33m.\u001b[0m\u001b[0mspecial\u001b[0m \u001b[1;32mimport\u001b[0m \u001b[0mpsi\u001b[0m  \u001b[1;31m# gamma function utils\u001b[0m\u001b[1;33m\u001b[0m\u001b[1;33m\u001b[0m\u001b[0m\n\u001b[0;32m     24\u001b[0m \u001b[1;33m\u001b[0m\u001b[0m\n",
      "\u001b[1;31mImportError\u001b[0m: cannot import name 'triu' from 'scipy.linalg.special_matrices' (c:\\users\\teramoto\\appdata\\local\\programs\\python\\python39\\lib\\site-packages\\scipy\\linalg\\special_matrices.py)"
     ]
    }
   ],
   "source": [
    "\n",
    "\n",
    "# データセット (例: {Twitter ID: Tweet})\n",
    "\n",
    "\n",
    "stop_words = stopwords.words('english')\n",
    "lemmatizer = WordNetLemmatizer()\n",
    "\n",
    "def preprocess(text):\n",
    "    text = re.sub(r'\\s+', ' ', text)  # 余分なスペースの削除\n",
    "    text = re.sub(r'[^a-zA-Z]', ' ', text)  # 数字や記号の削除\n",
    "    text = text.lower()  # 小文字化\n",
    "    words = text.split()\n",
    "    words = [lemmatizer.lemmatize(word) for word in words if word not in stop_words]\n",
    "    return words\n",
    "\n",
    "processed_docs = [preprocess(tweet) for tweet in CL_d.values()]\n",
    "\n",
    "# 辞書とコーパスの作成\n",
    "id2word = corpora.Dictionary(processed_docs)\n",
    "corpus = [id2word.doc2bow(doc) for doc in processed_docs]\n",
    "\n",
    "# トピック数の自動決定 (コヒーレンススコア)\n",
    "def compute_coherence_values(dictionary, corpus, texts, limit, start=2, step=1):\n",
    "    coherence_values = []\n",
    "    model_list = []\n",
    "    for num_topics in range(start, limit, step):\n",
    "        model = gensim.models.ldamodel.LdaModel(corpus=corpus,\n",
    "                                                id2word=dictionary,\n",
    "                                                num_topics=num_topics, \n",
    "                                                random_state=42,\n",
    "                                                update_every=1,\n",
    "                                                passes=10,\n",
    "                                                alpha='auto',\n",
    "                                                per_word_topics=True)\n",
    "        model_list.append(model)\n",
    "        coherencemodel = CoherenceModel(model=model, texts=texts, dictionary=dictionary, coherence='c_v')\n",
    "        coherence_values.append(coherencemodel.get_coherence())\n",
    "    return model_list, coherence_values\n",
    "\n",
    "model_list, coherence_values = compute_coherence_values(dictionary=id2word, corpus=corpus, texts=processed_docs, start=2, limit=15, step=1)\n",
    "\n",
    "# 最適なトピック数を選択\n",
    "optimal_model_index = np.argmax(coherence_values)\n",
    "optimal_model = model_list[optimal_model_index]\n",
    "optimal_num_topics = optimal_model_index + 2  # コヒーレンス計算時の開始トピック数が2の場合\n",
    "\n",
    "# 結果の表示\n",
    "print(f\"Optimal number of topics: {optimal_num_topics}\")\n",
    "topics = optimal_model.print_topics(num_words=5)\n",
    "for topic in topics:\n",
    "    print(topic)\n"
   ]
  },
  {
   "cell_type": "code",
   "execution_count": null,
   "id": "95a2f2d9",
   "metadata": {},
   "outputs": [],
   "source": []
  }
 ],
 "metadata": {
  "kernelspec": {
   "display_name": "Python 3 (ipykernel)",
   "language": "python",
   "name": "python3"
  },
  "language_info": {
   "codemirror_mode": {
    "name": "ipython",
    "version": 3
   },
   "file_extension": ".py",
   "mimetype": "text/x-python",
   "name": "python",
   "nbconvert_exporter": "python",
   "pygments_lexer": "ipython3",
   "version": "3.12.4"
  }
 },
 "nbformat": 4,
 "nbformat_minor": 5
}
