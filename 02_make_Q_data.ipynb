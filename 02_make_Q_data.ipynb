{
 "cells": [
  {
   "cell_type": "markdown",
   "id": "177fc234",
   "metadata": {},
   "source": [
    "### デフォルト自作関数"
   ]
  },
  {
   "cell_type": "code",
   "execution_count": 21,
   "id": "211b621e",
   "metadata": {},
   "outputs": [],
   "source": [
    "# 保存用\n",
    "import pickle\n",
    "def read_bin(filename):\n",
    "    with open(filename,'rb') as bf:\n",
    "        bin_data = pickle.load(bf)\n",
    "    return bin_data\n",
    "\n",
    "def save_bin(filename,data):\n",
    "    with open(filename,'wb') as bf:\n",
    "        pickle.dump(data,bf)"
   ]
  },
  {
   "cell_type": "code",
   "execution_count": 22,
   "id": "19892167",
   "metadata": {},
   "outputs": [],
   "source": [
    "# 時間取得関数\n",
    "from datetime import datetime, timedelta\n",
    "# https://qiita.com/haruka_kotani/items/0e2096cbd527015a2d96\n",
    "\n",
    "twitter_epoch = 1288834974657\n",
    "unix_epoch = 62135596800000\n",
    "timestamp_bits = 41\n",
    "timestamp_shift = 22\n",
    "timestamp_mask = (1 << timestamp_bits) - 1\n",
    "\n",
    "def get_datetime(tweet_id):\n",
    "    timestamp = ((tweet_id >> timestamp_shift) & timestamp_mask) + twitter_epoch + unix_epoch\n",
    "    tweet_datetime = datetime(1, 1, 1) + timedelta(milliseconds=timestamp)\n",
    "    return tweet_datetime"
   ]
  },
  {
   "cell_type": "markdown",
   "id": "0a46d2b2",
   "metadata": {},
   "source": [
    "### 24/7/2"
   ]
  },
  {
   "cell_type": "markdown",
   "id": "486b822f",
   "metadata": {},
   "source": [
    "## Questions for ditecting check-worth "
   ]
  },
  {
   "cell_type": "code",
   "execution_count": 4,
   "id": "59b7d43a",
   "metadata": {},
   "outputs": [],
   "source": [
    "Fragmentation=[\n",
    "    \"Does the message fit into a larger story or argument, for example about how the world works or how people think?\",\n",
    "    \"Does the message question trust in or the functioning of public institutions?\",\n",
    "    \"Does the message question trust in or the functioning of the scientific community as a whole?\",\n",
    "    \"Does the message question the functioning of or trust in news sources/ the media in general?\",\n",
    "    \"Does the message question the trustworthiness of other people in general within a community or society?\",\n",
    "    \"In a democratic country where there are elections, does the message directly attack the election process?\"\n",
    "]"
   ]
  },
  {
   "cell_type": "code",
   "execution_count": 5,
   "id": "d001795a",
   "metadata": {},
   "outputs": [],
   "source": [
    "Actionability=[\n",
    "    \"Does the message content include an explicit call to action?\",\n",
    "    \"Does the piece of content incorporate coordination efforts, such as dates/times or other arrangements for follow-up?\",\n",
    "    \"Does the message provide a name or otherwise any identifying information about an individual, an address, or a place of work in such a way that people might be directly harmed?\",\n",
    "    \"Does the message content include a tone of urgency or mention of time sensitivity?\",\n",
    "    \"Does the message content include any threats of violence?\",\n",
    "    \"Does the message lay blame or cast aspersions or hatred on a particular group, such as a particular religion, gender, sexual orientation, race, country, or culture, that has been harmed in the past by the audience of the content?\",\n",
    "    \"Does the message invoke a sense of injustice or moral outrage, including on behalf of a vulnerable individual or group such as children or women?\",\n",
    "    \"Does the direct target or current audience members directly addressed in the message have a recent history of taking actions that cause harm?\",\n",
    "    \"Is this message associated with/similar to other messages that are also actionable?\"\n",
    "]"
   ]
  },
  {
   "cell_type": "code",
   "execution_count": 6,
   "id": "74be6714",
   "metadata": {},
   "outputs": [],
   "source": [
    "Belivability=[\n",
    "    \"Is there a lack of high quality information that is publicly accessible and is refuting the message’s claim?\",\n",
    "    \"Is there a lack of consensus on the part of experts regarding the claim?\",\n",
    "    \"Does the message fail to include external citations, links, or language about evidence to support its claim?\",\n",
    "    \"Does the message contain richer formats as part of its evidence that lay people consider to have low falsifiability?\",\n",
    "    \"Does the message written or communicated in a personal or persuasive tone?\",\n",
    "    \"Does the message make reference to the broad believability of the claim or topic?\",\n",
    "    \"Does the message appeal to a specific community identity by mentioning a shared set of values or beliefs?\",\n",
    "    \"Does the poster and/or organization/outlet have a noteworthy number of social media/community followers?\",\n",
    "    \"Is the content published by an organization/outlet with uncertain editorial control (e.g., is not a recognized news publisher)?\",\n",
    "    \"Does the poster have credentials that represents some kind of expertise?\",\n",
    "    \"Is the content posted by an imposter individual or counterfeit outlet that could successfully pass as a different person/account based only upon a quick glance?\",\n",
    "    \"Does the content have the graphics and styling of a legitimate news agency or mainstream information source?\"\n",
    "]"
   ]
  },
  {
   "cell_type": "code",
   "execution_count": 7,
   "id": "5eec46dc",
   "metadata": {},
   "outputs": [],
   "source": [
    "Likelihood_of_Spread=[\n",
    "    \"Do the people or entities who are spreading the piece of content have a broad reach (size of following on social media, “influencer,” presence on TV or other news media)?\",\n",
    "    \"Are the people or entities known to be repeat spreaders of questionable information?\",\n",
    "    \"Is there evidence of coordination activity (whether bot/automated or not) to encourage spread?\",\n",
    "    \"Is the content publicly accessible (posted on a public platform, addressable URL)? Is the content posted on a popular platform?\",\n",
    "    \"Is the content spreading on multiple platforms?\",\n",
    "    \"Does one of the platforms upon which the content is shared have tools to support amplification (e.g., reshares, algorithmic feeds, recommendation engines)?\",\n",
    "    \"Does the message make direct appeals to audience members that it is in their financial, political, or social interest to spread the content further?\",\n",
    "    \"Does the message directly call audience members to share the content further?\",\n",
    "    \"Is the tone of the content striking enough in ways that encourage sharing?\",\n",
    "    \"Does the content contain an image, audio-clip, or other richer formats that are easy to remember, visually or aurally arresting, or seems interesting to share?\",\n",
    "    'Does the message impart a sense of exclusivity or novelty (\"breaking news\")?',\n",
    "    \"Are there hashtags associated with the message?\",\n",
    "    \"Is the message difficult to fact-check or prove false?\",\n",
    "    \"Is the message related to a current event or a topic that is being reported on actively by many news outlets?\"\n",
    "]"
   ]
  },
  {
   "cell_type": "code",
   "execution_count": 8,
   "id": "007830d2",
   "metadata": {},
   "outputs": [],
   "source": [
    "Exploitativeness=[\n",
    "    \"Does the message directly address or reference children or use language aimed at a younger audience?\",\n",
    "    \"Does the message introduce a degree of fear or feelings of uneasiness?\",\n",
    "    \"Is the message content complicated to understand?\",\n",
    "    \"Does the message directly address or reference elderly community members, or discuss topics aimed at them?\",\n",
    "    \"Does the message directly address or reference military veterans, or discuss topics aimed at them?\",\n",
    "    \"Does the message make mention of a reader’s feelings of isolation?\",\n",
    "    \"Does the message make mention of a reader’s feelings of powerlessness?\",\n",
    "    \"Does the message make mention of a reader’s feelings of disenfranchisement?\",\n",
    "    \"Is this message being shared by within an online group, community, or thread that has a recent history of discussing conspiracy theories or viral misinformation?\",\n",
    "    \"Is the language of the intended audience neither a UN language (English, French, Spanish, Mandarin Chinese, Russian) nor on the top 5 list of most popular languages?\",\n",
    "    \"Is the message presented in a region where the local context might amplify its harm?\"\n",
    "]"
   ]
  },
  {
   "cell_type": "code",
   "execution_count": 9,
   "id": "27d54f8c",
   "metadata": {},
   "outputs": [],
   "source": [
    "FABLE = Fragmentation+Actionability+Belivability+Likelihood_of_Spread+Exploitativeness"
   ]
  },
  {
   "cell_type": "code",
   "execution_count": 10,
   "id": "450581e3",
   "metadata": {},
   "outputs": [],
   "source": [
    "del Fragmentation,Actionability,Belivability,Likelihood_of_Spread,Exploitativeness"
   ]
  },
  {
   "cell_type": "code",
   "execution_count": 11,
   "id": "8bc8dcd9",
   "metadata": {},
   "outputs": [],
   "source": [
    "Important_Question_flag = [1,1,1,1,1,1,1,1,1,0,0,0,0,0,0,1,0,0,0,0,0,0,1,1,0,0,0,1,1,0,0,0,0,0,0,0,0,0,0,0,0,1,1,1,1,0,0,0,0,0,0,0]"
   ]
  },
  {
   "cell_type": "code",
   "execution_count": 12,
   "id": "945068f5",
   "metadata": {},
   "outputs": [],
   "source": [
    "save_bin(\"new_data/FABLE.bin\",FABLE)\n",
    "save_bin(\"new_data/Important_Question_flag.bin\",Important_Question_flag)"
   ]
  }
 ],
 "metadata": {
  "kernelspec": {
   "display_name": "Python 3",
   "language": "python",
   "name": "python3"
  },
  "language_info": {
   "codemirror_mode": {
    "name": "ipython",
    "version": 3
   },
   "file_extension": ".py",
   "mimetype": "text/x-python",
   "name": "python",
   "nbconvert_exporter": "python",
   "pygments_lexer": "ipython3",
   "version": "3.9.0"
  }
 },
 "nbformat": 4,
 "nbformat_minor": 5
}
